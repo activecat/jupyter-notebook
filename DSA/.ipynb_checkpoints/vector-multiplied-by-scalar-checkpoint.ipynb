{
 "cells": [
  {
   "cell_type": "raw",
   "id": "9b3b5f08",
   "metadata": {},
   "source": [
    "https://web.facebook.com/groups/python/permalink/958723798301518/\n",
    "\n",
    "Hello, could you help me to know how to multiply a dot product vector by a scalar, \n",
    "I am something new in python and I would like to learn. \n",
    "Example\n",
    "\n",
    "[2.4] * 2\n",
    "\n",
    "Rpt\n",
    " [4.8]\n",
    "\n",
    "But without using libraries, because I know that the \"NumPy\" library exists but I never understood how to do it without it, have a nice day."
   ]
  },
  {
   "cell_type": "code",
   "execution_count": 1,
   "id": "4c16651f",
   "metadata": {},
   "outputs": [
    {
     "data": {
      "text/plain": [
       "(6, 12)"
      ]
     },
     "execution_count": 1,
     "metadata": {},
     "output_type": "execute_result"
    }
   ],
   "source": [
    "# Solution\n",
    "A = (2, 4)  # Vector\n",
    "b = 3       # Scalar \n",
    "\n",
    "def dot(A, b):\n",
    "    return tuple(x * b for x in A)\n",
    "\n",
    "dot(A,b)"
   ]
  },
  {
   "cell_type": "code",
   "execution_count": null,
   "id": "c2bb0242",
   "metadata": {},
   "outputs": [],
   "source": []
  }
 ],
 "metadata": {
  "kernelspec": {
   "display_name": "Python 3",
   "language": "python",
   "name": "python3"
  },
  "language_info": {
   "codemirror_mode": {
    "name": "ipython",
    "version": 3
   },
   "file_extension": ".py",
   "mimetype": "text/x-python",
   "name": "python",
   "nbconvert_exporter": "python",
   "pygments_lexer": "ipython3",
   "version": "3.8.8"
  }
 },
 "nbformat": 4,
 "nbformat_minor": 5
}
