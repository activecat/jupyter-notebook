{
 "cells": [
  {
   "attachments": {},
   "cell_type": "markdown",
   "id": "ca5c8426",
   "metadata": {},
   "source": [
    "<h2>Hello, could you help me to know how to multiply a dot product vector by a scalar, </h2>\n",
    "<p>I am something new in python and I would like to learn.</p>\n",
    "<pre>\n",
    "Example:\n",
    "\n",
    "[2.4] * 2\n",
    "\n",
    "Rpt\n",
    " [4.8]\n",
    "</pre>\n",
    "<p>But without using libraries, because I know that the \"NumPy\" library exists but I never understood how to do it without it, have a nice day.</p>\n",
    "\n",
    "<p>Posted in <a href=\"https://web.facebook.com/groups/python/permalink/958723798301518/\">Python</a> group. </p>"
   ]
  },
  {
   "cell_type": "code",
   "execution_count": 1,
   "id": "4c16651f",
   "metadata": {},
   "outputs": [
    {
     "data": {
      "text/plain": [
       "(6, 12)"
      ]
     },
     "execution_count": 1,
     "metadata": {},
     "output_type": "execute_result"
    }
   ],
   "source": [
    "# Solution\n",
    "A = (2, 4)  # Vector\n",
    "b = 3       # Scalar \n",
    "\n",
    "def dot(A, b):\n",
    "    return tuple(x * b for x in A)\n",
    "\n",
    "dot(A,b)"
   ]
  },
  {
   "cell_type": "code",
   "execution_count": null,
   "id": "c2bb0242",
   "metadata": {},
   "outputs": [],
   "source": []
  }
 ],
 "metadata": {
  "kernelspec": {
   "display_name": "Python 3",
   "language": "python",
   "name": "python3"
  },
  "language_info": {
   "codemirror_mode": {
    "name": "ipython",
    "version": 3
   },
   "file_extension": ".py",
   "mimetype": "text/x-python",
   "name": "python",
   "nbconvert_exporter": "python",
   "pygments_lexer": "ipython3",
   "version": "3.8.8"
  }
 },
 "nbformat": 4,
 "nbformat_minor": 5
}
