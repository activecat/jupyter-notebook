{
 "metadata": {
  "language_info": {
   "codemirror_mode": {
    "name": "ipython",
    "version": 3
   },
   "file_extension": ".py",
   "mimetype": "text/x-python",
   "name": "python",
   "nbconvert_exporter": "python",
   "pygments_lexer": "ipython3",
   "version": "3.8.5"
  },
  "orig_nbformat": 2,
  "kernelspec": {
   "name": "python3",
   "display_name": "Python 3.8.5 64-bit",
   "metadata": {
    "interpreter": {
     "hash": "bb3667d25cea75d97cf6022c2f0b36aa031e10f7f624bb8de31851975fb6818b"
    }
   }
  }
 },
 "nbformat": 4,
 "nbformat_minor": 2,
 "cells": [
  {
   "cell_type": "code",
   "execution_count": 1,
   "metadata": {},
   "outputs": [],
   "source": [
    "# Says this is what you already have:\n",
    "data = [\n",
    "    {'First name': 'Yvonne', 'Year': '4'},\n",
    "    {'First name': 'Ammi', 'Year': '1'},\n",
    "    {'First name': 'Bryan', 'Year': '2'},\n",
    "    {'First name': 'Chiami', 'Year': '3'},\n",
    "]"
   ]
  },
  {
   "cell_type": "code",
   "execution_count": 2,
   "metadata": {},
   "outputs": [
    {
     "output_type": "stream",
     "name": "stdout",
     "text": [
      "{'Yvonne': '4', 'Ammi': '1', 'Bryan': '2', 'Chiami': '3'}\n"
     ]
    }
   ],
   "source": [
    " # Apply this Dictionary Comprehension:\n",
    " year = { x['First name']: x['Year'] for x in data }\n",
    " print(year)"
   ]
  },
  {
   "cell_type": "code",
   "execution_count": null,
   "metadata": {},
   "outputs": [],
   "source": []
  }
 ]
}