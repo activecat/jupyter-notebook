{
 "metadata": {
  "language_info": {
   "codemirror_mode": {
    "name": "ipython",
    "version": 3
   },
   "file_extension": ".py",
   "mimetype": "text/x-python",
   "name": "python",
   "nbconvert_exporter": "python",
   "pygments_lexer": "ipython3",
   "version": "3.8.5"
  },
  "orig_nbformat": 2,
  "kernelspec": {
   "name": "python3",
   "display_name": "Python 3.8.5 64-bit",
   "metadata": {
    "interpreter": {
     "hash": "bb3667d25cea75d97cf6022c2f0b36aa031e10f7f624bb8de31851975fb6818b"
    }
   }
  }
 },
 "nbformat": 4,
 "nbformat_minor": 2,
 "cells": [
  {
   "cell_type": "code",
   "execution_count": 1,
   "metadata": {},
   "outputs": [],
   "source": [
    "# Question: Please calculate how much money we need to pay for this purchase.\n",
    "purchase = {\n",
    "    'apple': { 'quantity': 2, 'price': 3 },\n",
    "    'banana': { 'quantity': 4, 'price': 5 },\n",
    "    'cherry': { 'quantity': 6, 'price': 7 },\n",
    "}"
   ]
  },
  {
   "cell_type": "code",
   "execution_count": 2,
   "metadata": {},
   "outputs": [
    {
     "output_type": "stream",
     "name": "stdout",
     "text": [
      "[6, 20, 42]\n"
     ]
    }
   ],
   "source": [
    "# Solution A:\n",
    "subtotal = [ value['quantity'] * value['price'] for key,value in purchase.items() ]\n",
    "print(subtotal)"
   ]
  },
  {
   "cell_type": "code",
   "execution_count": 3,
   "metadata": {},
   "outputs": [
    {
     "output_type": "execute_result",
     "data": {
      "text/plain": [
       "68"
      ]
     },
     "metadata": {},
     "execution_count": 3
    }
   ],
   "source": [
    "sum(subtotal)"
   ]
  },
  {
   "cell_type": "code",
   "execution_count": 4,
   "metadata": {},
   "outputs": [
    {
     "output_type": "stream",
     "name": "stdout",
     "text": [
      "68\n"
     ]
    }
   ],
   "source": [
    "# Solution B:\n",
    "total = 0\n",
    "for key, value in purchase.items():\n",
    "    total += value['quantity'] * value['price']\n",
    "\n",
    "print(total)    "
   ]
  },
  {
   "cell_type": "code",
   "execution_count": 5,
   "metadata": {},
   "outputs": [
    {
     "output_type": "stream",
     "name": "stdout",
     "text": [
      "[6, 20, 42]\n"
     ]
    }
   ],
   "source": [
    "# Testing 123\n",
    "subtotal = [ purchase[key]['quantity'] * purchase[key]['price'] for key in purchase]\n",
    "print(subtotal)"
   ]
  }
 ]
}