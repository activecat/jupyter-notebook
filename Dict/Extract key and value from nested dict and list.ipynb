{
 "cells": [
  {
   "cell_type": "code",
   "execution_count": 1,
   "id": "9dfbbce6",
   "metadata": {},
   "outputs": [],
   "source": [
    "# https://web.facebook.com/groups/python/permalink/1016704029170161/\n",
    "\n",
    "data = {\n",
    "    \"information\": [\n",
    "        {\n",
    "            \"users\": {\n",
    "                \"id\": 2222,\n",
    "                \"name\": \"John\",\n",
    "                \"last\": \"smith\" },\n",
    "            \"place\": \"New York\",\n",
    "            \"country\": \"USA\",\n",
    "            \"address\": [\"22nd, East Land Road\"],\n",
    "            \"Current_living\": \"Sweden\"\n",
    "        }\n",
    "    ]\n",
    "}"
   ]
  },
  {
   "cell_type": "code",
   "execution_count": 2,
   "id": "5aea841c",
   "metadata": {},
   "outputs": [
    {
     "data": {
      "text/plain": [
       "[{'name': 'John'}]"
      ]
     },
     "execution_count": 2,
     "metadata": {},
     "output_type": "execute_result"
    }
   ],
   "source": [
    "[{key:value for key,value in x[\"users\"].items() if key == \"name\"}  for x in data[\"information\"]]"
   ]
  },
  {
   "cell_type": "code",
   "execution_count": null,
   "id": "f7711298",
   "metadata": {},
   "outputs": [],
   "source": []
  }
 ],
 "metadata": {
  "kernelspec": {
   "display_name": "Python 3",
   "language": "python",
   "name": "python3"
  },
  "language_info": {
   "codemirror_mode": {
    "name": "ipython",
    "version": 3
   },
   "file_extension": ".py",
   "mimetype": "text/x-python",
   "name": "python",
   "nbconvert_exporter": "python",
   "pygments_lexer": "ipython3",
   "version": "3.8.8"
  }
 },
 "nbformat": 4,
 "nbformat_minor": 5
}
