{
 "cells": [
  {
   "cell_type": "markdown",
   "id": "91f12425",
   "metadata": {},
   "source": [
    "<h3>A question posted <a href=\"https://web.facebook.com/groups/python/posts/992592194914678\">here</a>.</h3>\n",
    "<pre>\n",
    "I want to remove empty values within a list inside a dictionary in python. \n",
    "\n",
    "Give me the best-optimized mechanism to achieve this required output.\n",
    "#sample_input\n",
    "mydir = {\n",
    "    \"p1\":[[0],[1],[1],[],[2],[],[0]],\n",
    "    \"p2\":[[2],[],[2],[]]\n",
    "}\n",
    "#required_output\n",
    "mydir = {\n",
    "    \"p1\":[0,1,1,2,0],\n",
    "    \"p2\":[2,2]\n",
    "}\n",
    "</pre>"
   ]
  },
  {
   "cell_type": "code",
   "execution_count": 1,
   "id": "70567bf6",
   "metadata": {},
   "outputs": [],
   "source": [
    "mydir = {\n",
    "    \"p1\":[[0],[1],[1],[],[2],[],[0]],\n",
    "    \"p2\":[[2],[],[2],[]]\n",
    "}"
   ]
  },
  {
   "cell_type": "code",
   "execution_count": 2,
   "id": "45bf0f50",
   "metadata": {},
   "outputs": [
    {
     "data": {
      "text/plain": [
       "{'p1': [0, 1, 1, 2, 0], 'p2': [2, 2]}"
      ]
     },
     "execution_count": 2,
     "metadata": {},
     "output_type": "execute_result"
    }
   ],
   "source": [
    "{k:[x[0] for x in v if x] for k,v in mydir.items()}"
   ]
  },
  {
   "cell_type": "code",
   "execution_count": null,
   "id": "32a60777",
   "metadata": {},
   "outputs": [],
   "source": []
  }
 ],
 "metadata": {
  "kernelspec": {
   "display_name": "Python 3",
   "language": "python",
   "name": "python3"
  },
  "language_info": {
   "codemirror_mode": {
    "name": "ipython",
    "version": 3
   },
   "file_extension": ".py",
   "mimetype": "text/x-python",
   "name": "python",
   "nbconvert_exporter": "python",
   "pygments_lexer": "ipython3",
   "version": "3.8.8"
  }
 },
 "nbformat": 4,
 "nbformat_minor": 5
}
