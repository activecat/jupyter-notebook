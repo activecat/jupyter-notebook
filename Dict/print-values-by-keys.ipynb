{
 "metadata": {
  "language_info": {
   "codemirror_mode": {
    "name": "ipython",
    "version": 3
   },
   "file_extension": ".py",
   "mimetype": "text/x-python",
   "name": "python",
   "nbconvert_exporter": "python",
   "pygments_lexer": "ipython3",
   "version": "3.8.5"
  },
  "orig_nbformat": 2,
  "kernelspec": {
   "name": "python385jvsc74a57bd0bb3667d25cea75d97cf6022c2f0b36aa031e10f7f624bb8de31851975fb6818b",
   "display_name": "Python 3.8.5 64-bit"
  }
 },
 "nbformat": 4,
 "nbformat_minor": 2,
 "cells": [
  {
   "cell_type": "code",
   "execution_count": 1,
   "metadata": {},
   "outputs": [],
   "source": [
    "# Question: From data given, how to print this:  \n",
    "#   \"Instagram a social media platform from United States with 346 followers.\" \n",
    "#   \"Cristiano Ronaldo a footballer from Portugal with 215 followers\"\n",
    "#    ...\n",
    "data = [\n",
    "    {\n",
    "        'name': 'Instagram',\n",
    "        'follower_count': 346,\n",
    "        'description': 'social media platform',\n",
    "        'country': 'United States',\n",
    "    },\n",
    "    {\n",
    "        'name': 'Cristiano Ronaldo',\n",
    "        'follower_count': 215,\n",
    "        'description': 'footballer',\n",
    "        'country': 'Portugal',\n",
    "    },\n",
    "    {\n",
    "        'name': 'Adriana Grande',\n",
    "        'follower_count': 183,\n",
    "        'description': 'musician and actress',\n",
    "        'country': 'United States',\n",
    "    },\n",
    "]"
   ]
  },
  {
   "cell_type": "code",
   "execution_count": 2,
   "metadata": {},
   "outputs": [
    {
     "output_type": "stream",
     "name": "stdout",
     "text": [
      "Instagram a social media platform from United States with 346 followers.\nCristiano Ronaldo a footballer from Portugal with 215 followers.\nAdriana Grande a musician and actress from United States with 183 followers.\n"
     ]
    }
   ],
   "source": [
    "# Solution:\n",
    "for x in data:\n",
    "    print(\"{name} a {description} from {country} with {follower_count} followers.\".format(**x))"
   ]
  },
  {
   "cell_type": "code",
   "execution_count": 3,
   "metadata": {},
   "outputs": [
    {
     "output_type": "stream",
     "name": "stdout",
     "text": [
      "Cristiano Ronaldo a footballer from Portugal with 215 followers\n"
     ]
    }
   ],
   "source": [
    "# Testing 123..\n",
    "print(\"{name} a {description} from {country} with {follower_count} followers\".format(**data[1]))"
   ]
  },
  {
   "cell_type": "code",
   "execution_count": null,
   "metadata": {},
   "outputs": [],
   "source": []
  }
 ]
}