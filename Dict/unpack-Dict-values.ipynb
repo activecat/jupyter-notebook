{
 "metadata": {
  "language_info": {
   "codemirror_mode": {
    "name": "ipython",
    "version": 3
   },
   "file_extension": ".py",
   "mimetype": "text/x-python",
   "name": "python",
   "nbconvert_exporter": "python",
   "pygments_lexer": "ipython3",
   "version": "3.8.5"
  },
  "orig_nbformat": 2,
  "kernelspec": {
   "name": "python385jvsc74a57bd0bb3667d25cea75d97cf6022c2f0b36aa031e10f7f624bb8de31851975fb6818b",
   "display_name": "Python 3.8.5 64-bit"
  }
 },
 "nbformat": 4,
 "nbformat_minor": 2,
 "cells": [
  {
   "cell_type": "code",
   "execution_count": 1,
   "metadata": {},
   "outputs": [
    {
     "output_type": "stream",
     "name": "stdout",
     "text": [
      "Monkey D. Luffy\n19\nGomu Gomu no Mi\nmeat\nHaoshoku, kenbonshoku, Busoshoku\n"
     ]
    }
   ],
   "source": [
    "# Question: How to print a Dictionary without too many print() ?\n",
    "pirate = {\n",
    "    'name': 'Monkey D. Luffy',\n",
    "    'age': 19,\n",
    "    'devil fruit': 'Gomu Gomu no Mi',\n",
    "    'likes': 'meat',\n",
    "    'haki': 'Haoshoku, kenbonshoku, Busoshoku',\n",
    "}\n",
    "print(pirate.get('name'))\n",
    "print(pirate.get('age'))\n",
    "print(pirate.get('devil fruit'))\n",
    "print(pirate.get('likes'))\n",
    "print(pirate.get('haki'))"
   ]
  },
  {
   "cell_type": "code",
   "execution_count": 2,
   "metadata": {},
   "outputs": [
    {
     "output_type": "stream",
     "name": "stdout",
     "text": [
      "Monkey D. Luffy\n19\nGomu Gomu no Mi\nmeat\nHaoshoku, kenbonshoku, Busoshoku\n"
     ]
    }
   ],
   "source": [
    "# Solution:\n",
    "print(*pirate.values(), sep=\"\\n\")"
   ]
  },
  {
   "cell_type": "code",
   "execution_count": null,
   "metadata": {},
   "outputs": [],
   "source": []
  }
 ]
}