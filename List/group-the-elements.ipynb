{
 "metadata": {
  "language_info": {
   "codemirror_mode": {
    "name": "ipython",
    "version": 3
   },
   "file_extension": ".py",
   "mimetype": "text/x-python",
   "name": "python",
   "nbconvert_exporter": "python",
   "pygments_lexer": "ipython3",
   "version": "3.8.5"
  },
  "orig_nbformat": 2,
  "kernelspec": {
   "name": "python3",
   "display_name": "Python 3.8.5 64-bit",
   "metadata": {
    "interpreter": {
     "hash": "bb3667d25cea75d97cf6022c2f0b36aa031e10f7f624bb8de31851975fb6818b"
    }
   }
  }
 },
 "nbformat": 4,
 "nbformat_minor": 2,
 "cells": [
  {
   "cell_type": "code",
   "execution_count": 1,
   "metadata": {},
   "outputs": [],
   "source": [
    "# Question:  How to do?\n",
    "#  input  = [1, 0, 0, 1, 1, 1, 0, 1, 1, 0, 1]\n",
    "#  output = [[1], [1, 1, 1], [1, 1], [1]]"
   ]
  },
  {
   "cell_type": "code",
   "execution_count": 2,
   "metadata": {},
   "outputs": [],
   "source": [
    "# Solution:\n",
    "input = [1, 0, 0, 1, 1, 1, 0, 1, 1, 0, 1]\n",
    "output = []\n",
    "temp = []\n",
    "for x in input:\n",
    "    if x:\n",
    "        temp.append(x)\n",
    "    elif temp:\n",
    "            output.append(temp)\n",
    "            temp = []\n",
    "if temp:\n",
    "    output.append(temp)        "
   ]
  },
  {
   "cell_type": "code",
   "execution_count": 3,
   "metadata": {},
   "outputs": [
    {
     "output_type": "stream",
     "name": "stdout",
     "text": [
      "[[1], [1, 1, 1], [1, 1], [1]]\n"
     ]
    }
   ],
   "source": [
    "print(output)"
   ]
  },
  {
   "cell_type": "code",
   "execution_count": 6,
   "metadata": {},
   "outputs": [
    {
     "output_type": "stream",
     "name": "stdout",
     "text": [
      "Inside: temp=[1]\nInside: temp=[]\nInside: temp=[1, 1, 1]\nInside: temp=[1, 1]\nOutside: temp=[1]\n"
     ]
    }
   ],
   "source": [
    "# For explanation\n",
    "input = [1, 0, 0, 1, 1, 1, 0, 1, 1, 0, 1]\n",
    "output = []\n",
    "temp = []\n",
    "for x in input:\n",
    "    if x:\n",
    "        temp.append(x)\n",
    "    else:\n",
    "        print(\"Inside: temp={}\".format(temp))\n",
    "        temp=[]\n",
    "\n",
    "print(\"Outside: temp={}\".format(temp))\n",
    "temp=[]\n"
   ]
  },
  {
   "cell_type": "code",
   "execution_count": 5,
   "metadata": {},
   "outputs": [],
   "source": [
    "# # Solution by Abubakar Usman Tar (with fundamental errors)\n",
    "# def function (input):\n",
    "#     output = []\n",
    "#     index = 0\n",
    "#     while input[0] == 0:\n",
    "#         input.remove(0)\n",
    "#     for element in range(0, len(input)-1):\n",
    "#         if input[element] == 1:\n",
    "#             output[index] = []\n",
    "#             output[index].append(1)\n",
    "#         if input[element] == 0 and input[element+1] == 1:\n",
    "#             index +=1\n",
    "# function([1, 0, 0, 1, 1, 1, 0, 1, 1, 0, 1])                "
   ]
  }
 ]
}