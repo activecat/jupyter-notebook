{
 "cells": [
  {
   "cell_type": "code",
   "execution_count": 1,
   "id": "7e6a2a86",
   "metadata": {},
   "outputs": [
    {
     "name": "stdout",
     "output_type": "stream",
     "text": [
      "[1, 2, 3, 4, 5, 6, 7, 8]\n"
     ]
    }
   ],
   "source": [
    "l = list(range(1,9))\n",
    "print(l)"
   ]
  },
  {
   "cell_type": "code",
   "execution_count": 2,
   "id": "acf79203",
   "metadata": {},
   "outputs": [
    {
     "data": {
      "text/plain": [
       "['Target=0:  ',\n",
       " 'Target=1:  ',\n",
       " 'Target=2:  ',\n",
       " 'Target=3:  1+2',\n",
       " 'Target=4:  1+3',\n",
       " 'Target=5:  1+4, 2+3',\n",
       " 'Target=6:  1+5, 2+4',\n",
       " 'Target=7:  1+6, 2+5, 3+4',\n",
       " 'Target=8:  1+7, 2+6, 3+5',\n",
       " 'Target=9:  1+8, 2+7, 3+6, 4+5']"
      ]
     },
     "execution_count": 2,
     "metadata": {},
     "output_type": "execute_result"
    }
   ],
   "source": [
    "def func(target):\n",
    "    combinations = []\n",
    "    for i in range(len(l)):\n",
    "        for j in range(i+1, len(l)):\n",
    "            if l[i] + l[j] == target:\n",
    "                combinations.append(\"{}+{}\".format(l[i], l[j]))\n",
    "    return \"Target={}:  \".format(target) + ', '.join(combinations)\n",
    "            \n",
    "\n",
    "[func(i) for i in range(10)]"
   ]
  },
  {
   "cell_type": "code",
   "execution_count": null,
   "id": "26a1f9b0",
   "metadata": {},
   "outputs": [],
   "source": []
  }
 ],
 "metadata": {
  "kernelspec": {
   "display_name": "Python 3",
   "language": "python",
   "name": "python3"
  },
  "language_info": {
   "codemirror_mode": {
    "name": "ipython",
    "version": 3
   },
   "file_extension": ".py",
   "mimetype": "text/x-python",
   "name": "python",
   "nbconvert_exporter": "python",
   "pygments_lexer": "ipython3",
   "version": "3.8.8"
  }
 },
 "nbformat": 4,
 "nbformat_minor": 5
}
