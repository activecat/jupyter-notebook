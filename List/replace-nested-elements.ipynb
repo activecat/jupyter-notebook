{
 "cells": [
  {
   "cell_type": "markdown",
   "id": "e93103d8",
   "metadata": {},
   "source": [
    "<h2><a href=\"https://web.facebook.com/groups/python/posts/978710346302863\">Question</a></h2>\n",
    "<pre>\n",
    "m = [[0,0,0],[0,0,0],[0,0,0]]\n",
    "#output:m = [[1,1,1],[1,1,1],[1,1,1]]\n",
    "Any idea ??\n",
    "</pre>"
   ]
  },
  {
   "cell_type": "code",
   "execution_count": 1,
   "id": "15768a35",
   "metadata": {},
   "outputs": [],
   "source": [
    "# Step 1: Define the function\n",
    "def func2(x):\n",
    "    return 1 if type(x) == int else [func2(y) for y in x]"
   ]
  },
  {
   "cell_type": "code",
   "execution_count": 2,
   "id": "06efe2df",
   "metadata": {},
   "outputs": [
    {
     "data": {
      "text/plain": [
       "[[1, 1, 1], [1, 1, 1], [1, 1, 1]]"
      ]
     },
     "execution_count": 2,
     "metadata": {},
     "output_type": "execute_result"
    }
   ],
   "source": [
    "# Step 2: Apply the function\n",
    "m = [[0,0,0],[0,0,0],[0,0,0]]\n",
    "\n",
    "func2(m)"
   ]
  },
  {
   "cell_type": "code",
   "execution_count": 3,
   "id": "a2c2a1db",
   "metadata": {},
   "outputs": [],
   "source": [
    "# This is same with above.\n",
    "def func2(x):\n",
    "    if type(x) == int:\n",
    "        return 1\n",
    "    \n",
    "    elif type(x) == list:\n",
    "        return [func2(y) for y in x]\n",
    "    \n",
    "    else:\n",
    "        raise Exception()"
   ]
  }
 ],
 "metadata": {
  "kernelspec": {
   "display_name": "Python 3",
   "language": "python",
   "name": "python3"
  },
  "language_info": {
   "codemirror_mode": {
    "name": "ipython",
    "version": 3
   },
   "file_extension": ".py",
   "mimetype": "text/x-python",
   "name": "python",
   "nbconvert_exporter": "python",
   "pygments_lexer": "ipython3",
   "version": "3.8.8"
  }
 },
 "nbformat": 4,
 "nbformat_minor": 5
}
