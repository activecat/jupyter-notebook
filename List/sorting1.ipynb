{
 "cells": [
  {
   "cell_type": "markdown",
   "id": "0cb73186",
   "metadata": {},
   "source": [
    "# Question\n",
    "Input= ['UST abc', 'Bangalore cab', 'Global bac']\n",
    "\n",
    "Output=['UST abc', , 'Global bac' ,'Bangalore cab']\n",
    "\n",
    "How to print sort after space word in a list?"
   ]
  },
  {
   "cell_type": "code",
   "execution_count": 1,
   "id": "98dffc99",
   "metadata": {},
   "outputs": [
    {
     "data": {
      "text/plain": [
       "['UST abc', 'Global bac', 'Bangalore cab']"
      ]
     },
     "execution_count": 1,
     "metadata": {},
     "output_type": "execute_result"
    }
   ],
   "source": [
    "data = ['UST abc', 'Bangalore cab', 'Global bac']\n",
    "\n",
    "# 1). To sort in descending order\n",
    "data.sort(reverse=True)\n",
    "data"
   ]
  },
  {
   "cell_type": "code",
   "execution_count": 2,
   "id": "f69d1498",
   "metadata": {},
   "outputs": [
    {
     "data": {
      "text/plain": [
       "['abc', 'cab', 'bac']"
      ]
     },
     "execution_count": 2,
     "metadata": {},
     "output_type": "execute_result"
    }
   ],
   "source": [
    "# 2). To get the second word\n",
    "def second_word(x):\n",
    "    return x.split()[1]\n",
    "\n",
    "data = ['UST abc', 'Bangalore cab', 'Global bac']\n",
    "[second_word(x) for x in data]"
   ]
  },
  {
   "cell_type": "code",
   "execution_count": 3,
   "id": "93488288",
   "metadata": {},
   "outputs": [
    {
     "data": {
      "text/plain": [
       "['UST abc', 'Global bac', 'Bangalore cab']"
      ]
     },
     "execution_count": 3,
     "metadata": {},
     "output_type": "execute_result"
    }
   ],
   "source": [
    "# 3). To sort as according to the second word \n",
    "data.sort(key=second_word)\n",
    "data"
   ]
  }
 ],
 "metadata": {
  "interpreter": {
   "hash": "bb3667d25cea75d97cf6022c2f0b36aa031e10f7f624bb8de31851975fb6818b"
  },
  "kernelspec": {
   "display_name": "Python 3",
   "language": "python",
   "name": "python3"
  },
  "language_info": {
   "codemirror_mode": {
    "name": "ipython",
    "version": 3
   },
   "file_extension": ".py",
   "mimetype": "text/x-python",
   "name": "python",
   "nbconvert_exporter": "python",
   "pygments_lexer": "ipython3",
   "version": "3.8.8"
  }
 },
 "nbformat": 4,
 "nbformat_minor": 5
}
