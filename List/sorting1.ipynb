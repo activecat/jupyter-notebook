{
 "cells": [
  {
   "cell_type": "markdown",
   "id": "0cb73186",
   "metadata": {},
   "source": [
    "# Question\n",
    "Input= ['UST abc', 'Bangalore cab', 'Global bac']\n",
    "\n",
    "Output=['UST abc', , 'Global bac' ,'Bangalore cab']\n",
    "\n",
    "How to print sort after space word in a list?"
   ]
  },
  {
   "cell_type": "code",
   "execution_count": 1,
   "id": "98dffc99",
   "metadata": {},
   "outputs": [
    {
     "output_type": "execute_result",
     "data": {
      "text/plain": [
       "['UST abc', 'Global bac', 'Bangalore cab']"
      ]
     },
     "metadata": {},
     "execution_count": 1
    }
   ],
   "source": [
    "data = ['UST abc', 'Bangalore cab', 'Global bac']\n",
    "data.sort(reverse=True)\n",
    "data"
   ]
  }
 ],
 "metadata": {
  "kernelspec": {
   "name": "python3",
   "display_name": "Python 3.8.5 64-bit"
  },
  "language_info": {
   "codemirror_mode": {
    "name": "ipython",
    "version": 3
   },
   "file_extension": ".py",
   "mimetype": "text/x-python",
   "name": "python",
   "nbconvert_exporter": "python",
   "pygments_lexer": "ipython3",
   "version": "3.8.5"
  },
  "interpreter": {
   "hash": "bb3667d25cea75d97cf6022c2f0b36aa031e10f7f624bb8de31851975fb6818b"
  }
 },
 "nbformat": 4,
 "nbformat_minor": 5
}