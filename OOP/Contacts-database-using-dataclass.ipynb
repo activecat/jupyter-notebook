{
 "cells": [
  {
   "cell_type": "markdown",
   "id": "591e3c96",
   "metadata": {},
   "source": [
    "#### https://web.facebook.com/activecat/posts/6515028961856250:17\n",
    "Create a program that reads and stores name, email, phone, gender and age of various\n",
    "people, storing each person's data in a dictionary and all dictionaries in\n",
    "a list. Your program must be able to interact with the user, displaying various\n",
    "query possibilities in the form of a menu of options so that he can choose the\n",
    "function you want to perform. Among the possibilities of functions, the user can be\n",
    "interested in:\n",
    "1. Register a new contact;\n",
    "2. Consult a specific contact;\n",
    "3. Change the data of any contact;\n",
    "4. Delete a particular contact;\n",
    "5. Find out how many people were registered;\n",
    "6. Find out the average age of people;\n",
    "7. Print a list with the women who are registered on the agenda;\n",
    "8. Print a list with the men who are registered in the agenda;\n",
    "9. Print a list of people over a certain age (by\n",
    "example, print a list of people over 18);\n",
    "10. Print a list of registered emails;\n",
    "does anyone know how to do it?"
   ]
  },
  {
   "cell_type": "code",
   "execution_count": 31,
   "id": "f7a2a779",
   "metadata": {},
   "outputs": [
    {
     "name": "stdout",
     "output_type": "stream",
     "text": [
      "__main__\n"
     ]
    }
   ],
   "source": [
    "print(__name__)"
   ]
  },
  {
   "cell_type": "code",
   "execution_count": 28,
   "id": "2dbd6ad9",
   "metadata": {},
   "outputs": [],
   "source": [
    "from dataclasses import dataclass  # https://docs.python.org/3/library/dataclasses.html\n",
    "\n",
    "@dataclass\n",
    "class Contact:\n",
    "    name: str \n",
    "    email: str = ''\n",
    "    phone: str = ''\n",
    "    gender: str = 'Unknown' # <-- Todo: Change this to enum type.\n",
    "    age: int = 0"
   ]
  },
  {
   "cell_type": "code",
   "execution_count": 30,
   "id": "09472848",
   "metadata": {},
   "outputs": [],
   "source": [
    "class Agenda:\n",
    "    contacts = []\n",
    "    \n",
    "    def consult(name, field):\n",
    "        for x in Contact.all:\n",
    "            if x.name == name:\n",
    "                return x.__getattribute__(field)            \n",
    "        raise Exception(\"Contact not found: {}\".format(name))\n",
    "        \n",
    "        \n",
    "    def change(name, field, data):\n",
    "        for x in Contact.all:\n",
    "            if x.name == name:\n",
    "                x.__setattr__(field, data)\n",
    "                return\n",
    "        raise Exception(\"Contact not found: {}\".format(name))\n",
    "        \n",
    "        \n",
    "    def delete(name):\n",
    "        for x in Contact.all:\n",
    "            if x.name == name:\n",
    "                Contact.all.remove(x)\n",
    "                return\n",
    "        raise Exception(\"Contact not found: {}\".format(name))\n",
    "                \n",
    "\n",
    "    def count():\n",
    "        return len(Contact.all)\n",
    "    \n",
    "    \n",
    "    def average_age():\n",
    "        count = Contact.count()\n",
    "        age_sum = sum([x.age for x in Contact.all])\n",
    "        return age_sum / count\n",
    "            \n",
    "        \n",
    "#     ## instance methods ## ------------------------------------\n",
    "    \n",
    "#     def __init__(self, name, email, phone, gender, age):\n",
    "#         self.name, self.email, self.phone, self.gender, self.age = name, email, phone, gender, age\n",
    "#         Contact.all.append(self)\n",
    "\n",
    "#     def __str__(self):\n",
    "#         return \"{} {}-{}\".format(self.name, self.gender, self.age)"
   ]
  },
  {
   "cell_type": "code",
   "execution_count": 27,
   "id": "7b1d84d1",
   "metadata": {},
   "outputs": [
    {
     "data": {
      "text/plain": [
       "[Contact(name='John', email='john@gmail.com', phone='+60123334138', gender='M', age=17),\n",
       " Contact(name='Angel', email='angel@yahoo.com', phone='+5433 214 229', gender='F', age=23),\n",
       " Contact(name='Danny', email='danny@hotmail.com', phone='+065229 776', gender='M', age=52),\n",
       " Contact(name='Lisa', email='lisa@jobstreet.com', phone='+02 7288 9944', gender='F', age=32),\n",
       " Contact(name='Jennifer', email='jennifer@gmail.com', phone='+606 528 2233', gender='F', age=12)]"
      ]
     },
     "execution_count": 27,
     "metadata": {},
     "output_type": "execute_result"
    }
   ],
   "source": [
    "# 1). To register new contacts      \n",
    "p1 = Contact(\"John\", \"john@gmail.com\", \"+60123334138\", \"M\", 17)     \n",
    "p2 = Contact(\"Angel\", \"angel@yahoo.com\", \"+5433 214 229\", \"F\", 23)\n",
    "p3 = Contact(\"Danny\", \"danny@hotmail.com\", \"+065229 776\", \"M\", 52)\n",
    "p4 = Contact(\"Lisa\", \"lisa@jobstreet.com\", \"+02 7288 9944\", \"F\", 32)\n",
    "p5 = Contact(\"Jennifer\", \"jennifer@gmail.com\", \"+606 528 2233\", \"F\", 12)\n",
    "\n",
    "# 2). To store them,\n",
    "all_contacts = [p1, p2, p3, p4, p5]\n",
    "\n",
    "# To list all contacts\n",
    "[x for x in all_contacts]"
   ]
  },
  {
   "cell_type": "code",
   "execution_count": 3,
   "id": "2ac3c431",
   "metadata": {},
   "outputs": [
    {
     "name": "stdout",
     "output_type": "stream",
     "text": [
      "Angel's email: angel@yahoo.com\n"
     ]
    }
   ],
   "source": [
    "# 2). To consult a specific contact\n",
    "print(\"Angel's email:\", Contact.consult(\"Angel\", \"email\"))"
   ]
  },
  {
   "cell_type": "code",
   "execution_count": 4,
   "id": "7217d1f8",
   "metadata": {},
   "outputs": [
    {
     "name": "stdout",
     "output_type": "stream",
     "text": [
      "Email has been changed to newAngel@yahoo.com\n"
     ]
    }
   ],
   "source": [
    "# 3). To change the data of any contact\n",
    "Contact.change(\"Angel\", \"email\", \"newAngel@yahoo.com\")\n",
    "\n",
    "print(\"Email has been changed to\", Contact.consult(\"Angel\", \"email\"))"
   ]
  },
  {
   "cell_type": "code",
   "execution_count": 5,
   "id": "7bcdba2c",
   "metadata": {},
   "outputs": [
    {
     "name": "stdout",
     "output_type": "stream",
     "text": [
      "After deleting Angel: ['John M-17', 'Angel F-23', 'Danny M-52', 'Jennifer F-12']\n"
     ]
    }
   ],
   "source": [
    "# 4). To delete a particular contact\n",
    "Contact.delete(\"Lisa\")\n",
    "print(\"After deleting Angel:\", Contact.get_all())"
   ]
  },
  {
   "cell_type": "code",
   "execution_count": 6,
   "id": "34f3f0fc",
   "metadata": {},
   "outputs": [
    {
     "name": "stdout",
     "output_type": "stream",
     "text": [
      "Count: 4\n"
     ]
    }
   ],
   "source": [
    "# 5). To find out how many people have registered,\n",
    "print(\"Count:\", Contact.count())"
   ]
  },
  {
   "cell_type": "code",
   "execution_count": 7,
   "id": "035047c6",
   "metadata": {},
   "outputs": [
    {
     "name": "stdout",
     "output_type": "stream",
     "text": [
      "Average age is 26.0\n"
     ]
    }
   ],
   "source": [
    "# 6). Average age,\n",
    "print(\"Average age is\", Contact.average_age())"
   ]
  },
  {
   "cell_type": "code",
   "execution_count": 8,
   "id": "01c66e74",
   "metadata": {},
   "outputs": [
    {
     "name": "stdout",
     "output_type": "stream",
     "text": [
      "Women: ['Angel', 'Jennifer']\n"
     ]
    }
   ],
   "source": [
    "# 7). Women registered on the agenda;\n",
    "print(\"Women:\", [ x.name for x in Contact.all if x.gender == 'F'])"
   ]
  },
  {
   "cell_type": "code",
   "execution_count": 9,
   "id": "f7b9e369",
   "metadata": {},
   "outputs": [
    {
     "name": "stdout",
     "output_type": "stream",
     "text": [
      "Women: ['John', 'Danny']\n"
     ]
    }
   ],
   "source": [
    "# 8). Men registered on the agenda;\n",
    "print(\"Women:\", [ x.name for x in Contact.all if x.gender == 'M'])"
   ]
  },
  {
   "cell_type": "code",
   "execution_count": 10,
   "id": "51c96712",
   "metadata": {},
   "outputs": [
    {
     "name": "stdout",
     "output_type": "stream",
     "text": [
      "Over 18: ['Angel', 'Danny']\n"
     ]
    }
   ],
   "source": [
    "# 9). List of people over 18\n",
    "print(\"Over 18:\", [x.name for x in Contact.all if x.age > 18])"
   ]
  },
  {
   "cell_type": "code",
   "execution_count": 11,
   "id": "33f6f0fc",
   "metadata": {},
   "outputs": [
    {
     "name": "stdout",
     "output_type": "stream",
     "text": [
      "All emails: ['john@gmail.com', 'newAngel@yahoo.com', 'danny@hotmail.com', 'jennifer@gmail.com']\n"
     ]
    }
   ],
   "source": [
    "# 10). List of registered emails\n",
    "print(\"All emails:\", [x.email for x in Contact.all])"
   ]
  }
 ],
 "metadata": {
  "kernelspec": {
   "display_name": "Python 3",
   "language": "python",
   "name": "python3"
  },
  "language_info": {
   "codemirror_mode": {
    "name": "ipython",
    "version": 3
   },
   "file_extension": ".py",
   "mimetype": "text/x-python",
   "name": "python",
   "nbconvert_exporter": "python",
   "pygments_lexer": "ipython3",
   "version": "3.8.8"
  }
 },
 "nbformat": 4,
 "nbformat_minor": 5
}
