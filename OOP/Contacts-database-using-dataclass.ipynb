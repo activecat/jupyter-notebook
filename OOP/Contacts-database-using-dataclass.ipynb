{
 "cells": [
  {
   "cell_type": "markdown",
   "id": "591e3c96",
   "metadata": {},
   "source": [
    "#### https://web.facebook.com/activecat/posts/6515028961856250:17\n",
    "Create a program that reads and stores name, email, phone, gender and age of various\n",
    "people, storing each person's data in a dictionary and all dictionaries in\n",
    "a list. Your program must be able to interact with the user, displaying various\n",
    "query possibilities in the form of a menu of options so that he can choose the\n",
    "function you want to perform. Among the possibilities of functions, the user can be\n",
    "interested in:\n",
    "1. Register a new contact;\n",
    "2. Consult a specific contact;\n",
    "3. Change the data of any contact;\n",
    "4. Delete a particular contact;\n",
    "5. Find out how many people were registered;\n",
    "6. Find out the average age of people;\n",
    "7. Print a list with the women who are registered on the agenda;\n",
    "8. Print a list with the men who are registered in the agenda;\n",
    "9. Print a list of people over a certain age (by\n",
    "example, print a list of people over 18);\n",
    "10. Print a list of registered emails;\n",
    "does anyone know how to do it?"
   ]
  },
  {
   "cell_type": "code",
   "execution_count": 1,
   "id": "09472848",
   "metadata": {},
   "outputs": [],
   "source": [
    "from dataclasses import dataclass  # https://docs.python.org/3/library/dataclasses.html\n",
    "class Agenda:\n",
    "\n",
    "    # An inner class (or nested class)\n",
    "    @dataclass\n",
    "    class Contact:\n",
    "        name: str \n",
    "        email: str = ''\n",
    "        phone: str = ''\n",
    "        gender: str = 'Unknown' # <-- Todo: Change this to enum type.\n",
    "        age: int = 0\n",
    "                \n",
    "                \n",
    "    def __init__(self):\n",
    "        self.contacts = []  # Contain all instances of Contact.\n",
    "    \n",
    "    \n",
    "    def consult(self, name):\n",
    "        for x in self.contacts:\n",
    "            if x.name == name:\n",
    "                return x\n",
    "        raise Exception(\"Contact not found: {}\".format(name))\n",
    "        \n",
    "        \n",
    "    def change(self, name, field, data):\n",
    "        for x in self.contacts:\n",
    "            if x.name == name:\n",
    "                x.__setattr__(field, data)\n",
    "                return\n",
    "        raise Exception(\"Contact not found: {}\".format(name))\n",
    "        \n",
    "        \n",
    "    def delete(self, name):\n",
    "        for x in self.contacts:\n",
    "            if x.name == name:\n",
    "                self.contacts.remove(x)\n",
    "                return\n",
    "        raise Exception(\"Contact not found: {}\".format(name))\n",
    "                \n",
    "\n",
    "    def count(self):\n",
    "        return len(self.contacts)\n",
    "    \n",
    "    \n",
    "    def average_age(self):\n",
    "        return sum([x.age for x in self.contacts]) / self.count()\n",
    "            \n",
    "        \n",
    "    def init(self):\n",
    "        p1 = self.Contact(\"John\", \"john@gmail.com\", \"+60123334138\", \"M\", 17)     \n",
    "        p2 = self.Contact(\"Angel\", \"angel@yahoo.com\", \"+5433 214 229\", \"F\", 23)\n",
    "        p3 = self.Contact(\"Danny\", \"danny@hotmail.com\", \"+065229 776\", \"M\", 52)\n",
    "        p4 = self.Contact(\"Lisa\", \"lisa@jobstreet.com\", \"+02 7288 9944\", \"F\", 32)\n",
    "        p5 = self.Contact(\"Jennifer\", \"jennifer@gmail.com\", \"+606 528 2233\", \"F\", 12)    \n",
    "        self.contacts = [p1, p2, p3, p4, p5]"
   ]
  },
  {
   "cell_type": "code",
   "execution_count": 2,
   "id": "ef182b05",
   "metadata": {},
   "outputs": [
    {
     "data": {
      "text/plain": [
       "[Agenda.Contact(name='John', email='john@gmail.com', phone='+60123334138', gender='M', age=17),\n",
       " Agenda.Contact(name='Angel', email='angel@yahoo.com', phone='+5433 214 229', gender='F', age=23),\n",
       " Agenda.Contact(name='Danny', email='danny@hotmail.com', phone='+065229 776', gender='M', age=52),\n",
       " Agenda.Contact(name='Lisa', email='lisa@jobstreet.com', phone='+02 7288 9944', gender='F', age=32),\n",
       " Agenda.Contact(name='Jennifer', email='jennifer@gmail.com', phone='+606 528 2233', gender='F', age=12)]"
      ]
     },
     "execution_count": 2,
     "metadata": {},
     "output_type": "execute_result"
    }
   ],
   "source": [
    "# 1). To initialize\n",
    "a1 = Agenda()\n",
    "a1.init()\n",
    "\n",
    "# To verify\n",
    "a1.contacts"
   ]
  },
  {
   "cell_type": "code",
   "execution_count": 3,
   "id": "2ac3c431",
   "metadata": {},
   "outputs": [
    {
     "data": {
      "text/plain": [
       "Agenda.Contact(name='Angel', email='angel@yahoo.com', phone='+5433 214 229', gender='F', age=23)"
      ]
     },
     "execution_count": 3,
     "metadata": {},
     "output_type": "execute_result"
    }
   ],
   "source": [
    "# 2). To consult a specific contact\n",
    "a1.consult(\"Angel\")"
   ]
  },
  {
   "cell_type": "code",
   "execution_count": 4,
   "id": "7217d1f8",
   "metadata": {},
   "outputs": [
    {
     "data": {
      "text/plain": [
       "Agenda.Contact(name='Angel', email='newAngel@yahoo.com', phone='+5433 214 229', gender='F', age=23)"
      ]
     },
     "execution_count": 4,
     "metadata": {},
     "output_type": "execute_result"
    }
   ],
   "source": [
    "# 3). To change the data of any contact\n",
    "a1.change(\"Angel\", \"email\", \"newAngel@yahoo.com\")\n",
    "\n",
    "# To verify,\n",
    "a1.consult(\"Angel\")"
   ]
  },
  {
   "cell_type": "code",
   "execution_count": 5,
   "id": "7bcdba2c",
   "metadata": {},
   "outputs": [
    {
     "data": {
      "text/plain": [
       "[Agenda.Contact(name='John', email='john@gmail.com', phone='+60123334138', gender='M', age=17),\n",
       " Agenda.Contact(name='Angel', email='newAngel@yahoo.com', phone='+5433 214 229', gender='F', age=23),\n",
       " Agenda.Contact(name='Danny', email='danny@hotmail.com', phone='+065229 776', gender='M', age=52),\n",
       " Agenda.Contact(name='Jennifer', email='jennifer@gmail.com', phone='+606 528 2233', gender='F', age=12)]"
      ]
     },
     "execution_count": 5,
     "metadata": {},
     "output_type": "execute_result"
    }
   ],
   "source": [
    "# 4). To delete a particular contact\n",
    "a1.delete(\"Lisa\")\n",
    "\n",
    "# To verify,\n",
    "a1.contacts"
   ]
  },
  {
   "cell_type": "code",
   "execution_count": 6,
   "id": "34f3f0fc",
   "metadata": {},
   "outputs": [
    {
     "data": {
      "text/plain": [
       "4"
      ]
     },
     "execution_count": 6,
     "metadata": {},
     "output_type": "execute_result"
    }
   ],
   "source": [
    "# 5). To find out how many people have registered,\n",
    "a1.count()"
   ]
  },
  {
   "cell_type": "code",
   "execution_count": 7,
   "id": "035047c6",
   "metadata": {},
   "outputs": [
    {
     "data": {
      "text/plain": [
       "26.0"
      ]
     },
     "execution_count": 7,
     "metadata": {},
     "output_type": "execute_result"
    }
   ],
   "source": [
    "# 6). Average age,\n",
    "a1.average_age()"
   ]
  },
  {
   "cell_type": "code",
   "execution_count": 8,
   "id": "01c66e74",
   "metadata": {},
   "outputs": [
    {
     "data": {
      "text/plain": [
       "['Angel', 'Jennifer']"
      ]
     },
     "execution_count": 8,
     "metadata": {},
     "output_type": "execute_result"
    }
   ],
   "source": [
    "# 7). Women registered on the agenda;\n",
    "[ x.name for x in a1.contacts if x.gender == 'F']"
   ]
  },
  {
   "cell_type": "code",
   "execution_count": 9,
   "id": "f7b9e369",
   "metadata": {},
   "outputs": [
    {
     "data": {
      "text/plain": [
       "['John', 'Danny']"
      ]
     },
     "execution_count": 9,
     "metadata": {},
     "output_type": "execute_result"
    }
   ],
   "source": [
    "# 8). Men registered on the agenda;\n",
    "[ x.name for x in a1.contacts if x.gender == 'M']"
   ]
  },
  {
   "cell_type": "code",
   "execution_count": 10,
   "id": "51c96712",
   "metadata": {},
   "outputs": [
    {
     "data": {
      "text/plain": [
       "['Angel', 'Danny']"
      ]
     },
     "execution_count": 10,
     "metadata": {},
     "output_type": "execute_result"
    }
   ],
   "source": [
    "# 9). List of people over 18\n",
    "[x.name for x in a1.contacts if x.age > 18]"
   ]
  },
  {
   "cell_type": "code",
   "execution_count": 11,
   "id": "33f6f0fc",
   "metadata": {},
   "outputs": [
    {
     "data": {
      "text/plain": [
       "['john@gmail.com',\n",
       " 'newAngel@yahoo.com',\n",
       " 'danny@hotmail.com',\n",
       " 'jennifer@gmail.com']"
      ]
     },
     "execution_count": 11,
     "metadata": {},
     "output_type": "execute_result"
    }
   ],
   "source": [
    "# 10). List of registered emails\n",
    "[x.email for x in a1.contacts]"
   ]
  }
 ],
 "metadata": {
  "kernelspec": {
   "display_name": "Python 3",
   "language": "python",
   "name": "python3"
  },
  "language_info": {
   "codemirror_mode": {
    "name": "ipython",
    "version": 3
   },
   "file_extension": ".py",
   "mimetype": "text/x-python",
   "name": "python",
   "nbconvert_exporter": "python",
   "pygments_lexer": "ipython3",
   "version": "3.8.8"
  }
 },
 "nbformat": 4,
 "nbformat_minor": 5
}
