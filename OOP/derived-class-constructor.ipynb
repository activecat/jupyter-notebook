{
 "cells": [
  {
   "cell_type": "markdown",
   "id": "590af931",
   "metadata": {},
   "source": [
    "<h4>The original <a href=\"https://web.facebook.com/groups/softwareskill/permalink/2561793754129723/\">question</a>:</h4>\n",
    "<p>Please I don't know why I can still inherit from the instance variable even after commenting it out\n",
    "I feel like super() method is useless please someone should help.</p>\n"
   ]
  },
  {
   "cell_type": "code",
   "execution_count": 1,
   "id": "d6370e94",
   "metadata": {},
   "outputs": [
    {
     "name": "stdout",
     "output_type": "stream",
     "text": [
      "class A init() invoked.\n",
      "a.foo = 3\n",
      "\n",
      "class A init() invoked.\n",
      "b.f2() returns 123\n"
     ]
    }
   ],
   "source": [
    "class A:\n",
    "\n",
    "    def __init__(self):\n",
    "        print(\"class A init() invoked.\")\n",
    "        self.foo = 123\n",
    "       \n",
    "\n",
    "class B(A):\n",
    "    \n",
    "    #def __init__(self):\n",
    "        #A.__init__(self)\n",
    "    \n",
    "    def f2(self):\n",
    "        return self.foo  # <-- This get its value from its parent class, the value is 123.\n",
    "\n",
    "a = A()\n",
    "a.foo = 3  # <-- This changes its value in the parent class.\n",
    "print(\"a.foo =\", a.foo)\n",
    "print()\n",
    "\n",
    "b = B()\n",
    "print(\"b.f2() returns\", b.f2())"
   ]
  },
  {
   "cell_type": "markdown",
   "id": "797c5eef",
   "metadata": {},
   "source": [
    "<h4>Observation:</h4>\n",
    "<p>Please note that the parent __init__() is invoked when it is not explicitly invoked in the derived class, though the correct way is to invoke it explicitly.</p>\n",
    "<p>Reference: <a href=\"https://stackoverflow.com/questions/1892269/how-do-derived-class-constructors-work-in-python\">How do derived class constructors work in python?</a></p>"
   ]
  }
 ],
 "metadata": {
  "kernelspec": {
   "display_name": "Python 3",
   "language": "python",
   "name": "python3"
  },
  "language_info": {
   "codemirror_mode": {
    "name": "ipython",
    "version": 3
   },
   "file_extension": ".py",
   "mimetype": "text/x-python",
   "name": "python",
   "nbconvert_exporter": "python",
   "pygments_lexer": "ipython3",
   "version": "3.8.8"
  }
 },
 "nbformat": 4,
 "nbformat_minor": 5
}
