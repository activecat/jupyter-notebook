{
 "cells": [
  {
   "cell_type": "code",
   "execution_count": 1,
   "metadata": {},
   "outputs": [
    {
     "name": "stdout",
     "output_type": "stream",
     "text": [
      "achivements: ['long-jump', 'killing-spree']\n",
      "p1: long-jump, killing-spree\n",
      "p2: \n"
     ]
    }
   ],
   "source": [
    "# 1). Define the class\n",
    "class Player:\n",
    "\n",
    "    def __init__(self):\n",
    "        self.achievements = [ ]  # <-- If put None here:-  'NoneType' object has no attribute 'extend'\n",
    "\n",
    "    def add_achievements(self, title):\n",
    "        self.achievements.extend(title)\n",
    "        print(\"achivements:\", self.achievements)\n",
    "\n",
    "    def get_achievements(self):\n",
    "        return \", \".join(self.achievements)\n",
    "\n",
    "# 2). Create two instances\n",
    "p1 = Player()\n",
    "p2 = Player()\n",
    "\n",
    "# 3). Append to the first instance only\n",
    "p1.add_achievements([\"long-jump\", \"killing-spree\"])\n",
    "print(\"p1:\", p1.get_achievements())\n",
    "print(\"p2:\", p2.get_achievements())"
   ]
  },
  {
   "cell_type": "code",
   "execution_count": null,
   "metadata": {},
   "outputs": [],
   "source": []
  }
 ],
 "metadata": {
  "kernelspec": {
   "display_name": "Python 3",
   "language": "python",
   "name": "python3"
  },
  "language_info": {
   "codemirror_mode": {
    "name": "ipython",
    "version": 3
   },
   "file_extension": ".py",
   "mimetype": "text/x-python",
   "name": "python",
   "nbconvert_exporter": "python",
   "pygments_lexer": "ipython3",
   "version": "3.8.8"
  }
 },
 "nbformat": 4,
 "nbformat_minor": 2
}
