{
 "cells": [
  {
   "cell_type": "markdown",
   "id": "2b3a4124",
   "metadata": {},
   "source": [
    "<h4>This question is posted at <a href=\"https://web.facebook.com/groups/python/?multi_permalinks=984099169097314\">FB Python group</a>.</h4>\n",
    "<h4>You may put your comments and responses <a href=\"https://web.facebook.com/groups/softwareskill/permalink/2585769028398862/\">here</a>.</h4>"
   ]
  },
  {
   "cell_type": "markdown",
   "id": "32f9933d",
   "metadata": {},
   "source": [
    "<img src=\"question-Kix-Almazan.jpg\">\n",
    "<img src=\"question-Kix-Almazan-2.jpg\" width=\"600px\">\n",
    "<img src=\"question-Kix-Almazan-3.jpg\" width=\"800px\">"
   ]
  },
  {
   "cell_type": "markdown",
   "id": "ce992a15",
   "metadata": {},
   "source": [
    "### Define the base class"
   ]
  },
  {
   "cell_type": "code",
   "execution_count": 1,
   "id": "1776d079",
   "metadata": {},
   "outputs": [],
   "source": [
    "class A():\n",
    "    def __init__(self):\n",
    "        print(\"A constructor\")\n",
    "        \n",
    "    def orderingItems(self, item, count):\n",
    "        print(\"A:  orderingItems()\")\n",
    "        self.order = item, count"
   ]
  },
  {
   "cell_type": "markdown",
   "id": "2a34279b",
   "metadata": {},
   "source": [
    "### Solution 1:  Using inherited class"
   ]
  },
  {
   "cell_type": "code",
   "execution_count": 2,
   "id": "f5c901b9",
   "metadata": {},
   "outputs": [],
   "source": [
    "class B(A):\n",
    "    def __init__(self, parent):\n",
    "        print(\"B constructor\")\n",
    "        self.parent = parent\n",
    "        \n",
    "    def verifyItemsAdded(self):        \n",
    "        order = self.parent.order\n",
    "        print(\"B: verifyItemsAdded(): the ordered item is\", order)"
   ]
  },
  {
   "cell_type": "markdown",
   "id": "3e622efe",
   "metadata": {},
   "source": [
    "#### Create an instance ofthe bass class"
   ]
  },
  {
   "cell_type": "code",
   "execution_count": 3,
   "id": "570f8660",
   "metadata": {},
   "outputs": [
    {
     "name": "stdout",
     "output_type": "stream",
     "text": [
      "A constructor\n"
     ]
    }
   ],
   "source": [
    "a = A()"
   ]
  },
  {
   "cell_type": "code",
   "execution_count": 4,
   "id": "f602ed3a",
   "metadata": {},
   "outputs": [
    {
     "name": "stdout",
     "output_type": "stream",
     "text": [
      "A:  orderingItems()\n"
     ]
    }
   ],
   "source": [
    "a.orderingItems(\"Nike-235-71\", 3)"
   ]
  },
  {
   "cell_type": "code",
   "execution_count": 5,
   "id": "31bc930a",
   "metadata": {},
   "outputs": [
    {
     "name": "stdout",
     "output_type": "stream",
     "text": [
      "B constructor\n"
     ]
    }
   ],
   "source": [
    "b = B(a)"
   ]
  },
  {
   "cell_type": "code",
   "execution_count": 6,
   "id": "38bb6259",
   "metadata": {},
   "outputs": [
    {
     "name": "stdout",
     "output_type": "stream",
     "text": [
      "B: verifyItemsAdded(): the ordered item is ('Nike-235-71', 3)\n"
     ]
    }
   ],
   "source": [
    "b.verifyItemsAdded()"
   ]
  },
  {
   "cell_type": "markdown",
   "id": "a84525f2",
   "metadata": {},
   "source": [
    "### Solution 2:  This works also using non-inherited class"
   ]
  },
  {
   "cell_type": "code",
   "execution_count": 7,
   "id": "a0840d39",
   "metadata": {},
   "outputs": [],
   "source": [
    "class N():\n",
    "    def __init__(self, parent):\n",
    "        print(\"N constructor\")\n",
    "        self.parent = parent\n",
    "        \n",
    "    def verifyItemsAdded(self):        \n",
    "        order = self.parent.order\n",
    "        print(\"N: verifyItemsAdded(): the ordered item is\", order)    "
   ]
  },
  {
   "cell_type": "code",
   "execution_count": 8,
   "id": "7f256c25",
   "metadata": {},
   "outputs": [
    {
     "name": "stdout",
     "output_type": "stream",
     "text": [
      "N constructor\n"
     ]
    }
   ],
   "source": [
    "n = N(a)"
   ]
  },
  {
   "cell_type": "code",
   "execution_count": 9,
   "id": "21d508ed",
   "metadata": {},
   "outputs": [
    {
     "name": "stdout",
     "output_type": "stream",
     "text": [
      "N: verifyItemsAdded(): the ordered item is ('Nike-235-71', 3)\n"
     ]
    }
   ],
   "source": [
    "n.verifyItemsAdded()"
   ]
  },
  {
   "cell_type": "markdown",
   "id": "3f4afa56",
   "metadata": {},
   "source": [
    "#### Conslution:\n",
    "In fact your CartPageValidations does not need to derived from the base class."
   ]
  },
  {
   "cell_type": "markdown",
   "id": "fa493ca2",
   "metadata": {},
   "source": [
    "### Solution 3:  Instantiate the derived class"
   ]
  },
  {
   "cell_type": "code",
   "execution_count": 10,
   "id": "5a061a2d",
   "metadata": {},
   "outputs": [],
   "source": [
    "class C(A):\n",
    "    def __init__(self):\n",
    "        print(\"C constructor\")\n",
    "        \n",
    "    def verifyItemsAdded(self):   \n",
    "        order = self.order\n",
    "        print(\"C: verifyItemsAdded(): the ordered item is\", order)"
   ]
  },
  {
   "cell_type": "markdown",
   "id": "56a1a22c",
   "metadata": {},
   "source": [
    "#### Create an instance of the derived class"
   ]
  },
  {
   "cell_type": "code",
   "execution_count": 11,
   "id": "a96a1c7c",
   "metadata": {},
   "outputs": [
    {
     "name": "stdout",
     "output_type": "stream",
     "text": [
      "C constructor\n"
     ]
    }
   ],
   "source": [
    "c = C()"
   ]
  },
  {
   "cell_type": "code",
   "execution_count": 12,
   "id": "309d271c",
   "metadata": {},
   "outputs": [
    {
     "name": "stdout",
     "output_type": "stream",
     "text": [
      "A:  orderingItems()\n"
     ]
    }
   ],
   "source": [
    "c.orderingItems(\"Adidas-235-71\", 5)"
   ]
  },
  {
   "cell_type": "code",
   "execution_count": 13,
   "id": "694cf653",
   "metadata": {},
   "outputs": [
    {
     "name": "stdout",
     "output_type": "stream",
     "text": [
      "C: verifyItemsAdded(): the ordered item is ('Adidas-235-71', 5)\n"
     ]
    }
   ],
   "source": [
    "c.verifyItemsAdded()"
   ]
  },
  {
   "cell_type": "code",
   "execution_count": null,
   "id": "7b8326db",
   "metadata": {},
   "outputs": [],
   "source": []
  }
 ],
 "metadata": {
  "kernelspec": {
   "display_name": "Python 3",
   "language": "python",
   "name": "python3"
  },
  "language_info": {
   "codemirror_mode": {
    "name": "ipython",
    "version": 3
   },
   "file_extension": ".py",
   "mimetype": "text/x-python",
   "name": "python",
   "nbconvert_exporter": "python",
   "pygments_lexer": "ipython3",
   "version": "3.8.8"
  }
 },
 "nbformat": 4,
 "nbformat_minor": 5
}
