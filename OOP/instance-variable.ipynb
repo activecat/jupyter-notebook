{
 "cells": [
  {
   "cell_type": "code",
   "execution_count": 1,
   "metadata": {},
   "outputs": [
    {
     "name": "stdout",
     "output_type": "stream",
     "text": [
      "Foo Sabina Krishna\n"
     ]
    }
   ],
   "source": [
    "# 1). Define the class\n",
    "class Player:\n",
    "    name = 'Foo'   # <-- Static variable\n",
    "    age = 12       # <-- Static variable\n",
    "\n",
    "    def __init__(self, name, age):\n",
    "        self.name = name    # <-- Instance variable\n",
    "        self.age = age      # <-- Instance variable\n",
    "        \n",
    "    def change_name_cls(cls, name):\n",
    "        cls.name = name\n",
    "\n",
    "# 2). Create two instances\n",
    "p1 = Player('Sabina', 21)\n",
    "p2 = Player('Krishna', 22)\n",
    "\n",
    "# 3). Print the static variable and instance variables (print their names only)\n",
    "print(Player.name, p1.name, p2.name)"
   ]
  },
  {
   "cell_type": "code",
   "execution_count": 2,
   "metadata": {},
   "outputs": [
    {
     "data": {
      "text/plain": [
       "'Foo'"
      ]
     },
     "execution_count": 2,
     "metadata": {},
     "output_type": "execute_result"
    }
   ],
   "source": [
    "# Static variable can available even before any instance is created.\n",
    "Player.name"
   ]
  },
  {
   "cell_type": "code",
   "execution_count": 3,
   "metadata": {},
   "outputs": [
    {
     "data": {
      "text/plain": [
       "'Sabina'"
      ]
     },
     "execution_count": 3,
     "metadata": {},
     "output_type": "execute_result"
    }
   ],
   "source": [
    "# Create an instance, and store values as instance variables\n",
    "q1 = Player('Sabina', 21)\n",
    "q1.name"
   ]
  },
  {
   "cell_type": "code",
   "execution_count": 4,
   "metadata": {},
   "outputs": [
    {
     "data": {
      "text/plain": [
       "'Krishna'"
      ]
     },
     "execution_count": 4,
     "metadata": {},
     "output_type": "execute_result"
    }
   ],
   "source": [
    "# Create 2nd instance\n",
    "q2 = Player('Krishna', 22)\n",
    "q2.name"
   ]
  },
  {
   "cell_type": "code",
   "execution_count": 5,
   "metadata": {},
   "outputs": [
    {
     "data": {
      "text/plain": [
       "'Foo'"
      ]
     },
     "execution_count": 5,
     "metadata": {},
     "output_type": "execute_result"
    }
   ],
   "source": [
    "# The static variable is not affected by instance variable\n",
    "Player.name"
   ]
  },
  {
   "cell_type": "code",
   "execution_count": null,
   "metadata": {},
   "outputs": [],
   "source": []
  }
 ],
 "metadata": {
  "kernelspec": {
   "display_name": "Python 3",
   "language": "python",
   "name": "python3"
  },
  "language_info": {
   "codemirror_mode": {
    "name": "ipython",
    "version": 3
   },
   "file_extension": ".py",
   "mimetype": "text/x-python",
   "name": "python",
   "nbconvert_exporter": "python",
   "pygments_lexer": "ipython3",
   "version": "3.8.8"
  }
 },
 "nbformat": 4,
 "nbformat_minor": 2
}
