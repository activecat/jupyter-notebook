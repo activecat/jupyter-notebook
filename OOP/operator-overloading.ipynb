{
 "cells": [
  {
   "cell_type": "code",
   "execution_count": 1,
   "id": "eba33d0a",
   "metadata": {},
   "outputs": [],
   "source": [
    "class Container:\n",
    "    def __init__(self, color, material):\n",
    "        self.color = color\n",
    "        self.material = material\n",
    "        \n",
    "    def display(self):\n",
    "        print(f'Container color: {self.color}')\n",
    "        print(f'Container material: {self.material}')            \n",
    "              "
   ]
  },
  {
   "cell_type": "code",
   "execution_count": 2,
   "id": "285630dd",
   "metadata": {},
   "outputs": [],
   "source": [
    "class RectangularContainer(Container):\n",
    "    def __init__(self, color, material, dim):\n",
    "        super().__init__(color, material)\n",
    "        self.dim = dim\n",
    "        \n",
    "    def display(self):\n",
    "        print(f'Container color: {self.color}')\n",
    "        print(f'Container material: {self.material}')    \n",
    "        print(f'Volume: {self.dim[0] * self.dim[1] * self.dim[2]}')\n",
    "        \n",
    "    def __eq__(self, other):\n",
    "        if not isinstance(other, RectangularContainer):\n",
    "            return False\n",
    "        print(\"** Comparing their color, material and dimension.. **\")\n",
    "        return self.color == other.color and self.material == other.material and self.dim == other.dim"
   ]
  },
  {
   "cell_type": "code",
   "execution_count": 3,
   "id": "d023fbee",
   "metadata": {},
   "outputs": [],
   "source": [
    "container1 = RectangularContainer('red', 'plastic', [2,3,4])\n",
    "container2 = RectangularContainer('red', 'plastic', [2,3,4])"
   ]
  },
  {
   "cell_type": "code",
   "execution_count": 4,
   "id": "aa53f358",
   "metadata": {},
   "outputs": [
    {
     "name": "stdout",
     "output_type": "stream",
     "text": [
      "** Comparing their color, material and dimension.. **\n"
     ]
    },
    {
     "data": {
      "text/plain": [
       "True"
      ]
     },
     "execution_count": 4,
     "metadata": {},
     "output_type": "execute_result"
    }
   ],
   "source": [
    "container1 == container2"
   ]
  },
  {
   "cell_type": "code",
   "execution_count": null,
   "id": "ae283a0d",
   "metadata": {},
   "outputs": [],
   "source": []
  }
 ],
 "metadata": {
  "kernelspec": {
   "display_name": "Python 3",
   "language": "python",
   "name": "python3"
  },
  "language_info": {
   "codemirror_mode": {
    "name": "ipython",
    "version": 3
   },
   "file_extension": ".py",
   "mimetype": "text/x-python",
   "name": "python",
   "nbconvert_exporter": "python",
   "pygments_lexer": "ipython3",
   "version": "3.8.8"
  }
 },
 "nbformat": 4,
 "nbformat_minor": 5
}
