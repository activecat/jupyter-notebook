{
 "cells": [
  {
   "cell_type": "code",
   "execution_count": 1,
   "metadata": {},
   "outputs": [
    {
     "name": "stdout",
     "output_type": "stream",
     "text": [
      "Player: (11, 2)\n",
      "Banker first card: 7\n"
     ]
    }
   ],
   "source": [
    "# 1). This is the original messy code:\n",
    "import random\n",
    "cards = [ 11, 2, 3, 4, 5, 6, 7, 8, 9, 10, 10 ]\n",
    "player = random.choice(cards), 2\n",
    "banker = (random.choice(cards))\n",
    "print(f\"Player: {player}\")\n",
    "print(f\"Banker first card: {banker}\")"
   ]
  },
  {
   "cell_type": "code",
   "execution_count": 2,
   "metadata": {},
   "outputs": [],
   "source": [
    "# 2). This is a better approach:\n",
    "class Poker:\n",
    "    def __init__(self):\n",
    "        self.cards = []\n",
    "\n",
    "    def put_cards(self, *args):\n",
    "        self.cards = list(args)\n",
    "\n",
    "    def deal_single_card(self):\n",
    "        c = random.choice(self.cards)\n",
    "        print(\"Has drawn {} from {} (There are {} cards)\".format(c, self.cards, len(self.cards)))\n",
    "        self.cards.remove(c)\n",
    "        return c\n"
   ]
  },
  {
   "cell_type": "code",
   "execution_count": 3,
   "metadata": {},
   "outputs": [
    {
     "name": "stdout",
     "output_type": "stream",
     "text": [
      "Has drawn 9 from [11, 2, 3, 4, 5, 6, 7, 8, 9, 10, 10] (There are 11 cards)\n",
      "Has drawn 4 from [11, 2, 3, 4, 5, 6, 7, 8, 10, 10] (There are 10 cards)\n",
      "Has drawn 8 from [11, 2, 3, 5, 6, 7, 8, 10, 10] (There are 9 cards)\n",
      "Has drawn 6 from [11, 2, 3, 5, 6, 7, 10, 10] (There are 8 cards)\n",
      "Has drawn 10 from [11, 2, 3, 5, 7, 10, 10] (There are 7 cards)\n"
     ]
    }
   ],
   "source": [
    "# 3). To test how it wors\n",
    "p = Poker()\n",
    "p.put_cards(11, 2, 3, 4, 5, 6, 7, 8, 9, 10, 10)\n",
    "\n",
    "drawn = p.deal_single_card()\n",
    "drawn = p.deal_single_card()\n",
    "drawn = p.deal_single_card()\n",
    "drawn = p.deal_single_card()\n",
    "drawn = p.deal_single_card()\n"
   ]
  },
  {
   "cell_type": "code",
   "execution_count": null,
   "metadata": {},
   "outputs": [],
   "source": []
  }
 ],
 "metadata": {
  "kernelspec": {
   "display_name": "Python 3",
   "language": "python",
   "name": "python3"
  },
  "language_info": {
   "codemirror_mode": {
    "name": "ipython",
    "version": 3
   },
   "file_extension": ".py",
   "mimetype": "text/x-python",
   "name": "python",
   "nbconvert_exporter": "python",
   "pygments_lexer": "ipython3",
   "version": "3.8.8"
  }
 },
 "nbformat": 4,
 "nbformat_minor": 2
}
