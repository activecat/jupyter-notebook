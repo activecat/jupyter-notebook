{
 "cells": [
  {
   "cell_type": "markdown",
   "metadata": {},
   "source": [
    "This question is inspired by another <a href=\"https://web.facebook.com/groups/python/permalink/987590168748214/\">question</a> in FB group.\n",
    "\n",
    "<table>\n",
    "    <tr>\n",
    "        <th>Name</th>\n",
    "        <th>Mathematics</th>\n",
    "        <th>Geography</th>            \n",
    "    </tr>\n",
    "    <tr>\n",
    "        <td>Adrian</td>\n",
    "        <td>98</td>\n",
    "        <td>65</td>\n",
    "    </tr>        \n",
    "    <tr>\n",
    "        <td>Benny</td>\n",
    "        <td>72</td>\n",
    "        <td>75</td>\n",
    "    </tr>        \n",
    "    <tr>\n",
    "        <td>Christ</td>\n",
    "        <td>65</td>\n",
    "        <td>58</td>\n",
    "    </tr>        \n",
    "    <tr>\n",
    "        <td>Danny</td>\n",
    "        <td>80</td>\n",
    "        <td>78</td>\n",
    "    </tr>        \n",
    "</table>\n",
    "\n",
    "Sort the rows above in descending order, according to the students' scores in\n",
    "<ol>\n",
    "    <li>Mathematics</li>\n",
    "    <li>Geography</li>\n",
    "</ol>"
   ]
  },
  {
   "cell_type": "markdown",
   "metadata": {},
   "source": [
    "### Solution 1: Using nested dictionaries"
   ]
  },
  {
   "cell_type": "code",
   "execution_count": 1,
   "metadata": {},
   "outputs": [],
   "source": [
    "data1 = {\n",
    "    'Adrian': {\n",
    "        'Math': 98,\n",
    "        'Geography': 65,\n",
    "    },\n",
    "    'Benny': {\n",
    "        'Math': 72,\n",
    "        'Geography': 75,\n",
    "    },\n",
    "    'Christ': {\n",
    "        'Math': 65,\n",
    "        'Geography': 58,\n",
    "    },\n",
    "    'Danny': {\n",
    "        'Math': 80,\n",
    "        'Geography': 78,\n",
    "    },\n",
    "}"
   ]
  },
  {
   "cell_type": "code",
   "execution_count": 2,
   "metadata": {},
   "outputs": [
    {
     "data": {
      "text/plain": [
       "[('Adrian', {'Math': 98, 'Geography': 65}),\n",
       " ('Benny', {'Math': 72, 'Geography': 75}),\n",
       " ('Christ', {'Math': 65, 'Geography': 58}),\n",
       " ('Danny', {'Math': 80, 'Geography': 78})]"
      ]
     },
     "execution_count": 2,
     "metadata": {},
     "output_type": "execute_result"
    }
   ],
   "source": [
    "# To view the data,\n",
    "\n",
    "[x for x in data1.items()]"
   ]
  },
  {
   "cell_type": "code",
   "execution_count": 3,
   "metadata": {},
   "outputs": [
    {
     "data": {
      "text/plain": [
       "[98, 72, 65, 80]"
      ]
     },
     "execution_count": 3,
     "metadata": {},
     "output_type": "execute_result"
    }
   ],
   "source": [
    "# To get the students' scores in Mathematic:\n",
    "\n",
    "[x[1]['Math'] for x in data1.items()]"
   ]
  },
  {
   "cell_type": "code",
   "execution_count": 4,
   "metadata": {},
   "outputs": [
    {
     "data": {
      "text/plain": [
       "[('Adrian', {'Math': 98, 'Geography': 65}),\n",
       " ('Danny', {'Math': 80, 'Geography': 78}),\n",
       " ('Benny', {'Math': 72, 'Geography': 75}),\n",
       " ('Christ', {'Math': 65, 'Geography': 58})]"
      ]
     },
     "execution_count": 4,
     "metadata": {},
     "output_type": "execute_result"
    }
   ],
   "source": [
    "# To sort the data according to students' scores in Mathematics:\n",
    "\n",
    "sorted(data1.items(), key=lambda x: x[1]['Math'], reverse=True)"
   ]
  },
  {
   "cell_type": "code",
   "execution_count": 5,
   "metadata": {},
   "outputs": [
    {
     "data": {
      "text/plain": [
       "[('Danny', {'Math': 80, 'Geography': 78}),\n",
       " ('Benny', {'Math': 72, 'Geography': 75}),\n",
       " ('Adrian', {'Math': 98, 'Geography': 65}),\n",
       " ('Christ', {'Math': 65, 'Geography': 58})]"
      ]
     },
     "execution_count": 5,
     "metadata": {},
     "output_type": "execute_result"
    }
   ],
   "source": [
    "# To sort the data according to students' scores in Geography:\n",
    "\n",
    "sorted(data1.items(), key=lambda x: x[1]['Geography'], reverse=True)"
   ]
  },
  {
   "cell_type": "markdown",
   "metadata": {},
   "source": [
    "### Solution 2: Using nested tuples"
   ]
  },
  {
   "cell_type": "code",
   "execution_count": 6,
   "metadata": {},
   "outputs": [],
   "source": [
    "data2 = (\n",
    "    ('Adrian', (98, 65)),\n",
    "    ('Benny', (72, 75)),\n",
    "    ('Christ', (65, 58)),\n",
    "    ('Danny', (80, 78)),\n",
    ")"
   ]
  },
  {
   "cell_type": "code",
   "execution_count": 7,
   "metadata": {},
   "outputs": [
    {
     "data": {
      "text/plain": [
       "(('Adrian', (98, 65)),\n",
       " ('Benny', (72, 75)),\n",
       " ('Christ', (65, 58)),\n",
       " ('Danny', (80, 78)))"
      ]
     },
     "execution_count": 7,
     "metadata": {},
     "output_type": "execute_result"
    }
   ],
   "source": [
    "# To view the data,\n",
    "\n",
    "data2"
   ]
  },
  {
   "cell_type": "code",
   "execution_count": 8,
   "metadata": {},
   "outputs": [
    {
     "data": {
      "text/plain": [
       "[98, 72, 65, 80]"
      ]
     },
     "execution_count": 8,
     "metadata": {},
     "output_type": "execute_result"
    }
   ],
   "source": [
    "# To get the students' scores in Mathematic:\n",
    "\n",
    "[x[1][0] for x in data2]"
   ]
  },
  {
   "cell_type": "code",
   "execution_count": 9,
   "metadata": {},
   "outputs": [
    {
     "data": {
      "text/plain": [
       "[('Adrian', (98, 65)),\n",
       " ('Danny', (80, 78)),\n",
       " ('Benny', (72, 75)),\n",
       " ('Christ', (65, 58))]"
      ]
     },
     "execution_count": 9,
     "metadata": {},
     "output_type": "execute_result"
    }
   ],
   "source": [
    "# To sort the data according to students' scores in Mathematics:\n",
    "\n",
    "sorted(data2, key=lambda x: x[1][0], reverse=True)"
   ]
  },
  {
   "cell_type": "code",
   "execution_count": 10,
   "metadata": {},
   "outputs": [
    {
     "data": {
      "text/plain": [
       "[('Danny', (80, 78)),\n",
       " ('Benny', (72, 75)),\n",
       " ('Adrian', (98, 65)),\n",
       " ('Christ', (65, 58))]"
      ]
     },
     "execution_count": 10,
     "metadata": {},
     "output_type": "execute_result"
    }
   ],
   "source": [
    "# To sort the data according to students' scores in Geography:\n",
    "\n",
    "sorted(data2, key=lambda x: x[1][1], reverse=True)"
   ]
  },
  {
   "cell_type": "markdown",
   "metadata": {},
   "source": [
    "### Solution 3: Using OOP "
   ]
  },
  {
   "cell_type": "code",
   "execution_count": 11,
   "metadata": {},
   "outputs": [],
   "source": [
    "class Student():\n",
    "    def __init__(self, name, math, geography):\n",
    "        self.name = name\n",
    "        self.math = math\n",
    "        self.geog = geography\n",
    "        \n",
    "    def __repr__(self):\n",
    "        return \"{}: {}\".format(self.name, {'Math': self.math, 'Geography': self.geog})"
   ]
  },
  {
   "cell_type": "code",
   "execution_count": 12,
   "metadata": {},
   "outputs": [],
   "source": [
    "data3 = [\n",
    "    Student('Adrian', 98, 65),\n",
    "    Student('Benny', 72, 75),\n",
    "    Student('Christ', 65, 58),\n",
    "    Student('Danny', 80, 78),\n",
    "]"
   ]
  },
  {
   "cell_type": "code",
   "execution_count": 13,
   "metadata": {},
   "outputs": [
    {
     "data": {
      "text/plain": [
       "[Adrian: {'Math': 98, 'Geography': 65},\n",
       " Benny: {'Math': 72, 'Geography': 75},\n",
       " Christ: {'Math': 65, 'Geography': 58},\n",
       " Danny: {'Math': 80, 'Geography': 78}]"
      ]
     },
     "execution_count": 13,
     "metadata": {},
     "output_type": "execute_result"
    }
   ],
   "source": [
    "# To view the data,\n",
    "\n",
    "data3"
   ]
  },
  {
   "cell_type": "code",
   "execution_count": 14,
   "metadata": {},
   "outputs": [
    {
     "data": {
      "text/plain": [
       "[98, 72, 65, 80]"
      ]
     },
     "execution_count": 14,
     "metadata": {},
     "output_type": "execute_result"
    }
   ],
   "source": [
    "# To get the students' scores in Mathematic:\n",
    "\n",
    "[x.math for x in data3]"
   ]
  },
  {
   "cell_type": "code",
   "execution_count": 15,
   "metadata": {},
   "outputs": [
    {
     "data": {
      "text/plain": [
       "[Adrian: {'Math': 98, 'Geography': 65},\n",
       " Danny: {'Math': 80, 'Geography': 78},\n",
       " Benny: {'Math': 72, 'Geography': 75},\n",
       " Christ: {'Math': 65, 'Geography': 58}]"
      ]
     },
     "execution_count": 15,
     "metadata": {},
     "output_type": "execute_result"
    }
   ],
   "source": [
    "# To sort the data according to students' scores in Mathematics:\n",
    "\n",
    "sorted(data3, key=lambda x: x.math, reverse=True)"
   ]
  },
  {
   "cell_type": "code",
   "execution_count": 16,
   "metadata": {},
   "outputs": [
    {
     "data": {
      "text/plain": [
       "[Danny: {'Math': 80, 'Geography': 78},\n",
       " Benny: {'Math': 72, 'Geography': 75},\n",
       " Adrian: {'Math': 98, 'Geography': 65},\n",
       " Christ: {'Math': 65, 'Geography': 58}]"
      ]
     },
     "execution_count": 16,
     "metadata": {},
     "output_type": "execute_result"
    }
   ],
   "source": [
    "# To sort the data according to students' scores in Geography:\n",
    "\n",
    "sorted(data3, key=lambda x: x.geog, reverse=True)"
   ]
  },
  {
   "cell_type": "code",
   "execution_count": null,
   "metadata": {},
   "outputs": [],
   "source": []
  }
 ],
 "metadata": {
  "interpreter": {
   "hash": "b046c8a3b10b02677d585a50ef8e68af2a151465fe9f963df3b4746691489acb"
  },
  "kernelspec": {
   "display_name": "Python 3",
   "language": "python",
   "name": "python3"
  },
  "language_info": {
   "codemirror_mode": {
    "name": "ipython",
    "version": 3
   },
   "file_extension": ".py",
   "mimetype": "text/x-python",
   "name": "python",
   "nbconvert_exporter": "python",
   "pygments_lexer": "ipython3",
   "version": "3.8.8"
  }
 },
 "nbformat": 4,
 "nbformat_minor": 2
}
