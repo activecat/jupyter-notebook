{
 "cells": [
  {
   "cell_type": "code",
   "execution_count": 1,
   "metadata": {},
   "outputs": [],
   "source": [
    "# Define the class\n",
    "class Player:\n",
    "    name = 'Michael'   # <-- Static variable (also known as class variable)\n",
    "    age = 12           # <-- Static variable (also known as class variable)\n",
    "    \n",
    "    def __init__(self, name, age):\n",
    "        self.name = name    # <-- Instance variable\n",
    "        self.age = age      # <-- Instance variable\n",
    "\n",
    "        \n",
    "    # 1). This is an instance method\n",
    "    def set2(self, name):\n",
    "        self.name = name\n",
    "        \n",
    "    # 2). This is a class method\n",
    "    @classmethod\n",
    "    def set3(cls, name):\n",
    "        cls.name = name\n",
    "        \n",
    "    # 3). This is a static method\n",
    "    @staticmethod\n",
    "    def set4(name):\n",
    "        Player.name = name    # <-- Static method could also access class variable, but need to explicitly specifying the class name"
   ]
  },
  {
   "cell_type": "code",
   "execution_count": 2,
   "metadata": {},
   "outputs": [],
   "source": [
    "# Create an instances\n",
    "p1 = Player('Sabina', 21)"
   ]
  },
  {
   "cell_type": "code",
   "execution_count": 3,
   "metadata": {},
   "outputs": [
    {
     "data": {
      "text/plain": [
       "'Sabina'"
      ]
     },
     "execution_count": 3,
     "metadata": {},
     "output_type": "execute_result"
    }
   ],
   "source": [
    "# Get the instance variable:\n",
    "p1.name"
   ]
  },
  {
   "cell_type": "code",
   "execution_count": 4,
   "metadata": {},
   "outputs": [
    {
     "data": {
      "text/plain": [
       "'Jessica'"
      ]
     },
     "execution_count": 4,
     "metadata": {},
     "output_type": "execute_result"
    }
   ],
   "source": [
    "# Invoke the instance method:\n",
    "p1.set2(\"Jessica\")\n",
    "\n",
    "# To verity the instance variable has been changed:\n",
    "p1.name"
   ]
  },
  {
   "cell_type": "code",
   "execution_count": 5,
   "metadata": {},
   "outputs": [
    {
     "data": {
      "text/plain": [
       "'Michael'"
      ]
     },
     "execution_count": 5,
     "metadata": {},
     "output_type": "execute_result"
    }
   ],
   "source": [
    "# Get the class variable (1st attempt):\n",
    "Player.name"
   ]
  },
  {
   "cell_type": "code",
   "execution_count": 6,
   "metadata": {},
   "outputs": [
    {
     "data": {
      "text/plain": [
       "'Jackson'"
      ]
     },
     "execution_count": 6,
     "metadata": {},
     "output_type": "execute_result"
    }
   ],
   "source": [
    "# Invoke the class method:\n",
    "Player.set3(\"Jackson\")\n",
    "\n",
    "# Get the class variable again (2nd attempt):\n",
    "Player.name"
   ]
  },
  {
   "cell_type": "code",
   "execution_count": 7,
   "metadata": {},
   "outputs": [
    {
     "data": {
      "text/plain": [
       "'Warran'"
      ]
     },
     "execution_count": 7,
     "metadata": {},
     "output_type": "execute_result"
    }
   ],
   "source": [
    "# Invoke the static method:\n",
    "Player.set4(\"Warran\")\n",
    "\n",
    "# Get the class variable again (3rd attempt):\n",
    "Player.name"
   ]
  },
  {
   "cell_type": "code",
   "execution_count": 8,
   "metadata": {},
   "outputs": [
    {
     "data": {
      "text/plain": [
       "'Monster'"
      ]
     },
     "execution_count": 8,
     "metadata": {},
     "output_type": "execute_result"
    }
   ],
   "source": [
    "# The class instance also can access the class method:\n",
    "p1.set4(\"Monster\")\n",
    "\n",
    "# Get the class variable again (4rd attempt):\n",
    "Player.name"
   ]
  },
  {
   "cell_type": "code",
   "execution_count": null,
   "metadata": {},
   "outputs": [],
   "source": []
  }
 ],
 "metadata": {
  "kernelspec": {
   "display_name": "Python 3",
   "language": "python",
   "name": "python3"
  },
  "language_info": {
   "codemirror_mode": {
    "name": "ipython",
    "version": 3
   },
   "file_extension": ".py",
   "mimetype": "text/x-python",
   "name": "python",
   "nbconvert_exporter": "python",
   "pygments_lexer": "ipython3",
   "version": "3.8.8"
  }
 },
 "nbformat": 4,
 "nbformat_minor": 2
}
