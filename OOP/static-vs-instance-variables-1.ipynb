{
 "cells": [
  {
   "cell_type": "code",
   "execution_count": 1,
   "metadata": {},
   "outputs": [],
   "source": [
    "from datetime import date\n",
    "\n",
    "# Define the class\n",
    "class Player:\n",
    "    name = 'Michael'   # <-- Static variable (also known as class variable)\n",
    "    age = 12           # <-- Static variable (also known as class variable)\n",
    "    \n",
    "    def __init__(self, name, age):\n",
    "        self.name = name    # <-- Instance variable\n",
    "        self.age = age      # <-- Instance variable\n",
    "\n",
    "        \n",
    "    # 1). This is an instance method\n",
    "    def my_instance_method(self, name):\n",
    "        self.name = name\n",
    "        \n",
    "    # 2). This is a class method\n",
    "    @classmethod\n",
    "    def my_class_method(cls, name):\n",
    "        cls.name = name\n",
    "        \n",
    "    # 3). This is a static method\n",
    "    @staticmethod\n",
    "    def my_static_method(name):\n",
    "        Player.name = name    # <-- This static method changes a class variable.\n",
    "        # Static methods need to explicitly specify the class name, when accessing class variables.\n",
    "        \n",
    "    # 4). This static method doesn't access any class variable\n",
    "    @staticmethod\n",
    "    def today2():\n",
    "        return date.today() "
   ]
  },
  {
   "cell_type": "code",
   "execution_count": 2,
   "metadata": {},
   "outputs": [],
   "source": [
    "# Create an instance\n",
    "p1 = Player('Sabina', 21)"
   ]
  },
  {
   "cell_type": "code",
   "execution_count": 3,
   "metadata": {},
   "outputs": [
    {
     "data": {
      "text/plain": [
       "'Sabina'"
      ]
     },
     "execution_count": 3,
     "metadata": {},
     "output_type": "execute_result"
    }
   ],
   "source": [
    "# Get the instance variable\n",
    "p1.name"
   ]
  },
  {
   "cell_type": "code",
   "execution_count": 4,
   "metadata": {},
   "outputs": [
    {
     "data": {
      "text/plain": [
       "'Jessica'"
      ]
     },
     "execution_count": 4,
     "metadata": {},
     "output_type": "execute_result"
    }
   ],
   "source": [
    "# Invoke the instance method:\n",
    "p1.my_instance_method(\"Jessica\")\n",
    "\n",
    "# To verity the instance variable has been changed accordingly,\n",
    "p1.name"
   ]
  },
  {
   "cell_type": "code",
   "execution_count": 5,
   "metadata": {},
   "outputs": [
    {
     "data": {
      "text/plain": [
       "'Michael'"
      ]
     },
     "execution_count": 5,
     "metadata": {},
     "output_type": "execute_result"
    }
   ],
   "source": [
    "# Get the class variable (1st attempt):\n",
    "Player.name"
   ]
  },
  {
   "cell_type": "code",
   "execution_count": 6,
   "metadata": {},
   "outputs": [
    {
     "data": {
      "text/plain": [
       "'Jackson'"
      ]
     },
     "execution_count": 6,
     "metadata": {},
     "output_type": "execute_result"
    }
   ],
   "source": [
    "# Invoke the class method:\n",
    "Player.my_class_method(\"Jackson\")\n",
    "\n",
    "# Get the class variable again (2nd attempt):\n",
    "Player.name"
   ]
  },
  {
   "cell_type": "code",
   "execution_count": 7,
   "metadata": {},
   "outputs": [
    {
     "data": {
      "text/plain": [
       "'Warran'"
      ]
     },
     "execution_count": 7,
     "metadata": {},
     "output_type": "execute_result"
    }
   ],
   "source": [
    "# Invoke the static method:\n",
    "Player.my_static_method(\"Warran\")\n",
    "\n",
    "# Get the class variable again (3rd attempt):\n",
    "Player.name"
   ]
  },
  {
   "cell_type": "code",
   "execution_count": 8,
   "metadata": {},
   "outputs": [
    {
     "data": {
      "text/plain": [
       "'Monster'"
      ]
     },
     "execution_count": 8,
     "metadata": {},
     "output_type": "execute_result"
    }
   ],
   "source": [
    "# Class instance could also invoke static methods:\n",
    "p1.my_static_method(\"Monster\")\n",
    "\n",
    "# Get the class variable again (4rd attempt):\n",
    "Player.name"
   ]
  },
  {
   "cell_type": "code",
   "execution_count": 9,
   "metadata": {},
   "outputs": [
    {
     "data": {
      "text/plain": [
       "datetime.date(2021, 6, 7)"
      ]
     },
     "execution_count": 9,
     "metadata": {},
     "output_type": "execute_result"
    }
   ],
   "source": [
    "# Invoke another static method:\n",
    "Player.today2()"
   ]
  },
  {
   "cell_type": "markdown",
   "metadata": {},
   "source": [
    "<h1>Conclusion and best practise</h1>\n",
    "<ul>\n",
    "    <li>Use <b>static method</b> when you do not access class variable.</li>\n",
    "    <li>Use <b>class method</b> when you need to access class variable.</li>\n",
    "    <li>Use <b>instance method</b> when you need to acces instance variable.</li>\n",
    "</ul>"
   ]
  }
 ],
 "metadata": {
  "kernelspec": {
   "display_name": "Python 3",
   "language": "python",
   "name": "python3"
  },
  "language_info": {
   "codemirror_mode": {
    "name": "ipython",
    "version": 3
   },
   "file_extension": ".py",
   "mimetype": "text/x-python",
   "name": "python",
   "nbconvert_exporter": "python",
   "pygments_lexer": "ipython3",
   "version": "3.8.8"
  }
 },
 "nbformat": 4,
 "nbformat_minor": 2
}
