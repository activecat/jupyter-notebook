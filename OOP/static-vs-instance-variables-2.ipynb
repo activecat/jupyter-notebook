{
 "cells": [
  {
   "cell_type": "markdown",
   "metadata": {},
   "source": [
    "<h2>\n",
    "    What is the differences between <b>class method</b> and <b>static method</b> ?\n",
    "</h2>\n",
    "\n",
    "<h4>Reply:</h4>\n",
    "<p>\n",
    "    Class methods always have its <b>class object</b> (usually being written as <i><b>cls</b></i>) \n",
    "    as its first function argument, whereas static method doesn't have class object in its function arguments.\n",
    "</p>"
   ]
  },
  {
   "cell_type": "code",
   "execution_count": 1,
   "metadata": {},
   "outputs": [],
   "source": [
    "from datetime import date\n",
    "\n",
    "class Player:\n",
    "    name = 'Michael'   # <-- Static variable (also known as class variable)\n",
    "    age = 12           # <-- Static variable (also known as class variable)\n",
    "    \n",
    "    def __init__(self, name, age):\n",
    "        self.name = name    # <-- Instance variable\n",
    "        self.age = age      # <-- Instance variable\n",
    "\n",
    "        \n",
    "    # 1). This is an instance method\n",
    "    def my_instance_method(self, name):\n",
    "        self.name = name\n",
    "        \n",
    "    # 2). This is a class method\n",
    "    @classmethod\n",
    "    def my_class_method(cls, name):\n",
    "        cls.name = name  # <-- In this case, cls.name is actually Player.name\n",
    "        \n",
    "    # 3). This is a static method\n",
    "    @staticmethod\n",
    "    def my_static_method(name):\n",
    "        Player.name = name    # <-- This static method changes a class variable.\n",
    "        # Static methods need to explicitly specify the class name, when accessing class variables.\n",
    "        \n",
    "    # 4). This static method doesn't access any class variable\n",
    "    @staticmethod\n",
    "    def today2():\n",
    "        return date.today() "
   ]
  },
  {
   "cell_type": "code",
   "execution_count": 2,
   "metadata": {},
   "outputs": [
    {
     "data": {
      "text/plain": [
       "'Michael'"
      ]
     },
     "execution_count": 2,
     "metadata": {},
     "output_type": "execute_result"
    }
   ],
   "source": [
    "# To get the class variable (1st attempt)\n",
    "Player.name"
   ]
  },
  {
   "cell_type": "code",
   "execution_count": 3,
   "metadata": {},
   "outputs": [
    {
     "data": {
      "text/plain": [
       "'Jordan'"
      ]
     },
     "execution_count": 3,
     "metadata": {},
     "output_type": "execute_result"
    }
   ],
   "source": [
    "# To invoke the class method:\n",
    "Player.my_class_method(\"Jordan\")\n",
    "\n",
    "# To get the class variable (2nd attempt)\n",
    "Player.name"
   ]
  },
  {
   "cell_type": "code",
   "execution_count": 4,
   "metadata": {},
   "outputs": [
    {
     "data": {
      "text/plain": [
       "'Jassica'"
      ]
     },
     "execution_count": 4,
     "metadata": {},
     "output_type": "execute_result"
    }
   ],
   "source": [
    "# To invoke the static method:\n",
    "Player.my_static_method(\"Jassica\")\n",
    "\n",
    "# To get the class variable (3rd attempt)\n",
    "Player.name"
   ]
  }
 ],
 "metadata": {
  "kernelspec": {
   "display_name": "Python 3",
   "language": "python",
   "name": "python3"
  },
  "language_info": {
   "codemirror_mode": {
    "name": "ipython",
    "version": 3
   },
   "file_extension": ".py",
   "mimetype": "text/x-python",
   "name": "python",
   "nbconvert_exporter": "python",
   "pygments_lexer": "ipython3",
   "version": "3.8.8"
  }
 },
 "nbformat": 4,
 "nbformat_minor": 2
}
