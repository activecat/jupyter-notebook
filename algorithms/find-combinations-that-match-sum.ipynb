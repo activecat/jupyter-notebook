{
 "cells": [
  {
   "cell_type": "markdown",
   "id": "6547f15e",
   "metadata": {},
   "source": [
    "A question posted <a href=\"https://web.facebook.com/groups/softwareskill/permalink/2592203767755388/\">here</a>\n",
    "\n",
    "<pre>\n",
    "list1 = [1, 7, 9, 6, 5, 3]\n",
    "If I add any two numbers in a list it return their index value. \n",
    "\n",
    "Example: target = 8\n",
    " output should be (0, 1).\n",
    "\n",
    "Example: target = 10\n",
    " output should be (0, 2).\n",
    "\n",
    "Example: target = 16\n",
    " output should be (1, 2).\n",
    "\n",
    "Example: target = 14\n",
    " output should be (2, 4).\n",
    " \n",
    "Example: target = 13\n",
    " output should be (1, 4). \n",
    "</pre>"
   ]
  },
  {
   "cell_type": "code",
   "execution_count": 1,
   "id": "5a3b8d8f",
   "metadata": {},
   "outputs": [],
   "source": [
    "list1 = [1, 7, 9, 6, 5, 3]"
   ]
  },
  {
   "cell_type": "code",
   "execution_count": 2,
   "id": "9f53fbb4",
   "metadata": {},
   "outputs": [],
   "source": [
    "def func2(list1:list, sum1:int) -> tuple:\n",
    "    length = len(list1)\n",
    "    for i in range(length):\n",
    "        for j in range(i+1, length):\n",
    "            print(\"list[{}] + list[{}] = {}\".format(i,j, ))\n",
    "            if list1[i] + list1[j] == sum1:\n",
    "                return i,j"
   ]
  },
  {
   "cell_type": "code",
   "execution_count": 3,
   "id": "064344cf",
   "metadata": {},
   "outputs": [
    {
     "name": "stdout",
     "output_type": "stream",
     "text": [
      "Comparing element of index 0 and 1:\n"
     ]
    },
    {
     "data": {
      "text/plain": [
       "(0, 1)"
      ]
     },
     "execution_count": 3,
     "metadata": {},
     "output_type": "execute_result"
    }
   ],
   "source": [
    "func2(list1, 8)  "
   ]
  },
  {
   "cell_type": "code",
   "execution_count": 4,
   "id": "8105cc31",
   "metadata": {},
   "outputs": [
    {
     "name": "stdout",
     "output_type": "stream",
     "text": [
      "Comparing element of index 0 and 1:\n",
      "Comparing element of index 0 and 2:\n"
     ]
    },
    {
     "data": {
      "text/plain": [
       "(0, 2)"
      ]
     },
     "execution_count": 4,
     "metadata": {},
     "output_type": "execute_result"
    }
   ],
   "source": [
    "func2(list1, 10)"
   ]
  },
  {
   "cell_type": "code",
   "execution_count": 5,
   "id": "c3e8a50e",
   "metadata": {},
   "outputs": [
    {
     "name": "stdout",
     "output_type": "stream",
     "text": [
      "Comparing element of index 0 and 1:\n",
      "Comparing element of index 0 and 2:\n",
      "Comparing element of index 0 and 3:\n",
      "Comparing element of index 0 and 4:\n",
      "Comparing element of index 0 and 5:\n",
      "Comparing element of index 1 and 2:\n"
     ]
    },
    {
     "data": {
      "text/plain": [
       "(1, 2)"
      ]
     },
     "execution_count": 5,
     "metadata": {},
     "output_type": "execute_result"
    }
   ],
   "source": [
    "func2(list1, 16)"
   ]
  },
  {
   "cell_type": "code",
   "execution_count": 6,
   "id": "a8062d46",
   "metadata": {},
   "outputs": [
    {
     "name": "stdout",
     "output_type": "stream",
     "text": [
      "Comparing element of index 0 and 1:\n",
      "Comparing element of index 0 and 2:\n",
      "Comparing element of index 0 and 3:\n",
      "Comparing element of index 0 and 4:\n",
      "Comparing element of index 0 and 5:\n",
      "Comparing element of index 1 and 2:\n",
      "Comparing element of index 1 and 3:\n",
      "Comparing element of index 1 and 4:\n",
      "Comparing element of index 1 and 5:\n",
      "Comparing element of index 2 and 3:\n",
      "Comparing element of index 2 and 4:\n"
     ]
    },
    {
     "data": {
      "text/plain": [
       "(2, 4)"
      ]
     },
     "execution_count": 6,
     "metadata": {},
     "output_type": "execute_result"
    }
   ],
   "source": [
    "func2(list1, 14)"
   ]
  },
  {
   "cell_type": "code",
   "execution_count": 7,
   "id": "3e970530",
   "metadata": {},
   "outputs": [
    {
     "name": "stdout",
     "output_type": "stream",
     "text": [
      "Comparing element of index 0 and 1:\n",
      "Comparing element of index 0 and 2:\n",
      "Comparing element of index 0 and 3:\n",
      "Comparing element of index 0 and 4:\n",
      "Comparing element of index 0 and 5:\n",
      "Comparing element of index 1 and 2:\n",
      "Comparing element of index 1 and 3:\n"
     ]
    },
    {
     "data": {
      "text/plain": [
       "(1, 3)"
      ]
     },
     "execution_count": 7,
     "metadata": {},
     "output_type": "execute_result"
    }
   ],
   "source": [
    "func2(list1, 13)"
   ]
  }
 ],
 "metadata": {
  "kernelspec": {
   "display_name": "Python 3",
   "language": "python",
   "name": "python3"
  },
  "language_info": {
   "codemirror_mode": {
    "name": "ipython",
    "version": 3
   },
   "file_extension": ".py",
   "mimetype": "text/x-python",
   "name": "python",
   "nbconvert_exporter": "python",
   "pygments_lexer": "ipython3",
   "version": "3.8.8"
  }
 },
 "nbformat": 4,
 "nbformat_minor": 5
}
