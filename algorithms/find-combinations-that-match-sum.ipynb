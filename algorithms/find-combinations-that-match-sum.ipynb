{
 "cells": [
  {
   "cell_type": "markdown",
   "id": "6547f15e",
   "metadata": {},
   "source": [
    "A question posted <a href=\"https://web.facebook.com/groups/softwareskill/permalink/2592203767755388/\">here</a>\n",
    "\n",
    "<pre>\n",
    "list1 = [1, 7, 9, 6, 5, 3]\n",
    "If I add any two numbers in a list it return their index value. \n",
    "\n",
    "Example: target = 8\n",
    " output should be (0, 1).\n",
    "\n",
    "Example: target = 10\n",
    " output should be (0, 2).\n",
    "\n",
    "Example: target = 16\n",
    " output should be (1, 2).\n",
    "\n",
    "Example: target = 14\n",
    " output should be (2, 4).\n",
    " \n",
    "Example: target = 13\n",
    " output should be (1, 4). \n",
    "</pre>"
   ]
  },
  {
   "cell_type": "code",
   "execution_count": 1,
   "id": "5a3b8d8f",
   "metadata": {},
   "outputs": [],
   "source": [
    "list1 = [1, 7, 9, 6, 5, 3]"
   ]
  },
  {
   "cell_type": "code",
   "execution_count": 2,
   "id": "9f53fbb4",
   "metadata": {},
   "outputs": [],
   "source": [
    "def func2(list1:list, sum1:int) -> tuple:\n",
    "    length = len(list1)\n",
    "    for i in range(length):\n",
    "        for j in range(i+1, length):\n",
    "            print(\"list[{}] + list[{}] = {}\".format(i, j, list1[i]+list1[j]))\n",
    "            if list1[i] + list1[j] == sum1:\n",
    "                return i,j"
   ]
  },
  {
   "cell_type": "code",
   "execution_count": 3,
   "id": "622e24a4",
   "metadata": {},
   "outputs": [
    {
     "name": "stdout",
     "output_type": "stream",
     "text": [
      "list[0] + list[1] = 8\n"
     ]
    },
    {
     "data": {
      "text/plain": [
       "(0, 1)"
      ]
     },
     "execution_count": 3,
     "metadata": {},
     "output_type": "execute_result"
    }
   ],
   "source": [
    "func2(list1, 8)  "
   ]
  },
  {
   "cell_type": "code",
   "execution_count": 4,
   "id": "6f03fe73",
   "metadata": {},
   "outputs": [
    {
     "name": "stdout",
     "output_type": "stream",
     "text": [
      "list[0] + list[1] = 8\n",
      "list[0] + list[2] = 10\n"
     ]
    },
    {
     "data": {
      "text/plain": [
       "(0, 2)"
      ]
     },
     "execution_count": 4,
     "metadata": {},
     "output_type": "execute_result"
    }
   ],
   "source": [
    "func2(list1, 10)"
   ]
  },
  {
   "cell_type": "code",
   "execution_count": 5,
   "id": "5da1778a",
   "metadata": {},
   "outputs": [
    {
     "name": "stdout",
     "output_type": "stream",
     "text": [
      "list[0] + list[1] = 8\n",
      "list[0] + list[2] = 10\n",
      "list[0] + list[3] = 7\n",
      "list[0] + list[4] = 6\n",
      "list[0] + list[5] = 4\n",
      "list[1] + list[2] = 16\n"
     ]
    },
    {
     "data": {
      "text/plain": [
       "(1, 2)"
      ]
     },
     "execution_count": 5,
     "metadata": {},
     "output_type": "execute_result"
    }
   ],
   "source": [
    "func2(list1, 16)"
   ]
  },
  {
   "cell_type": "code",
   "execution_count": 6,
   "id": "7d201a25",
   "metadata": {},
   "outputs": [
    {
     "name": "stdout",
     "output_type": "stream",
     "text": [
      "list[0] + list[1] = 8\n",
      "list[0] + list[2] = 10\n",
      "list[0] + list[3] = 7\n",
      "list[0] + list[4] = 6\n",
      "list[0] + list[5] = 4\n",
      "list[1] + list[2] = 16\n",
      "list[1] + list[3] = 13\n",
      "list[1] + list[4] = 12\n",
      "list[1] + list[5] = 10\n",
      "list[2] + list[3] = 15\n",
      "list[2] + list[4] = 14\n"
     ]
    },
    {
     "data": {
      "text/plain": [
       "(2, 4)"
      ]
     },
     "execution_count": 6,
     "metadata": {},
     "output_type": "execute_result"
    }
   ],
   "source": [
    "func2(list1, 14)"
   ]
  },
  {
   "cell_type": "code",
   "execution_count": 7,
   "id": "c51ee1e5",
   "metadata": {},
   "outputs": [
    {
     "name": "stdout",
     "output_type": "stream",
     "text": [
      "list[0] + list[1] = 8\n",
      "list[0] + list[2] = 10\n",
      "list[0] + list[3] = 7\n",
      "list[0] + list[4] = 6\n",
      "list[0] + list[5] = 4\n",
      "list[1] + list[2] = 16\n",
      "list[1] + list[3] = 13\n"
     ]
    },
    {
     "data": {
      "text/plain": [
       "(1, 3)"
      ]
     },
     "execution_count": 7,
     "metadata": {},
     "output_type": "execute_result"
    }
   ],
   "source": [
    "func2(list1, 13)"
   ]
  }
 ],
 "metadata": {
  "kernelspec": {
   "display_name": "Python 3",
   "language": "python",
   "name": "python3"
  },
  "language_info": {
   "codemirror_mode": {
    "name": "ipython",
    "version": 3
   },
   "file_extension": ".py",
   "mimetype": "text/x-python",
   "name": "python",
   "nbconvert_exporter": "python",
   "pygments_lexer": "ipython3",
   "version": "3.8.8"
  }
 },
 "nbformat": 4,
 "nbformat_minor": 5
}
