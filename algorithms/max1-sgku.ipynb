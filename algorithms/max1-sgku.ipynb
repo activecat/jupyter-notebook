{
 "metadata": {
  "language_info": {
   "codemirror_mode": {
    "name": "ipython",
    "version": 3
   },
   "file_extension": ".py",
   "mimetype": "text/x-python",
   "name": "python",
   "nbconvert_exporter": "python",
   "pygments_lexer": "ipython3",
   "version": "3.8.5"
  },
  "orig_nbformat": 2,
  "kernelspec": {
   "name": "python3",
   "display_name": "Python 3.8.5 64-bit",
   "metadata": {
    "interpreter": {
     "hash": "bb3667d25cea75d97cf6022c2f0b36aa031e10f7f624bb8de31851975fb6818b"
    }
   }
  }
 },
 "nbformat": 4,
 "nbformat_minor": 2,
 "cells": [
  {
   "cell_type": "code",
   "execution_count": 1,
   "metadata": {},
   "outputs": [
    {
     "output_type": "execute_result",
     "data": {
      "text/plain": [
       "98"
      ]
     },
     "metadata": {},
     "execution_count": 1
    }
   ],
   "source": [
    "# Question: What algorithm do the Python max() and min() functions use?\n",
    "# Answer: Python is implemented in C, but its algorithm is probably as follows:\n",
    "\n",
    "# Solution:\n",
    "def max2(*args):\n",
    "    highest = args[0]\n",
    "    for i in range(1, len(args)):\n",
    "        if args[i] > highest:\n",
    "            highest = args[i]\n",
    "    return highest\n",
    "\n",
    "# To test the answer,\n",
    "max2(2, -7, 98, -1, 25)"
   ]
  }
 ]
}