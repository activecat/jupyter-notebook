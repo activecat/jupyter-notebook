{
 "cells": [
  {
   "cell_type": "markdown",
   "id": "0dcd5b91",
   "metadata": {},
   "source": [
    "<h2>Objective</h2>\n",
    "Can someone explain the reason why i m getting wrong answer in second code.<br>\n",
    "<a href=\"https://web.facebook.com/groups/pythonsnake/permalink/5891664197517945\">https://web.facebook.com/groups/pythonsnake/permalink/5891664197517945</a>"
   ]
  },
  {
   "cell_type": "markdown",
   "id": "7ac5ae3d",
   "metadata": {},
   "source": [
    "<img src=\"max2-other.jpg\">"
   ]
  },
  {
   "cell_type": "code",
   "execution_count": 1,
   "id": "4f0b217a",
   "metadata": {},
   "outputs": [
    {
     "data": {
      "text/plain": [
       "19"
      ]
     },
     "execution_count": 1,
     "metadata": {},
     "output_type": "execute_result"
    }
   ],
   "source": [
    "# First code\n",
    "best = 0\n",
    "\n",
    "def largest(list2, index):\n",
    "    global best\n",
    "    if index < len(list2):\n",
    "        if best < list2[index]:\n",
    "            best = list2[index]\n",
    "        largest(list2, index + 1)\n",
    "        return best\n",
    "\n",
    "# Invoke the function,\n",
    "largest([ 3,9,2,10,4,19], 0)"
   ]
  },
  {
   "cell_type": "code",
   "execution_count": 2,
   "id": "731c1bc2",
   "metadata": {},
   "outputs": [
    {
     "data": {
      "text/plain": [
       "19"
      ]
     },
     "execution_count": 2,
     "metadata": {},
     "output_type": "execute_result"
    }
   ],
   "source": [
    "# Second code\n",
    "def largest(list2, index, best):\n",
    "    if index < len(list2):\n",
    "        if best < list2[index]:\n",
    "            best = list2[index]\n",
    "        return largest(list2, index + 1, best)\n",
    "    return best\n",
    "    \n",
    "largest([ 3,9,2,10,4,19], 0, 0)    "
   ]
  }
 ],
 "metadata": {
  "kernelspec": {
   "display_name": "Python 3",
   "language": "python",
   "name": "python3"
  },
  "language_info": {
   "codemirror_mode": {
    "name": "ipython",
    "version": 3
   },
   "file_extension": ".py",
   "mimetype": "text/x-python",
   "name": "python",
   "nbconvert_exporter": "python",
   "pygments_lexer": "ipython3",
   "version": "3.8.8"
  }
 },
 "nbformat": 4,
 "nbformat_minor": 5
}
