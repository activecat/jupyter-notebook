{
 "metadata": {
  "language_info": {
   "codemirror_mode": {
    "name": "ipython",
    "version": 3
   },
   "file_extension": ".py",
   "mimetype": "text/x-python",
   "name": "python",
   "nbconvert_exporter": "python",
   "pygments_lexer": "ipython3",
   "version": "3.8.5"
  },
  "orig_nbformat": 2,
  "kernelspec": {
   "name": "python385jvsc74a57bd0bb3667d25cea75d97cf6022c2f0b36aa031e10f7f624bb8de31851975fb6818b",
   "display_name": "Python 3.8.5 64-bit"
  }
 },
 "nbformat": 4,
 "nbformat_minor": 2,
 "cells": [
  {
   "cell_type": "code",
   "execution_count": 1,
   "metadata": {},
   "outputs": [],
   "source": [
    "# Question: \n",
    "#  How to find the second largest value in a list?  \n",
    "#  (The correct answer is 9 from below list)\n",
    "\n",
    "list2 = [ 1, 8, 4, 3, 9, 10, 6 ]"
   ]
  },
  {
   "cell_type": "code",
   "execution_count": 2,
   "metadata": {},
   "outputs": [],
   "source": [
    "# Solution A:  Search through the list by hand.\n",
    "def find(list2):\n",
    "    highest = second = None\n",
    "    for x in list2:\n",
    "        if highest is None or x > highest:\n",
    "            highest = x\n",
    "            print(\" (highest={})\".format(highest))\n",
    "\n",
    "    for x in list2:\n",
    "        if (second is None or x > second) and x is not highest:\n",
    "            second = x\n",
    "            print(\" (second={})\".format(second))\n",
    "\n",
    "    return second"
   ]
  },
  {
   "cell_type": "code",
   "execution_count": 3,
   "metadata": {},
   "outputs": [
    {
     "output_type": "stream",
     "name": "stdout",
     "text": [
      " (highest=1)\n (highest=8)\n (highest=9)\n (highest=10)\n (second=1)\n (second=8)\n (second=9)\nThe second highest is 9\n"
     ]
    }
   ],
   "source": [
    "# To test the solution A,\n",
    "print('The second highest is', find(list2))"
   ]
  },
  {
   "cell_type": "code",
   "execution_count": 4,
   "metadata": {},
   "outputs": [],
   "source": [
    "# Solution B:  Making use of the built-in max() function.\n",
    "list2 = [ 1, 8, 4, 3, 9, 10, 6 ]\n",
    "\n",
    "def func3(list2):\n",
    "    highest = max(list2)\n",
    "    list3 = list2.copy()\n",
    "    list3.remove(highest)  # This doesn't change the list2, but only list3.\n",
    "    return max(list3)"
   ]
  },
  {
   "cell_type": "code",
   "execution_count": 5,
   "metadata": {},
   "outputs": [
    {
     "output_type": "stream",
     "name": "stdout",
     "text": [
      "The second highest is 9\n"
     ]
    }
   ],
   "source": [
    "# To test the solution B,\n",
    "print('The second highest is', func3(list2))"
   ]
  },
  {
   "cell_type": "code",
   "execution_count": 6,
   "metadata": {},
   "outputs": [
    {
     "output_type": "execute_result",
     "data": {
      "text/plain": [
       "[1, 8, 4, 3, 9, 10, 6]"
      ]
     },
     "metadata": {},
     "execution_count": 6
    }
   ],
   "source": [
    "# To ensure list2 is not altered,\n",
    "list2"
   ]
  },
  {
   "cell_type": "code",
   "execution_count": 7,
   "metadata": {},
   "outputs": [
    {
     "output_type": "stream",
     "name": "stdout",
     "text": [
      "9\n"
     ]
    }
   ],
   "source": [
    "# Solution C:  The shortest\n",
    "list2 = [ 1, 8, 4, 3, 9, 10, 6 ]\n",
    "print(max([ x for x in list2 if x != max(list2)]))"
   ]
  }
 ]
}