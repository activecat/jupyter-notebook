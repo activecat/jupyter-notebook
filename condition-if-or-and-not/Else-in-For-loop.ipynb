{
 "metadata": {
  "language_info": {
   "codemirror_mode": {
    "name": "ipython",
    "version": 3
   },
   "file_extension": ".py",
   "mimetype": "text/x-python",
   "name": "python",
   "nbconvert_exporter": "python",
   "pygments_lexer": "ipython3",
   "version": "3.8.5"
  },
  "orig_nbformat": 2,
  "kernelspec": {
   "name": "python3",
   "display_name": "Python 3.8.5 64-bit",
   "metadata": {
    "interpreter": {
     "hash": "bb3667d25cea75d97cf6022c2f0b36aa031e10f7f624bb8de31851975fb6818b"
    }
   }
  }
 },
 "nbformat": 4,
 "nbformat_minor": 2,
 "cells": [
  {
   "cell_type": "code",
   "execution_count": 1,
   "metadata": {},
   "outputs": [
    {
     "output_type": "stream",
     "name": "stdout",
     "text": [
      "0\n1\n2\n3\n4\nCompleted successfully\n"
     ]
    }
   ],
   "source": [
    "for i in range(5):\n",
    "    print(i)\n",
    "\n",
    "    if i == 9:\n",
    "        print(\"Too big - I'm giving up!\")\n",
    "        break;  # <-- If this is executed, the statements of below \"else\" will not be executed.\n",
    "else:\n",
    "    print(\"Completed successfully\")"
   ]
  },
  {
   "cell_type": "code",
   "execution_count": 2,
   "metadata": {},
   "outputs": [],
   "source": [
    "# Note:\n",
    "#  If it encounters the break command in the for loop, the else part will not be called.\n",
    "#  If it does not encounter the break command in the for loop, the else part will be called.\n",
    "#  In other words, if for loop iteration is not \"broken\" with break, the else part will be called."
   ]
  },
  {
   "cell_type": "code",
   "execution_count": 3,
   "metadata": {},
   "outputs": [],
   "source": [
    "# https://www.w3schools.com/python/gloss_python_for_else.asp"
   ]
  }
 ]
}