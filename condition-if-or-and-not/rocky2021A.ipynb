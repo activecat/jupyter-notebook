{
 "cells": [
  {
   "cell_type": "markdown",
   "id": "a38dbb7c",
   "metadata": {},
   "source": [
    "<img src=\"rocky-question1b.jpg\">"
   ]
  },
  {
   "cell_type": "markdown",
   "id": "1a5f2612",
   "metadata": {},
   "source": [
    "# Solution"
   ]
  },
  {
   "cell_type": "code",
   "execution_count": 1,
   "id": "ca16af17",
   "metadata": {},
   "outputs": [],
   "source": [
    "import functools, re      \n",
    "\n",
    "dd = {\n",
    "    'A': 'Apollo', \n",
    "    'B': 'Boy', \n",
    "    'C': 'Cup',\n",
    "} \n",
    "\n",
    "# Note: There is no key of 'D' and 'E'."
   ]
  },
  {
   "cell_type": "markdown",
   "id": "ec8e88a1",
   "metadata": {},
   "source": [
    "## Step 1: Handle cases without brackets"
   ]
  },
  {
   "cell_type": "code",
   "execution_count": 2,
   "id": "e0eb7905",
   "metadata": {},
   "outputs": [],
   "source": [
    "# Note: We make 'and' having higher precedence than 'or'\n",
    "\n",
    "def func1(sentence:str, dd:dict) -> str:\n",
    "    \n",
    "    if ' or ' in sentence:\n",
    "        keys = sentence.split(' or '); print(\"__or__:  keys={}\".format(keys))\n",
    "        for x in keys:\n",
    "            value = func1(x, dd)\n",
    "            if value:\n",
    "                print(\"__or__:  keys={}, result='{}'\".format(keys, value))\n",
    "                return value\n",
    "        print(\"__or__:  keys={}, result=''  <The keys doesn't exist!>\".format(keys))\n",
    "        return ''\n",
    "\n",
    "    elif ' and ' in sentence:\n",
    "        keys = sentence.split(' and '); print(\"** __and__: keys={}\".format(keys))\n",
    "        values = [func1(x, dd) for x in keys]\n",
    "        result = ''.join(values)\n",
    "        print(\"** __and__: keys={}, result='{}'\".format(keys, result))\n",
    "        return result        \n",
    "\n",
    "    # When not containing 'or' / 'and'.\n",
    "    else:\n",
    "        if sentence in dd:\n",
    "            print(\"'{}' --> '{}'\".format(sentence, dd[sentence]))\n",
    "            return dd[sentence]\n",
    "        else:\n",
    "            print(\"'{}' --> ''  <Not exist>\".format(sentence))\n",
    "            return ''"
   ]
  },
  {
   "cell_type": "code",
   "execution_count": 3,
   "id": "6466cd14",
   "metadata": {},
   "outputs": [
    {
     "name": "stdout",
     "output_type": "stream",
     "text": [
      "'B' --> 'Boy'\n"
     ]
    }
   ],
   "source": [
    "assert func1('B', dd) == 'Boy'"
   ]
  },
  {
   "cell_type": "code",
   "execution_count": 4,
   "id": "22e985a0",
   "metadata": {
    "tags": []
   },
   "outputs": [
    {
     "name": "stdout",
     "output_type": "stream",
     "text": [
      "** __and__: keys=['A', 'B', 'C', 'D', 'E']\n",
      "'A' --> 'Apollo'\n",
      "'B' --> 'Boy'\n",
      "'C' --> 'Cup'\n",
      "'D' --> ''  <Not exist>\n",
      "'E' --> ''  <Not exist>\n",
      "** __and__: keys=['A', 'B', 'C', 'D', 'E'], result='ApolloBoyCup'\n"
     ]
    }
   ],
   "source": [
    "assert func1('A and B and C and D and E', dd) == 'ApolloBoyCup'"
   ]
  },
  {
   "cell_type": "code",
   "execution_count": 5,
   "id": "d5c4db7d",
   "metadata": {},
   "outputs": [
    {
     "name": "stdout",
     "output_type": "stream",
     "text": [
      "__or__:  keys=['E', 'C', 'J']\n",
      "'E' --> ''  <Not exist>\n",
      "'C' --> 'Cup'\n",
      "__or__:  keys=['E', 'C', 'J'], result='Cup'\n"
     ]
    }
   ],
   "source": [
    "assert func1('E or C or J', dd) == 'Cup'"
   ]
  },
  {
   "cell_type": "code",
   "execution_count": 6,
   "id": "08a5b236",
   "metadata": {},
   "outputs": [
    {
     "name": "stdout",
     "output_type": "stream",
     "text": [
      "__or__:  keys=['E', 'F']\n",
      "'E' --> ''  <Not exist>\n",
      "'F' --> ''  <Not exist>\n",
      "__or__:  keys=['E', 'F'], result=''  <The keys doesn't exist!>\n"
     ]
    }
   ],
   "source": [
    "assert func1('E or F', dd) == ''"
   ]
  },
  {
   "cell_type": "code",
   "execution_count": 7,
   "id": "38d8ec15",
   "metadata": {},
   "outputs": [
    {
     "name": "stdout",
     "output_type": "stream",
     "text": [
      "__or__:  keys=['A', 'B and C']\n",
      "'A' --> 'Apollo'\n",
      "__or__:  keys=['A', 'B and C'], result='Apollo'\n"
     ]
    }
   ],
   "source": [
    "assert func1('A or B and C', dd) == 'Apollo'"
   ]
  },
  {
   "cell_type": "code",
   "execution_count": 8,
   "id": "38fc987b",
   "metadata": {},
   "outputs": [
    {
     "name": "stdout",
     "output_type": "stream",
     "text": [
      "__or__:  keys=['A and B', 'C']\n",
      "** __and__: keys=['A', 'B']\n",
      "'A' --> 'Apollo'\n",
      "'B' --> 'Boy'\n",
      "** __and__: keys=['A', 'B'], result='ApolloBoy'\n",
      "__or__:  keys=['A and B', 'C'], result='ApolloBoy'\n"
     ]
    }
   ],
   "source": [
    "assert func1('A and B or C', dd) == 'ApolloBoy'"
   ]
  },
  {
   "cell_type": "code",
   "execution_count": 9,
   "id": "4c3bc830",
   "metadata": {},
   "outputs": [
    {
     "name": "stdout",
     "output_type": "stream",
     "text": [
      "__or__:  keys=['D', 'B and C']\n",
      "'D' --> ''  <Not exist>\n",
      "** __and__: keys=['B', 'C']\n",
      "'B' --> 'Boy'\n",
      "'C' --> 'Cup'\n",
      "** __and__: keys=['B', 'C'], result='BoyCup'\n",
      "__or__:  keys=['D', 'B and C'], result='BoyCup'\n"
     ]
    }
   ],
   "source": [
    "assert func1('D or B and C', dd) == 'BoyCup'"
   ]
  },
  {
   "cell_type": "code",
   "execution_count": 10,
   "id": "d62517bf",
   "metadata": {},
   "outputs": [
    {
     "name": "stdout",
     "output_type": "stream",
     "text": [
      "__or__:  keys=['D and B', 'C']\n",
      "** __and__: keys=['D', 'B']\n",
      "'D' --> ''  <Not exist>\n",
      "'B' --> 'Boy'\n",
      "** __and__: keys=['D', 'B'], result='Boy'\n",
      "__or__:  keys=['D and B', 'C'], result='Boy'\n"
     ]
    }
   ],
   "source": [
    "assert func1('D and B or C', dd) == 'Boy'"
   ]
  },
  {
   "cell_type": "code",
   "execution_count": 11,
   "id": "b213fd68",
   "metadata": {},
   "outputs": [
    {
     "name": "stdout",
     "output_type": "stream",
     "text": [
      "__or__:  keys=['A', 'B and C', 'D']\n",
      "'A' --> 'Apollo'\n",
      "__or__:  keys=['A', 'B and C', 'D'], result='Apollo'\n"
     ]
    }
   ],
   "source": [
    "assert func1('A or B and C or D', dd) == 'Apollo'"
   ]
  },
  {
   "cell_type": "code",
   "execution_count": 12,
   "id": "75d467cc",
   "metadata": {},
   "outputs": [
    {
     "name": "stdout",
     "output_type": "stream",
     "text": [
      "__or__:  keys=['A and B', 'C and D']\n",
      "** __and__: keys=['A', 'B']\n",
      "'A' --> 'Apollo'\n",
      "'B' --> 'Boy'\n",
      "** __and__: keys=['A', 'B'], result='ApolloBoy'\n",
      "__or__:  keys=['A and B', 'C and D'], result='ApolloBoy'\n"
     ]
    }
   ],
   "source": [
    "assert func1('A and B or C and D', dd) == 'ApolloBoy'"
   ]
  },
  {
   "cell_type": "markdown",
   "id": "182c79f7",
   "metadata": {},
   "source": [
    "## To be continued .."
   ]
  }
 ],
 "metadata": {
  "interpreter": {
   "hash": "b046c8a3b10b02677d585a50ef8e68af2a151465fe9f963df3b4746691489acb"
  },
  "kernelspec": {
   "display_name": "Python 3",
   "language": "python",
   "name": "python3"
  },
  "language_info": {
   "codemirror_mode": {
    "name": "ipython",
    "version": 3
   },
   "file_extension": ".py",
   "mimetype": "text/x-python",
   "name": "python",
   "nbconvert_exporter": "python",
   "pygments_lexer": "ipython3",
   "version": "3.8.8"
  }
 },
 "nbformat": 4,
 "nbformat_minor": 5
}
