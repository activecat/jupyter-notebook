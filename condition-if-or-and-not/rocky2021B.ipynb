{
 "cells": [
  {
   "cell_type": "markdown",
   "metadata": {},
   "source": [
    "<img src=\"rocky-question1b.jpg\">"
   ]
  },
  {
   "cell_type": "markdown",
   "metadata": {},
   "source": [
    "# Solution"
   ]
  },
  {
   "cell_type": "markdown",
   "metadata": {},
   "source": [
    "## Step 2: To test the regex"
   ]
  },
  {
   "cell_type": "code",
   "execution_count": 1,
   "metadata": {},
   "outputs": [],
   "source": [
    "import re\n",
    "\n",
    "# To match the brackets, which is \"(...)\"\n",
    "pattern2 = r\"\\((\\w.+?)\\)\"  # <-- Use the question mark to match as few characters as possible (non-greedy).\n",
    "pattern3 = r\"\\((\\w.+)\\)\"   # <-- This performs 'greedy' match."
   ]
  },
  {
   "cell_type": "code",
   "execution_count": 2,
   "metadata": {},
   "outputs": [
    {
     "data": {
      "text/plain": [
       "[(6, 14), (19, 27), (32, 40)]"
      ]
     },
     "execution_count": 2,
     "metadata": {},
     "output_type": "execute_result"
    }
   ],
   "source": [
    "# Test 1\n",
    "sentence = \"A and (B or C) and (D or E) and (F or G)\"\n",
    "m = re.finditer(pattern2, sentence)\n",
    "[x.span() for x in m]"
   ]
  },
  {
   "cell_type": "code",
   "execution_count": 3,
   "metadata": {},
   "outputs": [
    {
     "data": {
      "text/plain": [
       "[(9, 11), (22, 24), (35, 37)]"
      ]
     },
     "execution_count": 3,
     "metadata": {},
     "output_type": "execute_result"
    }
   ],
   "source": [
    "# Test 2\n",
    "word = 'or'\n",
    "sentence = \"A and (B or C) and (D or E) and (F or G)\"\n",
    "m = re.finditer(word, sentence)\n",
    "[x.span() for x in m]"
   ]
  },
  {
   "cell_type": "code",
   "execution_count": 4,
   "metadata": {},
   "outputs": [
    {
     "data": {
      "text/plain": [
       "[(2, 5), (15, 18), (28, 31)]"
      ]
     },
     "execution_count": 4,
     "metadata": {},
     "output_type": "execute_result"
    }
   ],
   "source": [
    "# Test 3\n",
    "word = 'and'\n",
    "sentence = \"A and (B or C) and (D or E) and (F or G)\"\n",
    "m = re.finditer(word, sentence)\n",
    "[x.span() for x in m]"
   ]
  },
  {
   "cell_type": "code",
   "execution_count": 5,
   "metadata": {},
   "outputs": [
    {
     "data": {
      "text/plain": [
       "[]"
      ]
     },
     "execution_count": 5,
     "metadata": {},
     "output_type": "execute_result"
    }
   ],
   "source": [
    "# Test 4\n",
    "word = 'xor'\n",
    "sentence = \"A and (B or C) and (D or E) and (F or G)\"\n",
    "m = re.finditer(word, sentence)\n",
    "[x.span() for x in m]  # <-- This gives an empty list, when the expression is not matched."
   ]
  },
  {
   "cell_type": "code",
   "execution_count": 6,
   "metadata": {},
   "outputs": [],
   "source": [
    "# function\n",
    "\n",
    "def is_inside_bracket(position:tuple, iBrackets:list) -> bool:\n",
    "    for b in iBrackets:\n",
    "        if b[0]< position[0] and b[1] > position[1]:\n",
    "            return True\n",
    "    return False"
   ]
  },
  {
   "cell_type": "code",
   "execution_count": 7,
   "metadata": {},
   "outputs": [],
   "source": [
    "# Tests\n",
    "assert is_inside_bracket((8, 11), [(5, 14), (19, 27), (32, 40)]) is True\n",
    "assert is_inside_bracket((16, 18), [(5, 14), (19, 27), (32, 40)]) is False\n",
    "assert is_inside_bracket((29, 31), [(5, 14), (19, 27), (32, 40)]) is False\n",
    "assert is_inside_bracket((16, 18), []) is False"
   ]
  },
  {
   "cell_type": "code",
   "execution_count": 8,
   "metadata": {},
   "outputs": [],
   "source": [
    "# This get the position of the word, for which the word MUST be outside the brackets.\n",
    "# Otherwise return None.\n",
    "\n",
    "def get_position(word:str, sentence:str) -> tuple:\n",
    "    iX = [x.span() for x in re.finditer(word, sentence)]\n",
    "    iBrackets = [x.span() for x in re.finditer(pattern2, sentence)]\n",
    "    for y in iX:\n",
    "        if not is_inside_bracket(y, iBrackets):\n",
    "            return y  # <type tuple>\n",
    "    return None"
   ]
  },
  {
   "cell_type": "code",
   "execution_count": 9,
   "metadata": {},
   "outputs": [],
   "source": [
    "# Tests\n",
    "assert get_position('or', 'A or (B and C) and (D or E) and (F or G)') == (2, 4)\n",
    "assert get_position('or', 'A and (B or C) and (D or E) and (F or G)') is None  # <-- There is no 'or' outside the brackets.\n",
    "assert get_position('or', 'A and (B or C) and (D or E) and (F or G) or Z') == (41, 43)\n",
    "assert get_position('and', 'A or (B and C) and (D or E) and (F or G)') == (15, 18)\n",
    "assert get_position('and', 'A or (B and C) or (D and E) or (F and G)') == None # <-- There is no 'and' outside the brackets."
   ]
  },
  {
   "cell_type": "markdown",
   "metadata": {},
   "source": [
    "## This must be correct first: (below)"
   ]
  },
  {
   "cell_type": "code",
   "execution_count": 10,
   "metadata": {},
   "outputs": [],
   "source": [
    "# def get_position(word:str, sentence:str) -> tuple:\n",
    "    # iX = [x.span() for x in re.finditer(word, sentence)]\n",
    "    # iBrackets = [x.span() for x in re.finditer(pattern3, sentence)]\n",
    "    # for y in iX:\n",
    "        # if not is_inside_bracket(y, iBrackets):\n",
    "            # return y  # <type tuple>\n",
    "    # return None\n",
    "# \n",
    "# assert get_position('and', '(((B or C) and D) and E)') is None   \n",
    "# assert get_position('and', '((B or C) and D) and E') == (17, 20)\n",
    "# assert get_position('or', '((B or C) and D) and E') is None"
   ]
  },
  {
   "cell_type": "code",
   "execution_count": 11,
   "metadata": {},
   "outputs": [],
   "source": [
    "# function\n",
    "\n",
    "def split_sentence(sentence:str) -> tuple:\n",
    "    pOR = get_position(' or ', sentence)    # <type tuple>\n",
    "    pAND = get_position(' and ', sentence)  # <type tuple>\n",
    "\n",
    "    if pOR and (pAND is None or pAND[0] > pOR[0]):\n",
    "        return sentence[:pOR[0]], 'OR', sentence[pOR[1]:]\n",
    "    \n",
    "    elif pAND and (pOR is None or pOR[0] > pAND[0]):\n",
    "        return sentence[:pAND[0]], 'AND', sentence[pAND[1]:]\n",
    "    else:\n",
    "        return None"
   ]
  },
  {
   "cell_type": "code",
   "execution_count": 12,
   "metadata": {},
   "outputs": [],
   "source": [
    "# Tests\n",
    "assert split_sentence('(B or C) and (D or E) and (F or G)') == ('(B or C)', 'AND', '(D or E) and (F or G)')\n",
    "assert split_sentence('(B and C) or (D and E) and (F or G)') == ('(B and C)', 'OR', '(D and E) and (F or G)')\n",
    "assert split_sentence('(A and B and C and D)') is None\n",
    "assert split_sentence('(A or B and C or D)') is None\n",
    "\n",
    "assert split_sentence('A and B and C and D') == ('A', 'AND', 'B and C and D')\n",
    "assert split_sentence('A is B similar-to C') is None"
   ]
  },
  {
   "cell_type": "markdown",
   "metadata": {},
   "source": [
    "## Step 3: To remove the brackets"
   ]
  },
  {
   "cell_type": "code",
   "execution_count": 13,
   "metadata": {},
   "outputs": [],
   "source": [
    "# This is highly verbose version.\n",
    "\n",
    "def remove_brackets(sentence:str) -> str:\n",
    "    sentence = sentence.strip()\n",
    "    if sentence[0] != '(':\n",
    "        print(\"** '{}' ==> Not removing brackets unless the first character is '('\".format(sentence))\n",
    "        return sentence\n",
    "\n",
    "    if sentence[-1] != ')':\n",
    "        print(\"** '{}' ==> Not removing brackets unless the last character is ')'\".format(sentence))\n",
    "        return sentence\n",
    "\n",
    "    closing = 0\n",
    "    count = 0\n",
    "    for i, x in enumerate(sentence):\n",
    "        if x == '(':\n",
    "            count += 1\n",
    "            if count == 1 and closing != 0:\n",
    "                    print(\"** '{}' ==> Not removing brackets. You need to split the sentence first.\".format(sentence))\n",
    "                    return sentence\n",
    "                    \n",
    "        elif x == ')':\n",
    "            count -= 1\n",
    "            if count == 0:\n",
    "                closing = i\n",
    "        \n",
    "        if count < 0:\n",
    "            raise ValueError(\"Incorrect ')' detected at position {} of '{}'\".format(i, sentence))\n",
    "\n",
    "    return sentence[1:-1]  "
   ]
  },
  {
   "cell_type": "code",
   "execution_count": 14,
   "metadata": {},
   "outputs": [
    {
     "name": "stdout",
     "output_type": "stream",
     "text": [
      "** '(P and Q) or (B or C)' ==> Not removing brackets. You need to split the sentence first.\n"
     ]
    },
    {
     "data": {
      "text/plain": [
       "'(P and Q) or (B or C)'"
      ]
     },
     "execution_count": 14,
     "metadata": {},
     "output_type": "execute_result"
    }
   ],
   "source": [
    "remove_brackets(' (P and Q) or (B or C) ')"
   ]
  },
  {
   "cell_type": "code",
   "execution_count": 15,
   "metadata": {},
   "outputs": [],
   "source": [
    "assert remove_brackets('((P and Q) or (B or (C and D)))')  == '(P and Q) or (B or (C and D))'\n",
    "assert remove_brackets('((A and B) or (C and D))') == '(A and B) or (C and D)'"
   ]
  },
  {
   "cell_type": "code",
   "execution_count": 16,
   "metadata": {},
   "outputs": [
    {
     "name": "stdout",
     "output_type": "stream",
     "text": [
      "ValueError: Incorrect ')' detected at position 8 of '(A or B)) and (C or D)'\n"
     ]
    }
   ],
   "source": [
    "try:\n",
    "    remove_brackets(' (A or B)) and (C or D)')    \n",
    "except ValueError as e:\n",
    "    print(\"ValueError: {}\".format(e))"
   ]
  },
  {
   "cell_type": "code",
   "execution_count": 17,
   "metadata": {},
   "outputs": [
    {
     "name": "stdout",
     "output_type": "stream",
     "text": [
      "** 'A and (C or D)' ==> Not removing brackets unless the first character is '('\n"
     ]
    }
   ],
   "source": [
    "assert remove_brackets('A and (C or D)')  == 'A and (C or D)'"
   ]
  },
  {
   "cell_type": "code",
   "execution_count": 18,
   "metadata": {},
   "outputs": [
    {
     "name": "stdout",
     "output_type": "stream",
     "text": [
      "** '(A and B) or C' ==> Not removing brackets unless the last character is ')'\n"
     ]
    }
   ],
   "source": [
    "assert remove_brackets('(A and B) or C') == '(A and B) or C'"
   ]
  },
  {
   "cell_type": "markdown",
   "metadata": {},
   "source": [
    "## Step 4: Putting all together"
   ]
  },
  {
   "cell_type": "code",
   "execution_count": 19,
   "metadata": {},
   "outputs": [],
   "source": [
    "dd = {\n",
    "    'A': 'Apollo', \n",
    "    'B': 'Boy', \n",
    "    'C': 'Cup',\n",
    "}\n",
    "\n",
    "# Note: There is no key of 'D' and 'E'."
   ]
  },
  {
   "cell_type": "code",
   "execution_count": 20,
   "metadata": {},
   "outputs": [],
   "source": [
    "# Turn off some verbose message.\n",
    "\n",
    "def remove_brackets(sentence:str) -> str:\n",
    "    sentence = sentence.strip()\n",
    "    if sentence[0] != '(':\n",
    "        return sentence\n",
    "\n",
    "    if sentence[-1] != ')':\n",
    "        return sentence\n",
    "\n",
    "    closing = 0\n",
    "    count = 0\n",
    "    for i, x in enumerate(sentence):\n",
    "        if x == '(':\n",
    "            count += 1\n",
    "            if count == 1 and closing != 0:\n",
    "                    print(\"** '{}' ==> Not removing brackets. You need to split it first.\".format(sentence))\n",
    "                    return sentence\n",
    "                    \n",
    "        elif x == ')':\n",
    "            count -= 1\n",
    "            if count == 0:\n",
    "                closing = i\n",
    "        \n",
    "        if count < 0:\n",
    "            raise ValueError(\"Incorrect ')' detected at position {} of '{}'\".format(i, sentence))\n",
    "\n",
    "    return sentence[1:-1]  "
   ]
  },
  {
   "cell_type": "code",
   "execution_count": 21,
   "metadata": {},
   "outputs": [],
   "source": [
    "def func2(sentence:str, dd:dict) -> str:\n",
    "    sentence = remove_brackets(sentence)\n",
    "    print(\"** Start  processing '{}'\".format(sentence))\n",
    "    s = split_sentence(sentence)\n",
    "\n",
    "    if s and s[1] == 'OR':\n",
    "        result = func2(s[0], dd) or func2(s[2], dd)\n",
    "        print(\"** Start  processing '{}':  result='{}'\".format(sentence, result))\n",
    "        return result\n",
    "\n",
    "    elif s and s[1] == 'AND':\n",
    "        result = func2(s[0], dd) + func2(s[2], dd)\n",
    "        print(\"** Finish processing '{}':  result='{}'\".format(sentence, result))\n",
    "        return result        \n",
    "\n",
    "    else:\n",
    "        if sentence in dd:\n",
    "            result = dd[sentence]\n",
    "            print(\"** Finish processing '{}':  result='{}'\".format(sentence, result))\n",
    "            return result                    \n",
    "        else:\n",
    "            print(\"** Finish processing '{}':  result=''\".format(sentence))\n",
    "            return ''        "
   ]
  },
  {
   "cell_type": "code",
   "execution_count": 22,
   "metadata": {},
   "outputs": [
    {
     "name": "stdout",
     "output_type": "stream",
     "text": [
      "** Start  processing 'A and B and C'\n",
      "** Start  processing 'A'\n",
      "** Finish processing 'A':  result='Apollo'\n",
      "** Start  processing 'B and C'\n",
      "** Start  processing 'B'\n",
      "** Finish processing 'B':  result='Boy'\n",
      "** Start  processing 'C'\n",
      "** Finish processing 'C':  result='Cup'\n",
      "** Finish processing 'B and C':  result='BoyCup'\n",
      "** Finish processing 'A and B and C':  result='ApolloBoyCup'\n",
      "result: ApolloBoyCup\n"
     ]
    }
   ],
   "source": [
    "result = func2('A and B and C', dd)\n",
    "print(\"result:\", result)"
   ]
  },
  {
   "cell_type": "code",
   "execution_count": 23,
   "metadata": {},
   "outputs": [
    {
     "name": "stdout",
     "output_type": "stream",
     "text": [
      "** Start  processing 'A and (B or C)'\n",
      "** Start  processing 'A'\n",
      "** Finish processing 'A':  result='Apollo'\n",
      "** Start  processing 'B or C'\n",
      "** Start  processing 'B'\n",
      "** Finish processing 'B':  result='Boy'\n",
      "** Start  processing 'B or C':  result='Boy'\n",
      "** Finish processing 'A and (B or C)':  result='ApolloBoy'\n",
      "result: ApolloBoy\n"
     ]
    }
   ],
   "source": [
    "result = func2('A and (B or C)', dd)\n",
    "print(\"result:\", result)"
   ]
  },
  {
   "cell_type": "code",
   "execution_count": 24,
   "metadata": {},
   "outputs": [
    {
     "name": "stdout",
     "output_type": "stream",
     "text": [
      "** Start  processing '(A or B) and C'\n",
      "** Start  processing 'A or B'\n",
      "** Start  processing 'A'\n",
      "** Finish processing 'A':  result='Apollo'\n",
      "** Start  processing 'A or B':  result='Apollo'\n",
      "** Start  processing 'C'\n",
      "** Finish processing 'C':  result='Cup'\n",
      "** Finish processing '(A or B) and C':  result='ApolloCup'\n",
      "result: ApolloCup\n"
     ]
    }
   ],
   "source": [
    "result = func2('(A or B) and C', dd)\n",
    "print(\"result:\", result)"
   ]
  },
  {
   "cell_type": "code",
   "execution_count": 25,
   "metadata": {},
   "outputs": [
    {
     "name": "stdout",
     "output_type": "stream",
     "text": [
      "** Start  processing 'A or (B and C)'\n",
      "** Start  processing 'A'\n",
      "** Finish processing 'A':  result='Apollo'\n",
      "** Start  processing 'A or (B and C)':  result='Apollo'\n",
      "result: Apollo\n"
     ]
    }
   ],
   "source": [
    "result = func2('A or (B and C)', dd)\n",
    "print(\"result:\", result)"
   ]
  },
  {
   "cell_type": "code",
   "execution_count": 26,
   "metadata": {},
   "outputs": [
    {
     "name": "stdout",
     "output_type": "stream",
     "text": [
      "** Start  processing 'D or (A and B)'\n",
      "** Start  processing 'D'\n",
      "** Finish processing 'D':  result=''\n",
      "** Start  processing 'A and B'\n",
      "** Start  processing 'A'\n",
      "** Finish processing 'A':  result='Apollo'\n",
      "** Start  processing 'B'\n",
      "** Finish processing 'B':  result='Boy'\n",
      "** Finish processing 'A and B':  result='ApolloBoy'\n",
      "** Start  processing 'D or (A and B)':  result='ApolloBoy'\n",
      "result: ApolloBoy\n"
     ]
    }
   ],
   "source": [
    "result = func2('D or (A and B)', dd)\n",
    "print(\"result:\", result)"
   ]
  },
  {
   "cell_type": "code",
   "execution_count": 27,
   "metadata": {},
   "outputs": [
    {
     "name": "stdout",
     "output_type": "stream",
     "text": [
      "** '(A or B) and (C or D) and (E or F)' ==> Not removing brackets. You need to split it first.\n",
      "** Start  processing '(A or B) and (C or D) and (E or F)'\n",
      "** Start  processing 'A or B'\n",
      "** Start  processing 'A'\n",
      "** Finish processing 'A':  result='Apollo'\n",
      "** Start  processing 'A or B':  result='Apollo'\n",
      "** '(C or D) and (E or F)' ==> Not removing brackets. You need to split it first.\n",
      "** Start  processing '(C or D) and (E or F)'\n",
      "** Start  processing 'C or D'\n",
      "** Start  processing 'C'\n",
      "** Finish processing 'C':  result='Cup'\n",
      "** Start  processing 'C or D':  result='Cup'\n",
      "** Start  processing 'E or F'\n",
      "** Start  processing 'E'\n",
      "** Finish processing 'E':  result=''\n",
      "** Start  processing 'F'\n",
      "** Finish processing 'F':  result=''\n",
      "** Start  processing 'E or F':  result=''\n",
      "** Finish processing '(C or D) and (E or F)':  result='Cup'\n",
      "** Finish processing '(A or B) and (C or D) and (E or F)':  result='ApolloCup'\n",
      "result: ApolloCup\n"
     ]
    }
   ],
   "source": [
    "result = func2('(A or B) and (C or D) and (E or F)', dd)\n",
    "print(\"result:\", result)"
   ]
  },
  {
   "cell_type": "markdown",
   "metadata": {},
   "source": [
    "## To test the given dictionary"
   ]
  },
  {
   "cell_type": "code",
   "execution_count": 28,
   "metadata": {},
   "outputs": [
    {
     "name": "stdout",
     "output_type": "stream",
     "text": [
      "** Start  processing 'A and B'\n",
      "** Start  processing 'A'\n",
      "** Finish processing 'A':  result='Hello'\n",
      "** Start  processing 'B'\n",
      "** Finish processing 'B':  result='World'\n",
      "** Finish processing 'A and B':  result='HelloWorld'\n",
      "result: HelloWorld\n"
     ]
    }
   ],
   "source": [
    "sentence = 'A and B'\n",
    "dd = {'A': 'Hello', 'B': 'World', 'C': 'Buddy'}\n",
    "result = func2(sentence, dd)\n",
    "print(\"result:\", result)"
   ]
  },
  {
   "cell_type": "code",
   "execution_count": 29,
   "metadata": {},
   "outputs": [
    {
     "name": "stdout",
     "output_type": "stream",
     "text": [
      "** Start  processing 'A and C'\n",
      "** Start  processing 'A'\n",
      "** Finish processing 'A':  result='Hello'\n",
      "** Start  processing 'C'\n",
      "** Finish processing 'C':  result='Buddy'\n",
      "** Finish processing 'A and C':  result='HelloBuddy'\n",
      "result: HelloBuddy\n"
     ]
    }
   ],
   "source": [
    "sentence = 'A and C'\n",
    "dd = {'A': 'Hello', 'B': 'World', 'C': 'Buddy'}\n",
    "result = func2(sentence, dd)\n",
    "print(\"result:\", result)"
   ]
  },
  {
   "cell_type": "code",
   "execution_count": 30,
   "metadata": {},
   "outputs": [
    {
     "name": "stdout",
     "output_type": "stream",
     "text": [
      "** Start  processing 'D or B'\n",
      "** Start  processing 'D'\n",
      "** Finish processing 'D':  result=''\n",
      "** Start  processing 'B'\n",
      "** Finish processing 'B':  result='World'\n",
      "** Start  processing 'D or B':  result='World'\n",
      "result: World\n"
     ]
    }
   ],
   "source": [
    "sentence = 'D or B'\n",
    "dd = {'A': 'Hello', 'B': 'World', 'C': 'Buddy'}\n",
    "result = func2(sentence, dd)\n",
    "print(\"result:\", result)"
   ]
  },
  {
   "cell_type": "code",
   "execution_count": 31,
   "metadata": {},
   "outputs": [
    {
     "name": "stdout",
     "output_type": "stream",
     "text": [
      "** Start  processing 'A or B'\n",
      "** Start  processing 'A'\n",
      "** Finish processing 'A':  result='Hello'\n",
      "** Start  processing 'A or B':  result='Hello'\n",
      "result: Hello\n"
     ]
    }
   ],
   "source": [
    "sentence = 'A or B'\n",
    "dd = {'A': 'Hello', 'B': 'World', 'C': 'Buddy'}\n",
    "result = func2(sentence, dd)\n",
    "print(\"result:\", result)"
   ]
  },
  {
   "cell_type": "code",
   "execution_count": 32,
   "metadata": {},
   "outputs": [
    {
     "name": "stdout",
     "output_type": "stream",
     "text": [
      "** Start  processing 'A and B and C'\n",
      "** Start  processing 'A'\n",
      "** Finish processing 'A':  result='Hello'\n",
      "** Start  processing 'B and C'\n",
      "** Start  processing 'B'\n",
      "** Finish processing 'B':  result='World'\n",
      "** Start  processing 'C'\n",
      "** Finish processing 'C':  result='Buddy'\n",
      "** Finish processing 'B and C':  result='WorldBuddy'\n",
      "** Finish processing 'A and B and C':  result='HelloWorldBuddy'\n",
      "result: HelloWorldBuddy\n"
     ]
    }
   ],
   "source": [
    "sentence = 'A and B and C'\n",
    "dd = {'A': 'Hello', 'B': 'World', 'C': 'Buddy'}\n",
    "result = func2(sentence, dd)\n",
    "print(\"result:\", result)"
   ]
  },
  {
   "cell_type": "code",
   "execution_count": 33,
   "metadata": {},
   "outputs": [
    {
     "name": "stdout",
     "output_type": "stream",
     "text": [
      "** Start  processing 'A and (B or C)'\n",
      "** Start  processing 'A'\n",
      "** Finish processing 'A':  result='Hello'\n",
      "** Start  processing 'B or C'\n",
      "** Start  processing 'B'\n",
      "** Finish processing 'B':  result='World'\n",
      "** Start  processing 'B or C':  result='World'\n",
      "** Finish processing 'A and (B or C)':  result='HelloWorld'\n",
      "result: HelloWorld\n"
     ]
    }
   ],
   "source": [
    "sentence = 'A and (B or C)'\n",
    "dd = {'A': 'Hello', 'B': 'World', 'C': 'Buddy'}\n",
    "result = func2(sentence, dd)\n",
    "print(\"result:\", result)"
   ]
  },
  {
   "cell_type": "code",
   "execution_count": 34,
   "metadata": {},
   "outputs": [
    {
     "name": "stdout",
     "output_type": "stream",
     "text": [
      "** Start  processing 'A and (C or D)'\n",
      "** Start  processing 'A'\n",
      "** Finish processing 'A':  result='Hello'\n",
      "** Start  processing 'C or D'\n",
      "** Start  processing 'C'\n",
      "** Finish processing 'C':  result='Buddy'\n",
      "** Start  processing 'C or D':  result='Buddy'\n",
      "** Finish processing 'A and (C or D)':  result='HelloBuddy'\n",
      "result: HelloBuddy\n"
     ]
    }
   ],
   "source": [
    "sentence = 'A and (C or D)'\n",
    "dd = {'A': 'Hello', 'B': 'World', 'C': 'Buddy'}\n",
    "result = func2(sentence, dd)\n",
    "print(\"result:\", result)"
   ]
  },
  {
   "cell_type": "code",
   "execution_count": 35,
   "metadata": {},
   "outputs": [
    {
     "name": "stdout",
     "output_type": "stream",
     "text": [
      "** Start  processing 'A and (B or C) and D'\n",
      "** Start  processing 'A'\n",
      "** Finish processing 'A':  result='Hello'\n",
      "** Start  processing '(B or C) and D'\n",
      "** Start  processing 'B or C'\n",
      "** Start  processing 'B'\n",
      "** Finish processing 'B':  result=''\n",
      "** Start  processing 'C'\n",
      "** Finish processing 'C':  result='Buddy'\n",
      "** Start  processing 'B or C':  result='Buddy'\n",
      "** Start  processing 'D'\n",
      "** Finish processing 'D':  result='Welcome'\n",
      "** Finish processing '(B or C) and D':  result='BuddyWelcome'\n",
      "** Finish processing 'A and (B or C) and D':  result='HelloBuddyWelcome'\n",
      "result: HelloBuddyWelcome\n"
     ]
    }
   ],
   "source": [
    "sentence = 'A and (B or C) and D'\n",
    "dd = {'A': 'Hello', 'C': 'Buddy', 'D': 'Welcome'}\n",
    "result = func2(sentence, dd)\n",
    "print(\"result:\", result)"
   ]
  },
  {
   "cell_type": "code",
   "execution_count": 36,
   "metadata": {},
   "outputs": [
    {
     "name": "stdout",
     "output_type": "stream",
     "text": [
      "** Start  processing 'A and ((B or C) and D) and E'\n",
      "** Start  processing 'A'\n",
      "** Finish processing 'A':  result='Hello'\n",
      "** Start  processing '((B or C) and D) and E'\n",
      "** Start  processing '(B or C'\n",
      "** Start  processing '(B'\n",
      "** Finish processing '(B':  result=''\n",
      "** Start  processing 'C'\n",
      "** Finish processing 'C':  result='Buddy'\n",
      "** Start  processing '(B or C':  result='Buddy'\n",
      "** Start  processing 'D) and E'\n",
      "** Start  processing 'D)'\n",
      "** Finish processing 'D)':  result=''\n",
      "** Start  processing 'E'\n",
      "** Finish processing 'E':  result='Elephant'\n",
      "** Finish processing 'D) and E':  result='Elephant'\n",
      "** Finish processing '((B or C) and D) and E':  result='BuddyElephant'\n",
      "** Finish processing 'A and ((B or C) and D) and E':  result='HelloBuddyElephant'\n",
      "result: HelloBuddyElephant\n"
     ]
    }
   ],
   "source": [
    "sentence = 'A and ((B or C) and D) and E'\n",
    "dd = {'A': 'Hello', 'C': 'Buddy', 'D': 'Welcome', 'E': 'Elephant'}\n",
    "result = func2(sentence, dd)\n",
    "print(\"result:\", result)"
   ]
  },
  {
   "cell_type": "markdown",
   "metadata": {},
   "source": [
    "## Extra tests"
   ]
  }
 ],
 "metadata": {
  "interpreter": {
   "hash": "b046c8a3b10b02677d585a50ef8e68af2a151465fe9f963df3b4746691489acb"
  },
  "kernelspec": {
   "display_name": "Python 3.8.8 64-bit ('base': conda)",
   "name": "python3"
  },
  "language_info": {
   "codemirror_mode": {
    "name": "ipython",
    "version": 3
   },
   "file_extension": ".py",
   "mimetype": "text/x-python",
   "name": "python",
   "nbconvert_exporter": "python",
   "pygments_lexer": "ipython3",
   "version": "3.8.8"
  }
 },
 "nbformat": 4,
 "nbformat_minor": 5
}