{
 "cells": [
  {
   "cell_type": "markdown",
   "id": "5097e30f",
   "metadata": {},
   "source": [
    "<img src=\"rocky-question1b.jpg\">"
   ]
  },
  {
   "cell_type": "markdown",
   "id": "db2d4211",
   "metadata": {},
   "source": [
    "# Solution"
   ]
  },
  {
   "cell_type": "markdown",
   "id": "1a0e0f5f",
   "metadata": {},
   "source": [
    "## Step 1: To split the sentence"
   ]
  },
  {
   "cell_type": "code",
   "execution_count": 1,
   "id": "ca161d74",
   "metadata": {},
   "outputs": [],
   "source": [
    "def split2(sentence:str) -> tuple:\n",
    "    nested = 0\n",
    "    for i,x in enumerate(sentence):\n",
    "        if x == '(':\n",
    "            nested += 1\n",
    "        elif x == ')':\n",
    "            nested -= 1\n",
    "\n",
    "        if nested < 0:\n",
    "            raise ValueError(\"Bracket error 321\")\n",
    "        elif nested == 0:\n",
    "            s2 = sentence[i:]\n",
    "            if s2.startswith(' and '):\n",
    "                return 'AND', sentence[:i], sentence[i+5:]\n",
    "\n",
    "            elif s2.startswith(' or '):\n",
    "                return 'OR', sentence[:i], sentence[i+4:]\n",
    "\n",
    "    return None # <-- This line is redundant."
   ]
  },
  {
   "cell_type": "code",
   "execution_count": 2,
   "id": "7870408b",
   "metadata": {},
   "outputs": [],
   "source": [
    "# Test\n",
    "sentence = '(((B or C) and (D or E)) and F) and G or F'\n",
    "output = split2(sentence)\n",
    "\n",
    "assert output[0] == 'AND'\n",
    "assert output[1] == '(((B or C) and (D or E)) and F)'\n",
    "assert output[2] == 'G or F'"
   ]
  },
  {
   "cell_type": "code",
   "execution_count": 3,
   "id": "e4c9ecba",
   "metadata": {},
   "outputs": [],
   "source": [
    "# Test\n",
    "sentence = '(((B or C) and (D or E)) and F) or G and F'\n",
    "output = split2(sentence)   \n",
    "\n",
    "assert output[0] == 'OR'\n",
    "assert output[1] == '(((B or C) and (D or E)) and F)'\n",
    "assert output[2] == 'G and F'"
   ]
  },
  {
   "cell_type": "code",
   "execution_count": 4,
   "id": "cfe46580",
   "metadata": {},
   "outputs": [],
   "source": [
    "# Test\n",
    "sentence = '(((B or C) and (D or E)) and F) xor F'  # <-- The 'xor' is neither 'or' nor 'and'.\n",
    "assert split2(sentence) is None"
   ]
  },
  {
   "cell_type": "code",
   "execution_count": 5,
   "id": "f8a7108b",
   "metadata": {},
   "outputs": [],
   "source": [
    "# Test\n",
    "sentence = '(((B or C) and D) and E)'   # Cannot split unless the outmost brackets are removed.\n",
    "assert split2(sentence) is None"
   ]
  },
  {
   "cell_type": "code",
   "execution_count": 6,
   "id": "9996d07f",
   "metadata": {},
   "outputs": [],
   "source": [
    "# Test\n",
    "sentence = '((B or C) and (D and E))'   # Cannot split unless the outmost brackets are removed.\n",
    "assert split2(sentence) is None"
   ]
  },
  {
   "cell_type": "markdown",
   "id": "071bf64d",
   "metadata": {},
   "source": [
    "## Step 2: To remove the brackets"
   ]
  },
  {
   "cell_type": "code",
   "execution_count": 7,
   "id": "4868931a",
   "metadata": {},
   "outputs": [],
   "source": [
    "# To remove the outmost brackets, when applicable.\n",
    "\n",
    "def trim3(sentence:str) -> str:\n",
    "    sentence = sentence.strip()\n",
    "    if sentence[0] != '(':\n",
    "        return sentence\n",
    "\n",
    "    if sentence[-1] != ')':\n",
    "        return sentence\n",
    "\n",
    "    ended = False\n",
    "    nested = 0\n",
    "    for i, x in enumerate(sentence):\n",
    "        if x == '(':\n",
    "            nested += 1\n",
    "                    \n",
    "        elif x == ')':\n",
    "            nested -= 1\n",
    "            if nested == 0 and i != len(sentence) - 1:\n",
    "                    print(\"** There is no outmost brackets to remove. Stop inspecting at character {}th.\".format(i))\n",
    "                    return sentence\n",
    "        \n",
    "        if nested < 0:\n",
    "            raise ValueError(\"Incorrect ')' detected at position {} of '{}'\".format(i, sentence))\n",
    "\n",
    "    return sentence[1:-1]  "
   ]
  },
  {
   "cell_type": "code",
   "execution_count": 8,
   "id": "9cbc96b3",
   "metadata": {},
   "outputs": [
    {
     "data": {
      "text/plain": [
       "'(P and Q) or (B or (C and D))'"
      ]
     },
     "execution_count": 8,
     "metadata": {},
     "output_type": "execute_result"
    }
   ],
   "source": [
    "trim3('((P and Q) or (B or (C and D)))')"
   ]
  },
  {
   "cell_type": "code",
   "execution_count": 9,
   "id": "4fd7bb6a",
   "metadata": {},
   "outputs": [
    {
     "data": {
      "text/plain": [
       "'(A and B) or (C and D)'"
      ]
     },
     "execution_count": 9,
     "metadata": {},
     "output_type": "execute_result"
    }
   ],
   "source": [
    "trim3('((A and B) or (C and D))')"
   ]
  },
  {
   "cell_type": "code",
   "execution_count": 10,
   "id": "636f9098",
   "metadata": {},
   "outputs": [
    {
     "name": "stdout",
     "output_type": "stream",
     "text": [
      "** There is no outmost brackets to remove. Stop inspecting at character 8th.\n"
     ]
    },
    {
     "data": {
      "text/plain": [
       "'(P and Q) or (B or C)'"
      ]
     },
     "execution_count": 10,
     "metadata": {},
     "output_type": "execute_result"
    }
   ],
   "source": [
    "trim3(' (P and Q) or (B or C) ')  # Cannot remove the brackets."
   ]
  },
  {
   "cell_type": "code",
   "execution_count": 11,
   "id": "b6b9a813",
   "metadata": {},
   "outputs": [
    {
     "data": {
      "text/plain": [
       "'A and (C or D)'"
      ]
     },
     "execution_count": 11,
     "metadata": {},
     "output_type": "execute_result"
    }
   ],
   "source": [
    "trim3('A and (C or D)')  # Cannot remove the brackets."
   ]
  },
  {
   "cell_type": "code",
   "execution_count": 12,
   "id": "daf1592d",
   "metadata": {},
   "outputs": [
    {
     "data": {
      "text/plain": [
       "'(A and B) or C'"
      ]
     },
     "execution_count": 12,
     "metadata": {},
     "output_type": "execute_result"
    }
   ],
   "source": [
    "trim3('(A and B) or C')  # Cannot remove the brackets."
   ]
  },
  {
   "cell_type": "markdown",
   "id": "0d3bf0b0",
   "metadata": {},
   "source": [
    "## Step 3: Putting all together"
   ]
  },
  {
   "cell_type": "code",
   "execution_count": 13,
   "id": "30bb411a",
   "metadata": {},
   "outputs": [],
   "source": [
    "dd = {\n",
    "    'A': 'Apollo', \n",
    "    'B': 'Boy', \n",
    "    'C': 'Cup',\n",
    "}\n",
    "\n",
    "# Note: There is no key of 'D', 'E' and 'F'."
   ]
  },
  {
   "cell_type": "code",
   "execution_count": 14,
   "id": "481bdce6",
   "metadata": {},
   "outputs": [],
   "source": [
    "def func2(sentence:str, dd:dict) -> str:\n",
    "    sentence = trim3(sentence)\n",
    "    print(\"** Process '{}'\".format(sentence))\n",
    "    s = split2(sentence)\n",
    "\n",
    "    if s and s[0] == 'OR':\n",
    "        result = func2(s[1], dd) or func2(s[2], dd)\n",
    "        print(\"** '{}':  result='{}'\".format(sentence, result))\n",
    "        return result\n",
    "\n",
    "    elif s and s[0] == 'AND':\n",
    "        result = func2(s[1], dd) + func2(s[2], dd)\n",
    "        print(\"** '{}':  result='{}'\".format(sentence, result))\n",
    "        return result        \n",
    "\n",
    "    else:\n",
    "        if sentence in dd:\n",
    "            result = dd[sentence]\n",
    "            print(\"** '{}':  result='{}'\".format(sentence, result))\n",
    "            return result                    \n",
    "        else:\n",
    "            print(\"** '{}':  result=''\".format(sentence))\n",
    "            return ''        "
   ]
  },
  {
   "cell_type": "code",
   "execution_count": 15,
   "id": "19ae1bd4",
   "metadata": {},
   "outputs": [
    {
     "name": "stdout",
     "output_type": "stream",
     "text": [
      "** Process 'A and B and C'\n",
      "** Process 'A'\n",
      "** 'A':  result='Apollo'\n",
      "** Process 'B and C'\n",
      "** Process 'B'\n",
      "** 'B':  result='Boy'\n",
      "** Process 'C'\n",
      "** 'C':  result='Cup'\n",
      "** 'B and C':  result='BoyCup'\n",
      "** 'A and B and C':  result='ApolloBoyCup'\n",
      "result: ApolloBoyCup\n"
     ]
    }
   ],
   "source": [
    "result = func2('A and B and C', dd)\n",
    "print(\"result:\", result)"
   ]
  },
  {
   "cell_type": "code",
   "execution_count": 16,
   "id": "f6657e60",
   "metadata": {},
   "outputs": [
    {
     "name": "stdout",
     "output_type": "stream",
     "text": [
      "** Process 'A and (B or C)'\n",
      "** Process 'A'\n",
      "** 'A':  result='Apollo'\n",
      "** Process 'B or C'\n",
      "** Process 'B'\n",
      "** 'B':  result='Boy'\n",
      "** 'B or C':  result='Boy'\n",
      "** 'A and (B or C)':  result='ApolloBoy'\n",
      "result: ApolloBoy\n"
     ]
    }
   ],
   "source": [
    "result = func2('A and (B or C)', dd)\n",
    "print(\"result:\", result)"
   ]
  },
  {
   "cell_type": "code",
   "execution_count": 17,
   "id": "a75017a5",
   "metadata": {},
   "outputs": [
    {
     "name": "stdout",
     "output_type": "stream",
     "text": [
      "** Process '(A or B) and C'\n",
      "** Process 'A or B'\n",
      "** Process 'A'\n",
      "** 'A':  result='Apollo'\n",
      "** 'A or B':  result='Apollo'\n",
      "** Process 'C'\n",
      "** 'C':  result='Cup'\n",
      "** '(A or B) and C':  result='ApolloCup'\n",
      "result: ApolloCup\n"
     ]
    }
   ],
   "source": [
    "result = func2('(A or B) and C', dd)\n",
    "print(\"result:\", result)"
   ]
  },
  {
   "cell_type": "code",
   "execution_count": 18,
   "id": "f2c13b57",
   "metadata": {},
   "outputs": [
    {
     "name": "stdout",
     "output_type": "stream",
     "text": [
      "** Process 'A or (B and C)'\n",
      "** Process 'A'\n",
      "** 'A':  result='Apollo'\n",
      "** 'A or (B and C)':  result='Apollo'\n",
      "result: Apollo\n"
     ]
    }
   ],
   "source": [
    "result = func2('A or (B and C)', dd)\n",
    "print(\"result:\", result)"
   ]
  },
  {
   "cell_type": "code",
   "execution_count": 19,
   "id": "b691d7ca",
   "metadata": {},
   "outputs": [
    {
     "name": "stdout",
     "output_type": "stream",
     "text": [
      "** Process 'D or (A and B)'\n",
      "** Process 'D'\n",
      "** 'D':  result=''\n",
      "** Process 'A and B'\n",
      "** Process 'A'\n",
      "** 'A':  result='Apollo'\n",
      "** Process 'B'\n",
      "** 'B':  result='Boy'\n",
      "** 'A and B':  result='ApolloBoy'\n",
      "** 'D or (A and B)':  result='ApolloBoy'\n",
      "result: ApolloBoy\n"
     ]
    }
   ],
   "source": [
    "result = func2('D or (A and B)', dd)\n",
    "print(\"result:\", result)"
   ]
  },
  {
   "cell_type": "code",
   "execution_count": 20,
   "id": "f1188144",
   "metadata": {},
   "outputs": [
    {
     "name": "stdout",
     "output_type": "stream",
     "text": [
      "** There is no outmost brackets to remove. Stop inspecting at character 7th.\n",
      "** Process '(A or B) and (C or D) and (E or F)'\n",
      "** Process 'A or B'\n",
      "** Process 'A'\n",
      "** 'A':  result='Apollo'\n",
      "** 'A or B':  result='Apollo'\n",
      "** There is no outmost brackets to remove. Stop inspecting at character 7th.\n",
      "** Process '(C or D) and (E or F)'\n",
      "** Process 'C or D'\n",
      "** Process 'C'\n",
      "** 'C':  result='Cup'\n",
      "** 'C or D':  result='Cup'\n",
      "** Process 'E or F'\n",
      "** Process 'E'\n",
      "** 'E':  result=''\n",
      "** Process 'F'\n",
      "** 'F':  result=''\n",
      "** 'E or F':  result=''\n",
      "** '(C or D) and (E or F)':  result='Cup'\n",
      "** '(A or B) and (C or D) and (E or F)':  result='ApolloCup'\n",
      "result: ApolloCup\n"
     ]
    }
   ],
   "source": [
    "result = func2('(A or B) and (C or D) and (E or F)', dd)\n",
    "print(\"result:\", result)"
   ]
  },
  {
   "cell_type": "markdown",
   "id": "424b1986",
   "metadata": {},
   "source": [
    "## Step 4: To test the given dictionary"
   ]
  },
  {
   "cell_type": "code",
   "execution_count": 21,
   "id": "e9be548d",
   "metadata": {},
   "outputs": [
    {
     "name": "stdout",
     "output_type": "stream",
     "text": [
      "** Process 'A and B'\n",
      "** Process 'A'\n",
      "** 'A':  result='Hello'\n",
      "** Process 'B'\n",
      "** 'B':  result='World'\n",
      "** 'A and B':  result='HelloWorld'\n",
      "result: HelloWorld\n"
     ]
    }
   ],
   "source": [
    "sentence = 'A and B'\n",
    "dd = {'A': 'Hello', 'B': 'World', 'C': 'Buddy'}\n",
    "result = func2(sentence, dd)\n",
    "print(\"result:\", result)"
   ]
  },
  {
   "cell_type": "code",
   "execution_count": 22,
   "id": "b078fd2d",
   "metadata": {},
   "outputs": [
    {
     "name": "stdout",
     "output_type": "stream",
     "text": [
      "** Process 'A and C'\n",
      "** Process 'A'\n",
      "** 'A':  result='Hello'\n",
      "** Process 'C'\n",
      "** 'C':  result='Buddy'\n",
      "** 'A and C':  result='HelloBuddy'\n",
      "result: HelloBuddy\n"
     ]
    }
   ],
   "source": [
    "sentence = 'A and C'\n",
    "dd = {'A': 'Hello', 'B': 'World', 'C': 'Buddy'}\n",
    "result = func2(sentence, dd)\n",
    "print(\"result:\", result)"
   ]
  },
  {
   "cell_type": "code",
   "execution_count": 23,
   "id": "01cdb2ce",
   "metadata": {},
   "outputs": [
    {
     "name": "stdout",
     "output_type": "stream",
     "text": [
      "** Process 'D or B'\n",
      "** Process 'D'\n",
      "** 'D':  result=''\n",
      "** Process 'B'\n",
      "** 'B':  result='World'\n",
      "** 'D or B':  result='World'\n",
      "result: World\n"
     ]
    }
   ],
   "source": [
    "sentence = 'D or B'\n",
    "dd = {'A': 'Hello', 'B': 'World', 'C': 'Buddy'}\n",
    "result = func2(sentence, dd)\n",
    "print(\"result:\", result)"
   ]
  },
  {
   "cell_type": "code",
   "execution_count": 24,
   "id": "5b3ca803",
   "metadata": {},
   "outputs": [
    {
     "name": "stdout",
     "output_type": "stream",
     "text": [
      "** Process 'A or B'\n",
      "** Process 'A'\n",
      "** 'A':  result='Hello'\n",
      "** 'A or B':  result='Hello'\n",
      "result: Hello\n"
     ]
    }
   ],
   "source": [
    "sentence = 'A or B'\n",
    "dd = {'A': 'Hello', 'B': 'World', 'C': 'Buddy'}\n",
    "result = func2(sentence, dd)\n",
    "print(\"result:\", result)"
   ]
  },
  {
   "cell_type": "code",
   "execution_count": 25,
   "id": "905bed70",
   "metadata": {},
   "outputs": [
    {
     "name": "stdout",
     "output_type": "stream",
     "text": [
      "** Process 'A and B and C'\n",
      "** Process 'A'\n",
      "** 'A':  result='Hello'\n",
      "** Process 'B and C'\n",
      "** Process 'B'\n",
      "** 'B':  result='World'\n",
      "** Process 'C'\n",
      "** 'C':  result='Buddy'\n",
      "** 'B and C':  result='WorldBuddy'\n",
      "** 'A and B and C':  result='HelloWorldBuddy'\n",
      "result: HelloWorldBuddy\n"
     ]
    }
   ],
   "source": [
    "sentence = 'A and B and C'\n",
    "dd = {'A': 'Hello', 'B': 'World', 'C': 'Buddy'}\n",
    "result = func2(sentence, dd)\n",
    "print(\"result:\", result)"
   ]
  },
  {
   "cell_type": "code",
   "execution_count": 26,
   "id": "81389de8",
   "metadata": {},
   "outputs": [
    {
     "name": "stdout",
     "output_type": "stream",
     "text": [
      "** Process 'A and (B or C)'\n",
      "** Process 'A'\n",
      "** 'A':  result='Hello'\n",
      "** Process 'B or C'\n",
      "** Process 'B'\n",
      "** 'B':  result='World'\n",
      "** 'B or C':  result='World'\n",
      "** 'A and (B or C)':  result='HelloWorld'\n",
      "result: HelloWorld\n"
     ]
    }
   ],
   "source": [
    "sentence = 'A and (B or C)'\n",
    "dd = {'A': 'Hello', 'B': 'World', 'C': 'Buddy'}\n",
    "result = func2(sentence, dd)\n",
    "print(\"result:\", result)"
   ]
  },
  {
   "cell_type": "code",
   "execution_count": 27,
   "id": "36e0b6bc",
   "metadata": {},
   "outputs": [
    {
     "name": "stdout",
     "output_type": "stream",
     "text": [
      "** Process 'A and (C or D)'\n",
      "** Process 'A'\n",
      "** 'A':  result='Hello'\n",
      "** Process 'C or D'\n",
      "** Process 'C'\n",
      "** 'C':  result='Buddy'\n",
      "** 'C or D':  result='Buddy'\n",
      "** 'A and (C or D)':  result='HelloBuddy'\n",
      "result: HelloBuddy\n"
     ]
    }
   ],
   "source": [
    "sentence = 'A and (C or D)'\n",
    "dd = {'A': 'Hello', 'B': 'World', 'C': 'Buddy'}\n",
    "result = func2(sentence, dd)\n",
    "print(\"result:\", result)"
   ]
  },
  {
   "cell_type": "code",
   "execution_count": 28,
   "id": "a96f5eec",
   "metadata": {},
   "outputs": [
    {
     "name": "stdout",
     "output_type": "stream",
     "text": [
      "** Process 'A and (B or C) and D'\n",
      "** Process 'A'\n",
      "** 'A':  result='Hello'\n",
      "** Process '(B or C) and D'\n",
      "** Process 'B or C'\n",
      "** Process 'B'\n",
      "** 'B':  result=''\n",
      "** Process 'C'\n",
      "** 'C':  result='Buddy'\n",
      "** 'B or C':  result='Buddy'\n",
      "** Process 'D'\n",
      "** 'D':  result='Welcome'\n",
      "** '(B or C) and D':  result='BuddyWelcome'\n",
      "** 'A and (B or C) and D':  result='HelloBuddyWelcome'\n",
      "result: HelloBuddyWelcome\n"
     ]
    }
   ],
   "source": [
    "sentence = 'A and (B or C) and D'\n",
    "dd = {'A': 'Hello', 'C': 'Buddy', 'D': 'Welcome'}\n",
    "result = func2(sentence, dd)\n",
    "print(\"result:\", result)"
   ]
  },
  {
   "cell_type": "markdown",
   "id": "5240f9ac",
   "metadata": {},
   "source": [
    "## Step 5: Extra tests:  multiple-level of nested brackets"
   ]
  },
  {
   "cell_type": "code",
   "execution_count": 29,
   "id": "8959afc2",
   "metadata": {},
   "outputs": [
    {
     "name": "stdout",
     "output_type": "stream",
     "text": [
      "** Process 'A and ((B or C) and D) and E'\n",
      "** Process 'A'\n",
      "** 'A':  result='Hello'\n",
      "** Process '((B or C) and D) and E'\n",
      "** Process '(B or C) and D'\n",
      "** Process 'B or C'\n",
      "** Process 'B'\n",
      "** 'B':  result=''\n",
      "** Process 'C'\n",
      "** 'C':  result='Buddy'\n",
      "** 'B or C':  result='Buddy'\n",
      "** Process 'D'\n",
      "** 'D':  result='Welcome'\n",
      "** '(B or C) and D':  result='BuddyWelcome'\n",
      "** Process 'E'\n",
      "** 'E':  result='Ending'\n",
      "** '((B or C) and D) and E':  result='BuddyWelcomeEnding'\n",
      "** 'A and ((B or C) and D) and E':  result='HelloBuddyWelcomeEnding'\n",
      "result: HelloBuddyWelcomeEnding\n"
     ]
    }
   ],
   "source": [
    "sentence = 'A and ((B or C) and D) and E'\n",
    "dd = {'A': 'Hello', 'C': 'Buddy', 'D': 'Welcome', 'E': 'Ending'}\n",
    "result = func2(sentence, dd)\n",
    "print(\"result:\", result)"
   ]
  },
  {
   "cell_type": "code",
   "execution_count": 30,
   "id": "867e6c65",
   "metadata": {},
   "outputs": [
    {
     "name": "stdout",
     "output_type": "stream",
     "text": [
      "** Process 'A and (((B or C) and D) or E) and F'\n",
      "** Process 'A'\n",
      "** 'A':  result='Hello'\n",
      "** Process '(((B or C) and D) or E) and F'\n",
      "** Process '((B or C) and D) or E'\n",
      "** Process '(B or C) and D'\n",
      "** Process 'B or C'\n",
      "** Process 'B'\n",
      "** 'B':  result=''\n",
      "** Process 'C'\n",
      "** 'C':  result='Buddy'\n",
      "** 'B or C':  result='Buddy'\n",
      "** Process 'D'\n",
      "** 'D':  result='Welcome'\n",
      "** '(B or C) and D':  result='BuddyWelcome'\n",
      "** '((B or C) and D) or E':  result='BuddyWelcome'\n",
      "** Process 'F'\n",
      "** 'F':  result='Finished'\n",
      "** '(((B or C) and D) or E) and F':  result='BuddyWelcomeFinished'\n",
      "** 'A and (((B or C) and D) or E) and F':  result='HelloBuddyWelcomeFinished'\n",
      "result: HelloBuddyWelcomeFinished\n"
     ]
    }
   ],
   "source": [
    "sentence = 'A and (((B or C) and D) or E) and F'\n",
    "dd = {'A': 'Hello', 'C': 'Buddy', 'D': 'Welcome', 'E': 'Ending', 'F': 'Finished'}\n",
    "result = func2(sentence, dd)\n",
    "print(\"result:\", result)"
   ]
  }
 ],
 "metadata": {
  "interpreter": {
   "hash": "b046c8a3b10b02677d585a50ef8e68af2a151465fe9f963df3b4746691489acb"
  },
  "kernelspec": {
   "display_name": "Python 3",
   "language": "python",
   "name": "python3"
  },
  "language_info": {
   "codemirror_mode": {
    "name": "ipython",
    "version": 3
   },
   "file_extension": ".py",
   "mimetype": "text/x-python",
   "name": "python",
   "nbconvert_exporter": "python",
   "pygments_lexer": "ipython3",
   "version": "3.8.8"
  }
 },
 "nbformat": 4,
 "nbformat_minor": 5
}
