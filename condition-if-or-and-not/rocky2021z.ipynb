{
 "cells": [
  {
   "cell_type": "markdown",
   "metadata": {},
   "source": [
    "<img src=\"rocky-question1b.jpg\">"
   ]
  },
  {
   "cell_type": "markdown",
   "metadata": {},
   "source": [
    "# Solution"
   ]
  },
  {
   "cell_type": "code",
   "execution_count": 1,
   "metadata": {},
   "outputs": [],
   "source": [
    "import functools, re      \n",
    "\n",
    "dd = {\n",
    "    'A': 'Apollo', \n",
    "    'B': 'Boy', \n",
    "    'C': 'Cup',\n",
    "}"
   ]
  },
  {
   "cell_type": "markdown",
   "metadata": {},
   "source": [
    "## Step 1: Handle cases without brackets"
   ]
  },
  {
   "cell_type": "code",
   "execution_count": 2,
   "metadata": {},
   "outputs": [],
   "source": [
    "def indexOf(word:str, sentence:str) -> int:\n",
    "    try:\n",
    "        return sentence.index(word)\n",
    "    except ValueError:\n",
    "        return -1"
   ]
  },
  {
   "cell_type": "code",
   "execution_count": 3,
   "metadata": {},
   "outputs": [],
   "source": [
    "# Tests\n",
    "assert indexOf('atau', 'A or B and C or D') == -1  # The word doesn't exist.\n",
    "assert indexOf('and', 'A or B and C or D') == 7\n",
    "assert indexOf('or', 'A or B and C or D') == 2  "
   ]
  },
  {
   "cell_type": "code",
   "execution_count": 4,
   "metadata": {},
   "outputs": [],
   "source": [
    "# Function arguments: Expression (sentence), Dictionary (dd)\n",
    "# Return value: a string, could be empty string.\n",
    "\n",
    "def func1(sentence:str, dd:dict) -> str:\n",
    "    iOR = indexOf(' or ', sentence)   # <type int>\n",
    "    iAND = indexOf(' and ', sentence) # <type int>\n",
    "    \n",
    "    # 'or' occurs before 'and'.\n",
    "    if iOR > 0 and (iAND < 0 or iAND > iOR):\n",
    "        keys = sentence.split(' or '); print(\"__or__:  keys={}\".format(keys))\n",
    "        for x in keys:\n",
    "            value = func1(x, dd)\n",
    "            if value:\n",
    "                print(\"__or__:  keys={}, result='{}'\".format(keys, value))\n",
    "                return value\n",
    "        print(\"__or__:  keys={}, result=''  <The keys doesn't exist!>\".format(keys))\n",
    "        return ''\n",
    "\n",
    "    # 'and' occurs before 'or'.\n",
    "    elif iAND > 0 and (iOR < 0 or iOR > iAND):\n",
    "        keys = sentence.split(' and '); print(\"** __and__: keys={}\".format(keys))\n",
    "        values = [func1(x, dd) for x in keys]\n",
    "        result = ''.join(values)\n",
    "        print(\"** __and__: keys={}, result='{}'\".format(keys, result))\n",
    "        return result        \n",
    "\n",
    "    # Not containing 'or' / 'and'.\n",
    "    else:\n",
    "        if sentence in dd:\n",
    "            print(\"'{}' --> '{}'\".format(sentence, dd[sentence]))\n",
    "            return dd[sentence]\n",
    "        else:\n",
    "            print(\"'{}' --> ''  <Not exist>\".format(sentence))\n",
    "            return ''"
   ]
  },
  {
   "cell_type": "code",
   "execution_count": 5,
   "metadata": {},
   "outputs": [
    {
     "name": "stdout",
     "output_type": "stream",
     "text": [
      "'B' --> 'Boy'\n"
     ]
    }
   ],
   "source": [
    "assert func1('B', dd) == 'Boy'"
   ]
  },
  {
   "cell_type": "code",
   "execution_count": 6,
   "metadata": {
    "tags": []
   },
   "outputs": [
    {
     "name": "stdout",
     "output_type": "stream",
     "text": [
      "** __and__: keys=['A', 'B', 'C', 'D', 'E']\n",
      "'A' --> 'Apollo'\n",
      "'B' --> 'Boy'\n",
      "'C' --> 'Cup'\n",
      "'D' --> ''  <Not exist>\n",
      "'E' --> ''  <Not exist>\n",
      "** __and__: keys=['A', 'B', 'C', 'D', 'E'], result='ApolloBoyCup'\n"
     ]
    }
   ],
   "source": [
    "assert func1('A and B and C and D and E', dd) == 'ApolloBoyCup'"
   ]
  },
  {
   "cell_type": "code",
   "execution_count": 7,
   "metadata": {},
   "outputs": [
    {
     "name": "stdout",
     "output_type": "stream",
     "text": [
      "__or__:  keys=['E', 'C', 'J']\n",
      "'E' --> ''  <Not exist>\n",
      "'C' --> 'Cup'\n",
      "__or__:  keys=['E', 'C', 'J'], result='Cup'\n"
     ]
    }
   ],
   "source": [
    "assert func1('E or C or J', dd) == 'Cup'"
   ]
  },
  {
   "cell_type": "code",
   "execution_count": 8,
   "metadata": {},
   "outputs": [
    {
     "name": "stdout",
     "output_type": "stream",
     "text": [
      "__or__:  keys=['E', 'F']\n",
      "'E' --> ''  <Not exist>\n",
      "'F' --> ''  <Not exist>\n",
      "__or__:  keys=['E', 'F'], result=''  <The keys doesn't exist!>\n"
     ]
    }
   ],
   "source": [
    "assert func1('E or F', dd) == ''"
   ]
  },
  {
   "cell_type": "code",
   "execution_count": 9,
   "metadata": {},
   "outputs": [
    {
     "name": "stdout",
     "output_type": "stream",
     "text": [
      "__or__:  keys=['A', 'B and C']\n",
      "'A' --> 'Apollo'\n",
      "__or__:  keys=['A', 'B and C'], result='Apollo'\n"
     ]
    }
   ],
   "source": [
    "assert func1('A or B and C', dd) == 'Apollo'"
   ]
  },
  {
   "cell_type": "code",
   "execution_count": 10,
   "metadata": {},
   "outputs": [
    {
     "name": "stdout",
     "output_type": "stream",
     "text": [
      "** __and__: keys=['A', 'B or C']\n",
      "'A' --> 'Apollo'\n",
      "__or__:  keys=['B', 'C']\n",
      "'B' --> 'Boy'\n",
      "__or__:  keys=['B', 'C'], result='Boy'\n",
      "** __and__: keys=['A', 'B or C'], result='ApolloBoy'\n"
     ]
    }
   ],
   "source": [
    "assert func1('A and B or C', dd) == 'ApolloBoy'"
   ]
  },
  {
   "cell_type": "code",
   "execution_count": 11,
   "metadata": {},
   "outputs": [
    {
     "name": "stdout",
     "output_type": "stream",
     "text": [
      "__or__:  keys=['D', 'B and C']\n",
      "'D' --> ''  <Not exist>\n",
      "** __and__: keys=['B', 'C']\n",
      "'B' --> 'Boy'\n",
      "'C' --> 'Cup'\n",
      "** __and__: keys=['B', 'C'], result='BoyCup'\n",
      "__or__:  keys=['D', 'B and C'], result='BoyCup'\n"
     ]
    }
   ],
   "source": [
    "assert func1('D or B and C', dd) == 'BoyCup'"
   ]
  },
  {
   "cell_type": "code",
   "execution_count": 12,
   "metadata": {},
   "outputs": [
    {
     "name": "stdout",
     "output_type": "stream",
     "text": [
      "** __and__: keys=['D', 'B or C']\n",
      "'D' --> ''  <Not exist>\n",
      "__or__:  keys=['B', 'C']\n",
      "'B' --> 'Boy'\n",
      "__or__:  keys=['B', 'C'], result='Boy'\n",
      "** __and__: keys=['D', 'B or C'], result='Boy'\n"
     ]
    }
   ],
   "source": [
    "assert func1('D and B or C', dd) == 'Boy'"
   ]
  },
  {
   "cell_type": "code",
   "execution_count": 13,
   "metadata": {},
   "outputs": [
    {
     "name": "stdout",
     "output_type": "stream",
     "text": [
      "__or__:  keys=['A', 'B and C', 'D']\n",
      "'A' --> 'Apollo'\n",
      "__or__:  keys=['A', 'B and C', 'D'], result='Apollo'\n"
     ]
    }
   ],
   "source": [
    "assert func1('A or B and C or D', dd) == 'Apollo'"
   ]
  },
  {
   "cell_type": "code",
   "execution_count": 14,
   "metadata": {},
   "outputs": [
    {
     "name": "stdout",
     "output_type": "stream",
     "text": [
      "** __and__: keys=['A', 'B or C', 'D']\n",
      "'A' --> 'Apollo'\n",
      "__or__:  keys=['B', 'C']\n",
      "'B' --> 'Boy'\n",
      "__or__:  keys=['B', 'C'], result='Boy'\n",
      "'D' --> ''  <Not exist>\n",
      "** __and__: keys=['A', 'B or C', 'D'], result='ApolloBoy'\n"
     ]
    }
   ],
   "source": [
    "assert func1('A and B or C and D', dd) == 'ApolloBoy'"
   ]
  },
  {
   "cell_type": "markdown",
   "metadata": {},
   "source": [
    "## Step 2: To test the regex"
   ]
  },
  {
   "cell_type": "code",
   "execution_count": 15,
   "metadata": {},
   "outputs": [],
   "source": [
    "# To match the brackets, which is \"(...)\"\n",
    "pattern2 = r\"\\((\\w.+?)\\)\"  "
   ]
  },
  {
   "cell_type": "code",
   "execution_count": 16,
   "metadata": {},
   "outputs": [
    {
     "data": {
      "text/plain": [
       "[(6, 14), (19, 27), (32, 40)]"
      ]
     },
     "execution_count": 16,
     "metadata": {},
     "output_type": "execute_result"
    }
   ],
   "source": [
    "sentence = \"A and (B or C) and (D or E) and (F or G)\"\n",
    "m = re.finditer(pattern2, sentence)\n",
    "[x.span() for x in m]"
   ]
  },
  {
   "cell_type": "code",
   "execution_count": 17,
   "metadata": {},
   "outputs": [
    {
     "data": {
      "text/plain": [
       "[(9, 11), (22, 24), (35, 37)]"
      ]
     },
     "execution_count": 17,
     "metadata": {},
     "output_type": "execute_result"
    }
   ],
   "source": [
    "word = 'or'\n",
    "sentence = \"A and (B or C) and (D or E) and (F or G)\"\n",
    "m = re.finditer(word, sentence)\n",
    "[x.span() for x in m]"
   ]
  },
  {
   "cell_type": "code",
   "execution_count": 18,
   "metadata": {},
   "outputs": [
    {
     "data": {
      "text/plain": [
       "[(2, 5), (15, 18), (28, 31)]"
      ]
     },
     "execution_count": 18,
     "metadata": {},
     "output_type": "execute_result"
    }
   ],
   "source": [
    "word = 'and'\n",
    "sentence = \"A and (B or C) and (D or E) and (F or G)\"\n",
    "m = re.finditer(word, sentence)\n",
    "[x.span() for x in m]"
   ]
  },
  {
   "cell_type": "code",
   "execution_count": 19,
   "metadata": {},
   "outputs": [
    {
     "data": {
      "text/plain": [
       "[]"
      ]
     },
     "execution_count": 19,
     "metadata": {},
     "output_type": "execute_result"
    }
   ],
   "source": [
    "word = 'xor'\n",
    "sentence = \"A and (B or C) and (D or E) and (F or G)\"\n",
    "m = re.finditer(word, sentence)\n",
    "[x.span() for x in m]"
   ]
  },
  {
   "cell_type": "code",
   "execution_count": 20,
   "metadata": {},
   "outputs": [],
   "source": [
    "def is_inside_bracket(position:tuple, iBrackets:list) -> bool:\n",
    "    for b in iBrackets:\n",
    "        if b[0]< position[0] and b[1] > position[1]:\n",
    "            return True\n",
    "    return False"
   ]
  },
  {
   "cell_type": "code",
   "execution_count": 21,
   "metadata": {},
   "outputs": [],
   "source": [
    "# Tests\n",
    "assert is_inside_bracket((8, 11), [(5, 14), (19, 27), (32, 40)]) is True\n",
    "assert is_inside_bracket((16, 18), [(5, 14), (19, 27), (32, 40)]) is False\n",
    "assert is_inside_bracket((29, 31), [(5, 14), (19, 27), (32, 40)]) is False\n",
    "assert is_inside_bracket((16, 18), []) is False"
   ]
  },
  {
   "cell_type": "code",
   "execution_count": 22,
   "metadata": {},
   "outputs": [],
   "source": [
    "def func2(word:str, sentence:str) -> tuple:\n",
    "    iX = [x.span() for x in re.finditer(word, sentence)]\n",
    "    iBrackets = [x.span() for x in re.finditer(pattern2, sentence)]\n",
    "    for y in iX:\n",
    "        if not is_inside_bracket(y, iBrackets):\n",
    "            return y  # <type tuple>\n",
    "    return None"
   ]
  },
  {
   "cell_type": "code",
   "execution_count": 23,
   "metadata": {},
   "outputs": [],
   "source": [
    "# Tests\n",
    "assert func2('or', 'A or (B and C) and (D or E) and (F or G)') == (2, 4)\n",
    "assert func2('or', 'A and (B or C) and (D or E) and (F or G)') is None\n",
    "assert func2('or', 'A and (B or C) and (D or E) and (F or G) or Z') == (41, 43)\n",
    "assert func2('and', 'A or (B and C) and (D or E) and (F or G)') == (15, 18)"
   ]
  },
  {
   "cell_type": "code",
   "execution_count": 24,
   "metadata": {},
   "outputs": [],
   "source": [
    "def func3(sentence:str) -> tuple:\n",
    "    tOR = func2(' or ', sentence)    # <type tuple>\n",
    "    tAND = func2(' and ', sentence)  # <type tuple>\n",
    "\n",
    "    if tOR and (tAND is None or tAND[0] > tOR[0]):\n",
    "        return sentence[:tOR[0]], 'OR', sentence[tOR[1]:]\n",
    "    \n",
    "    elif tAND and (tOR is None or tOR[0] > tAND[0]):\n",
    "        return sentence[:tAND[0]], 'AND', sentence[tAND[1]:]\n",
    "    else:\n",
    "        return None"
   ]
  },
  {
   "cell_type": "code",
   "execution_count": 25,
   "metadata": {},
   "outputs": [],
   "source": [
    "# Tests\n",
    "assert func3('(B or C) and (D or E) and (F or G)') == ('(B or C)', 'AND', '(D or E) and (F or G)')\n",
    "assert func3('(B and C) or (D and E) and (F or G)') == ('(B and C)', 'OR', '(D and E) and (F or G)')\n",
    "assert func3('(A and B and C and D)') is None\n",
    "assert func3('(A or B and C or D)') is None\n",
    "\n",
    "assert func3('A and B and C and D') == ('A', 'AND', 'B and C and D')\n",
    "assert func3('A is B similar-to C') is None"
   ]
  },
  {
   "cell_type": "markdown",
   "metadata": {},
   "source": [
    "## Step 3: To remove the brackets"
   ]
  },
  {
   "cell_type": "code",
   "execution_count": 26,
   "metadata": {},
   "outputs": [],
   "source": [
    "def remove_brackets(sentence:str) -> str:\n",
    "    sentence = sentence.strip()\n",
    "    if sentence[0] != '(':\n",
    "        print(\"** Cannot remove brackets unless the first character is '('\")\n",
    "        return sentence\n",
    "\n",
    "    if sentence[-1] != ')':\n",
    "        print(\"** Cannot remove brackets unless the last character is ')'\")\n",
    "        return sentence\n",
    "\n",
    "    resume = False\n",
    "    count = 0\n",
    "    for i, x in enumerate(sentence):\n",
    "        if x == '(':\n",
    "            count += 1\n",
    "            if count == 1 and resume:\n",
    "                    print(\"** No single removable brackets.\")\n",
    "                    return sentence\n",
    "                    \n",
    "        elif x == ')':\n",
    "            count -= 1\n",
    "            if count == 0:\n",
    "                resume = True\n",
    "        \n",
    "        if count < 0:\n",
    "            raise ValueError(\"Extra closing brackets detected!\")\n",
    "\n",
    "    return sentence[1:-1]  "
   ]
  },
  {
   "cell_type": "code",
   "execution_count": 27,
   "metadata": {},
   "outputs": [
    {
     "name": "stdout",
     "output_type": "stream",
     "text": [
      "** No single removable brackets.\n"
     ]
    }
   ],
   "source": [
    "assert remove_brackets(' (P and Q) or (B or C) ') == '(P and Q) or (B or C)'"
   ]
  },
  {
   "cell_type": "code",
   "execution_count": 28,
   "metadata": {},
   "outputs": [],
   "source": [
    "assert remove_brackets('((P and Q) or (B or (C and D)))')  == '(P and Q) or (B or (C and D))'\n",
    "assert remove_brackets('((A and B) or (C and D))') == '(A and B) or (C and D)'"
   ]
  },
  {
   "cell_type": "code",
   "execution_count": 29,
   "metadata": {},
   "outputs": [
    {
     "name": "stdout",
     "output_type": "stream",
     "text": [
      "ValueError: Extra closing brackets detected!\n"
     ]
    }
   ],
   "source": [
    "try:\n",
    "    remove_brackets('(A or B)) and (C or D)')    \n",
    "except ValueError as e:\n",
    "    print(\"ValueError: {}\".format(e))"
   ]
  },
  {
   "cell_type": "code",
   "execution_count": 30,
   "metadata": {},
   "outputs": [
    {
     "name": "stdout",
     "output_type": "stream",
     "text": [
      "** Cannot remove brackets unless the first character is '('\n"
     ]
    }
   ],
   "source": [
    "assert remove_brackets('A and (C or D)')  == 'A and (C or D)'"
   ]
  },
  {
   "cell_type": "code",
   "execution_count": 31,
   "metadata": {},
   "outputs": [
    {
     "name": "stdout",
     "output_type": "stream",
     "text": [
      "** Cannot remove brackets unless the last character is ')'\n"
     ]
    }
   ],
   "source": [
    "assert remove_brackets('(A and B) or C') == '(A and B) or C'"
   ]
  },
  {
   "cell_type": "markdown",
   "metadata": {},
   "source": [
    "## Step 4: Putting all together"
   ]
  },
  {
   "cell_type": "code",
   "execution_count": 32,
   "metadata": {},
   "outputs": [],
   "source": [
    "dd = {\n",
    "    'A': 'Apollo', \n",
    "    'B': 'Boy', \n",
    "    'C': 'Cup',\n",
    "    'D': 'Dog',\n",
    "    'E': 'Elephant',\n",
    "    'F': 'Fire',\n",
    "}"
   ]
  },
  {
   "cell_type": "code",
   "execution_count": null,
   "metadata": {},
   "outputs": [],
   "source": []
  }
 ],
 "metadata": {
  "interpreter": {
   "hash": "b046c8a3b10b02677d585a50ef8e68af2a151465fe9f963df3b4746691489acb"
  },
  "kernelspec": {
   "display_name": "Python 3.8.8 64-bit ('base': conda)",
   "name": "python3"
  },
  "language_info": {
   "codemirror_mode": {
    "name": "ipython",
    "version": 3
   },
   "file_extension": ".py",
   "mimetype": "text/x-python",
   "name": "python",
   "nbconvert_exporter": "python",
   "pygments_lexer": "ipython3",
   "version": "3.8.8"
  }
 },
 "nbformat": 4,
 "nbformat_minor": 5
}