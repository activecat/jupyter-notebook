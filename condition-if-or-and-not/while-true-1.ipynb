{
 "cells": [
  {
   "cell_type": "markdown",
   "id": "56694350",
   "metadata": {},
   "source": [
    "<h4><a href=\"https://web.facebook.com/groups/python/permalink/997979627709268/\">Question</a></h4>\n",
    "\n",
    "<pre>\n",
    "Write a Python program that will accept the name of a user, the Test, Practical and Exam scores; \n",
    "The program should loop endlessly, exiting only when the user types 'q'.\n",
    "WHAT I DID SO FAR:\n",
    "</pre>\n",
    "\n",
    "<pre>name = input('Enter your name: ')\n",
    "test_score = int(input('Enter test score: '))\n",
    "practical_score = int(input('Enter pratical score: '))\n",
    "exam_score = int(input('Enter exam score: '))\n",
    "score = test_score + practical_score + exam_score\n",
    "if score>=75 and score<=100:\n",
    "    print(\"Your Grade is: A\")\n",
    "                            \n",
    "elif score>=70 and score <74:\n",
    "    print(\"Your Grade is: AB\")\n",
    "                              \n",
    "elif score>=65 and score<69:\n",
    "    print(\"Your Grade is: B\")\n",
    "                             \n",
    "elif score>=60 and score<64:\n",
    "    print(\"Your Grade is: Bc\")\n",
    "                             \n",
    "elif score<=40:\n",
    "     print('You failed woefully!')\n",
    "else:\n",
    "     print('Invalid input!')\n",
    "</pre>     \n",
    "    \n",
    "<p>Please I don't know how to add the loop!</p>"
   ]
  },
  {
   "cell_type": "code",
   "execution_count": 4,
   "id": "82399038",
   "metadata": {},
   "outputs": [
    {
     "name": "stdout",
     "output_type": "stream",
     "text": [
      "Enter your name: Danny\n",
      "Enter test score: 25\n",
      "Enter pratical score: 32\n",
      "Enter exam score: 22\n",
      "Total score: 79\n",
      "Your Grade is: A\n",
      "Enter your name: q\n",
      "Good bye.\n"
     ]
    }
   ],
   "source": [
    "while True:\n",
    "    name = input('Enter your name: ')\n",
    "    if name == 'q':\n",
    "        print(\"Good bye.\")\n",
    "        break\n",
    "        \n",
    "    test_score = int(input('Enter test score: '))\n",
    "    practical_score = int(input('Enter pratical score: '))\n",
    "    exam_score = int(input('Enter exam score: '))\n",
    "    score = test_score + practical_score + exam_score\n",
    "    print(\"Total score:\", score)\n",
    "    if 75 <= score <= 100:\n",
    "        print(\"Your Grade is: A\")\n",
    "\n",
    "    elif 70 <= score < 75:\n",
    "        print(\"Your Grade is: AB\")\n",
    "\n",
    "    elif 65 <= score < 70:\n",
    "        print(\"Your Grade is: B\")\n",
    "\n",
    "    elif 60 <= score < 65:\n",
    "        print(\"Your Grade is: Bc\")\n",
    "\n",
    "    elif 40 <= score < 60:\n",
    "        print(\"Your Grade is C\")\n",
    "        \n",
    "    elif 0 <= score < 40:\n",
    "         print('You failed woefully!')\n",
    "    else:\n",
    "         print('Invalid input!  score =', score)    "
   ]
  }
 ],
 "metadata": {
  "kernelspec": {
   "display_name": "Python 3",
   "language": "python",
   "name": "python3"
  },
  "language_info": {
   "codemirror_mode": {
    "name": "ipython",
    "version": 3
   },
   "file_extension": ".py",
   "mimetype": "text/x-python",
   "name": "python",
   "nbconvert_exporter": "python",
   "pygments_lexer": "ipython3",
   "version": "3.8.8"
  }
 },
 "nbformat": 4,
 "nbformat_minor": 5
}
