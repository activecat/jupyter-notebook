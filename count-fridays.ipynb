{
 "metadata": {
  "language_info": {
   "codemirror_mode": {
    "name": "ipython",
    "version": 3
   },
   "file_extension": ".py",
   "mimetype": "text/x-python",
   "name": "python",
   "nbconvert_exporter": "python",
   "pygments_lexer": "ipython3",
   "version": "3.8.5"
  },
  "orig_nbformat": 2,
  "kernelspec": {
   "name": "python3",
   "display_name": "Python 3.8.5 64-bit",
   "metadata": {
    "interpreter": {
     "hash": "bb3667d25cea75d97cf6022c2f0b36aa031e10f7f624bb8de31851975fb6818b"
    }
   }
  }
 },
 "nbformat": 4,
 "nbformat_minor": 2,
 "cells": [
  {
   "cell_type": "code",
   "execution_count": 1,
   "metadata": {},
   "outputs": [
    {
     "output_type": "stream",
     "name": "stdout",
     "text": [
      "2021-05-07 is Friday.\n2021-05-14 is Friday.\n2021-05-21 is Friday.\n2021-05-28 is Friday.\nThere are 4 Fridays in that month.\n"
     ]
    }
   ],
   "source": [
    "# To count the number of Fridays in a month.\n",
    "\n",
    "import datetime\n",
    "date2 = datetime.date(2021, 5, 9)  # <-- Put your date here.\n",
    "count = 0\n",
    "for i in range(31):\n",
    "    try:\n",
    "        x = date2.replace(day=i+1)\n",
    "        if x.weekday() == 4:\n",
    "            print(x, \"is Friday.\")\n",
    "            count += 1\n",
    "    except ValueError:\n",
    "        continue\n",
    "\n",
    "print(\"There are {} Fridays in that month.\".format(count))"
   ]
  }
 ]
}