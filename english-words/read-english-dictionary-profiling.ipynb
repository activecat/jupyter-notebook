{
 "cells": [
  {
   "cell_type": "markdown",
   "id": "f5cc8fbf",
   "metadata": {},
   "source": [
    "<h2>Question:</h2>\n",
    "<h4>Write a program that with a specific word length, and the program will search through a file consisting English words, for sets of words that are that length and are anagrams of each other.</h4>\n",
    "\n",
    "<h4>Note:</h4> \n",
    "<ul>\n",
    "    <li>The English words are downloaded from <a href=\"https://github.com/dwyl/english-words\">\n",
    "        https://github.com/dwyl/english-words</a></li>\n",
    "    <li>Due to space constrain, this page doesn't show the complete output.</li>    \n",
    "    <li>Below function may be slow because the way List.remove() is implemented. \n",
    "        We may implement the function differently in order to make it run faster.</li>   \n",
    "</ul>    \n",
    "<br><br><br><br>\n",
    "<h4>The original question:</h4>\n",
    "<img src=\"Question.jpg\" width=\"80%\">"
   ]
  },
  {
   "cell_type": "code",
   "execution_count": 1,
   "id": "8a6eb732",
   "metadata": {},
   "outputs": [],
   "source": [
    "# Define the function\n",
    "def is_anagram(subject, anagram):  \n",
    "    if len(subject) != len(anagram):\n",
    "        return False  # Anagram must consist same number of letters.\n",
    "    \n",
    "    list2 = list(subject)  # To convert the string into a list.\n",
    "    for x in anagram:\n",
    "        try:\n",
    "            list2.remove(x)  # Remove this letter because it has been \"used up\".\n",
    "        except ValueError:\n",
    "            return False  # It is not anagram if the letter is not found in the list.\n",
    "    \n",
    "    # return len(list2) == 0  # <-- This is redundant.\n",
    "    return True    "
   ]
  },
  {
   "cell_type": "code",
   "execution_count": 2,
   "id": "eb33094b",
   "metadata": {},
   "outputs": [],
   "source": [
    "def main():\n",
    "    with open('words_incomplete.txt') as f:\n",
    "        words = f.read().splitlines()  # f.readlines()\n",
    "\n",
    "    length2 = 12  # <-- Get this from user input.\n",
    "    N = len(words)\n",
    "\n",
    "    for i in range(N):\n",
    "        if len(words[i]) == length2:\n",
    "            for j in range(i+1, N):\n",
    "                if is_anagram(words[i], words[j]):\n",
    "                    print(\"{}, {}\".format(words[i], words[j]))"
   ]
  },
  {
   "cell_type": "code",
   "execution_count": 3,
   "id": "8dd984d1",
   "metadata": {},
   "outputs": [
    {
     "name": "stdout",
     "output_type": "stream",
     "text": [
      "__main__\n",
      "acclimatiser, cameralistic\n",
      "accouterment, accoutrement\n",
      "acherontical, anchoretical\n",
      "acidophilous, aphidicolous\n",
      "alterability, bilaterality\n",
      "amphitheater, amphitheatre\n",
      "anticreation, antireaction\n",
      "anticreative, antireactive\n",
      "anticrotalic, calcitration\n",
      "antiparticle, antiprelatic\n",
      "arsenicating, ascertaining\n",
      "cacodaemonic, cacodemoniac\n",
      "         272024758 function calls in 81.687 seconds\n",
      "\n",
      "   Ordered by: standard name\n",
      "\n",
      "   ncalls  tottime  percall  cumtime  percall filename:lineno(function)\n",
      " 86778288   38.396    0.000   55.365    0.000 <ipython-input-1-fb9a8026ab34>:2(is_anagram)\n",
      "        1   26.309   26.309   81.686   81.686 <ipython-input-2-6cc1fa1e5092>:1(main)\n",
      "        1    0.001    0.001   81.687   81.687 <string>:1(<module>)\n",
      "        1    0.000    0.000    0.000    0.000 _bootlocale.py:11(getpreferredencoding)\n",
      "        1    0.000    0.000    0.000    0.000 codecs.py:260(__init__)\n",
      "        1    0.000    0.000    0.001    0.001 cp1252.py:22(decode)\n",
      "       34    0.000    0.000    0.001    0.000 iostream.py:197(schedule)\n",
      "       24    0.000    0.000    0.000    0.000 iostream.py:310(_is_master_process)\n",
      "       24    0.000    0.000    0.000    0.000 iostream.py:323(_schedule_flush)\n",
      "       24    0.000    0.000    0.002    0.000 iostream.py:386(write)\n",
      "       34    0.000    0.000    0.000    0.000 iostream.py:93(_event_pipe)\n",
      "       34    0.001    0.000    0.001    0.000 socket.py:432(send)\n",
      "       34    0.000    0.000    0.000    0.000 threading.py:1017(_wait_for_tstate_lock)\n",
      "       34    0.000    0.000    0.000    0.000 threading.py:1071(is_alive)\n",
      "       34    0.000    0.000    0.000    0.000 threading.py:513(is_set)\n",
      "        1    0.001    0.001    0.001    0.001 {built-in method _codecs.charmap_decode}\n",
      "        1    0.000    0.000    0.000    0.000 {built-in method _locale._getdefaultlocale}\n",
      "        1    0.000    0.000   81.687   81.687 {built-in method builtins.exec}\n",
      "       24    0.000    0.000    0.000    0.000 {built-in method builtins.isinstance}\n",
      "173606577   13.776    0.000   13.776    0.000 {built-in method builtins.len}\n",
      "       12    0.000    0.000    0.002    0.000 {built-in method builtins.print}\n",
      "        1    0.000    0.000    0.000    0.000 {built-in method io.open}\n",
      "       24    0.000    0.000    0.000    0.000 {built-in method nt.getpid}\n",
      "       34    0.000    0.000    0.000    0.000 {method 'acquire' of '_thread.lock' objects}\n",
      "       34    0.000    0.000    0.000    0.000 {method 'append' of 'collections.deque' objects}\n",
      "        1    0.000    0.000    0.000    0.000 {method 'disable' of '_lsprof.Profiler' objects}\n",
      "       12    0.000    0.000    0.000    0.000 {method 'format' of 'str' objects}\n",
      "        1    0.002    0.002    0.003    0.003 {method 'read' of '_io.TextIOWrapper' objects}\n",
      " 11639465    3.196    0.000    3.196    0.000 {method 'remove' of 'list' objects}\n",
      "        1    0.004    0.004    0.004    0.004 {method 'splitlines' of 'str' objects}\n",
      "\n",
      "\n"
     ]
    }
   ],
   "source": [
    "print(__name__)\n",
    "if __name__ == \"__main__\":\n",
    "    import cProfile\n",
    "    cProfile.run(\"main()\")"
   ]
  },
  {
   "cell_type": "markdown",
   "id": "f333a5de",
   "metadata": {},
   "source": [
    "<h4>Profiling Result</h4>\n",
    "<img src=\"profiling-result.jpg\" width=\"100%\">\n",
    "<br><br>\n",
    "<h4>Highlights:</h4>\n",
    "<ul>\n",
    "    <li>To shorten the processing time, the <b>words_incomplete.txt</b> has been shortened and it consists of only the first 50,000 lines of <b>words_alpha.txt</b><br>&nbsp;<i>$ head words_alpha.txt -n 50000 > words_incomplete.txt </i><br><br></li>    \n",
    "    <li>As shown in above result, the program completed within 81.686 seconds</li>\n",
    "    <li>The <b>List.remove()</b> takes 3.196 seconds which is <b>3.9%</b> of the 81.686 seconds</li>\n",
    "    <li>The <b>len()</b> function takes 13.776 seconds which is <b>19.6%</b> of the 81.686 seconds</li>\n",
    "    <li>From this profiling we shall optimise <b>len()</b> first before optimizing <b>List.remove()</b></li>\n",
    "</ul>    "
   ]
  }
 ],
 "metadata": {
  "kernelspec": {
   "display_name": "Python 3",
   "language": "python",
   "name": "python3"
  },
  "language_info": {
   "codemirror_mode": {
    "name": "ipython",
    "version": 3
   },
   "file_extension": ".py",
   "mimetype": "text/x-python",
   "name": "python",
   "nbconvert_exporter": "python",
   "pygments_lexer": "ipython3",
   "version": "3.8.8"
  }
 },
 "nbformat": 4,
 "nbformat_minor": 5
}
