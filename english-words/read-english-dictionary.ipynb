{
 "cells": [
  {
   "cell_type": "markdown",
   "id": "86e6f6e2",
   "metadata": {},
   "source": [
    "<h4>Question:</h4>\n",
    "<p>Write a program that with a specific word length, and the program will search through a file consisting English words, for sets of words that are that length and are anagrams of each other.</p>\n",
    "\n",
    "<p>Note: The English words are downloaded from <a href=\"https://github.com/dwyl/english-words\">https://github.com/dwyl/english-words</a></p>"
   ]
  },
  {
   "cell_type": "code",
   "execution_count": 1,
   "id": "bebe0030",
   "metadata": {},
   "outputs": [],
   "source": [
    "# Define the function\n",
    "def is_anagram(subject, anagram):  \n",
    "    if len(subject) != len(anagram):\n",
    "        return False  # Anagram must consist same number of letters.\n",
    "    \n",
    "    list2 = list(subject)  # To convert the string into a list.\n",
    "    for x in anagram:\n",
    "        try:\n",
    "            list2.remove(x)  # Remove this letter because it has been \"used up\".\n",
    "        except ValueError:\n",
    "            return False  # It is not anagram if the letter is not found in the list.\n",
    "    \n",
    "    # return len(list2) == 0  # <-- This is redundant.\n",
    "    return True    "
   ]
  },
  {
   "cell_type": "code",
   "execution_count": null,
   "id": "076d51ce",
   "metadata": {},
   "outputs": [
    {
     "name": "stdout",
     "output_type": "stream",
     "text": [
      "abolitionism, mobilisation\n",
      "acclimatiser, cameralistic\n",
      "accomplisher, reaccomplish\n",
      "accouterment, accoutrement\n",
      "acherontical, anchoretical\n",
      "achromatinic, chromatician\n",
      "acidophilous, aphidicolous\n",
      "acrostically, socratically\n",
      "actinopteran, precantation\n",
      "acutenaculum, unaccumulate\n",
      "adenocystoma, cystoadenoma\n",
      "adenofibroma, fibroadenoma\n",
      "adenosarcoma, sarcoadenoma\n",
      "adpromission, proadmission\n",
      "adrenotropic, incorporated\n",
      "adulterating, triangulated\n",
      "alcantarines, lancasterian\n",
      "allothogenic, ethnological\n",
      "alterability, bilaterality\n",
      "alterability, relatability\n",
      "altercations, intercoastal\n",
      "altitudinous, latitudinous\n",
      "ameliorating, emigrational\n",
      "amenorrhoeal, melanorrhoea\n",
      "amphitheater, amphitheatre\n",
      "amphitropous, pastophorium\n",
      "anecdotalism, declamations\n",
      "anemographic, phanerogamic\n",
      "angiofibroma, fibroangioma\n",
      "anitrogenous, outreasoning\n",
      "annomination, nonanimation\n",
      "anteluminary, unalimentary\n",
      "antepreterit, interpretate\n",
      "anticreation, antireaction\n",
      "anticreative, antireactive\n",
      "anticrotalic, calcitration\n",
      "antifriction, nitrifaction\n",
      "antimosquito, misquotation\n",
      "antinegroism, germinations\n",
      "antineutrons, unstentorian\n",
      "antiparticle, antiprelatic\n",
      "antiphonetic, pentathionic\n",
      "antiprotease, entoparasite\n",
      "antiroyalist, stationarily\n",
      "antitropical, practitional\n",
      "aphorismical, parochialism\n",
      "aphoristical, parochialist\n",
      "apothecaries, spirochaetae\n",
      "aqueoigneous, igneoaqueous\n"
     ]
    }
   ],
   "source": [
    "with open('words_alpha.txt') as f:\n",
    "    words = f.read().splitlines()  # f.readlines()\n",
    "    \n",
    "length2 = 12  # <-- Get this from user input.\n",
    "N = len(words)\n",
    "\n",
    "for i in range(N):\n",
    "    if len(words[i]) == length2:\n",
    "        for j in range(i+1, N):\n",
    "            if is_anagram(words[i], words[j]):\n",
    "                print(\"{}, {}\".format(words[i], words[j]))"
   ]
  },
  {
   "cell_type": "markdown",
   "id": "34432f8c",
   "metadata": {},
   "source": [
    "Note: Above function may be slow because the way List.remove() is implemented. We may implement the function differently in order to make it run faster."
   ]
  }
 ],
 "metadata": {
  "kernelspec": {
   "display_name": "Python 3",
   "language": "python",
   "name": "python3"
  },
  "language_info": {
   "codemirror_mode": {
    "name": "ipython",
    "version": 3
   },
   "file_extension": ".py",
   "mimetype": "text/x-python",
   "name": "python",
   "nbconvert_exporter": "python",
   "pygments_lexer": "ipython3",
   "version": "3.8.8"
  }
 },
 "nbformat": 4,
 "nbformat_minor": 5
}
