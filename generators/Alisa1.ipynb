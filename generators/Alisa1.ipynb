{
 "cells": [
  {
   "cell_type": "code",
   "execution_count": 1,
   "id": "4dea4d66",
   "metadata": {},
   "outputs": [],
   "source": [
    "# https://web.facebook.com/groups/python/permalink/1031588821015015/\n",
    "#\n",
    "# Question:\n",
    "# I want to create such a iteration in Python (1, -1,2-, 2,3, -3...), Who can  help me ?"
   ]
  },
  {
   "cell_type": "code",
   "execution_count": 2,
   "id": "83701db0",
   "metadata": {},
   "outputs": [],
   "source": [
    "def gen1(n):\n",
    "    for i in range(1, n+1):\n",
    "        yield i       \n",
    "        yield -i"
   ]
  },
  {
   "cell_type": "code",
   "execution_count": 3,
   "id": "e073dec7",
   "metadata": {},
   "outputs": [
    {
     "data": {
      "text/plain": [
       "[1, -1, 2, -2, 3, -3, 4, -4, 5, -5]"
      ]
     },
     "execution_count": 3,
     "metadata": {},
     "output_type": "execute_result"
    }
   ],
   "source": [
    "list(gen1(5))"
   ]
  }
 ],
 "metadata": {
  "kernelspec": {
   "display_name": "Python 3 (ipykernel)",
   "language": "python",
   "name": "python3"
  },
  "language_info": {
   "codemirror_mode": {
    "name": "ipython",
    "version": 3
   },
   "file_extension": ".py",
   "mimetype": "text/x-python",
   "name": "python",
   "nbconvert_exporter": "python",
   "pygments_lexer": "ipython3",
   "version": "3.8.10"
  }
 },
 "nbformat": 4,
 "nbformat_minor": 5
}
