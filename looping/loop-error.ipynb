{
 "metadata": {
  "language_info": {
   "codemirror_mode": {
    "name": "ipython",
    "version": 3
   },
   "file_extension": ".py",
   "mimetype": "text/x-python",
   "name": "python",
   "nbconvert_exporter": "python",
   "pygments_lexer": "ipython3",
   "version": "3.8.5"
  },
  "orig_nbformat": 2,
  "kernelspec": {
   "name": "python3",
   "display_name": "Python 3.8.5 64-bit",
   "metadata": {
    "interpreter": {
     "hash": "bb3667d25cea75d97cf6022c2f0b36aa031e10f7f624bb8de31851975fb6818b"
    }
   }
  }
 },
 "nbformat": 4,
 "nbformat_minor": 2,
 "cells": [
  {
   "cell_type": "code",
   "execution_count": 1,
   "metadata": {},
   "outputs": [
    {
     "output_type": "stream",
     "name": "stdout",
     "text": [
      "8 [1, 2, 3, 4, 5, 6, 7]\n7 [1, 2, 3, 4, 5, 6]\n6 [1, 2, 3, 4, 5]\n5 [1, 2, 3, 4]\n"
     ]
    }
   ],
   "source": [
    "#  Modifying a list while looping over it, leads to unexpected behavior.\n",
    "\n",
    "list2 = [ ]\n",
    "list1 = [ 1, 2, 3, 4, 5, 6, 7, 8 ]\n",
    "for x in list1:\n",
    "    print(list1.pop(), list1)"
   ]
  }
 ]
}