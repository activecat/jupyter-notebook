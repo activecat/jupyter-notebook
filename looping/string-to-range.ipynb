{
 "cells": [
  {
   "cell_type": "markdown",
   "id": "5b52f839",
   "metadata": {},
   "source": [
    "<h1>Suresh Vst asked a <a href=\"https://web.facebook.com/groups/python/posts/981607996013098\">question</a>.</h1>\n",
    "<p>Hi, folks. Python noob here, I'm hoping to get some help with numbers.</p>\n",
    "\n",
    "<p>I have two blocks of numbers as follows. The first block has more numbers than the second block. <br>\n",
    "For example, 21,40,50,114 are missing on the second block. Is there a way to find out which ones are missing using Python?</p>\n",
    "\n",
    "<p>This is a repetitive task for me so, I'm trying to find a way to automate this. Appreciate any help.</p>\n",
    "<ul>\n",
    "    <li>2,10-11,13,17,20-22,30,40,50,60,70,73-75,77-80,90,100-102,107-108,110-115,119</li>\n",
    "    <li>2,10-11,13,17,20,30,60,73-75,77-80,100-102,107-108,110-111,113-115,119</li>\n",
    "</ul>"
   ]
  },
  {
   "cell_type": "code",
   "execution_count": 1,
   "id": "488496fd",
   "metadata": {},
   "outputs": [],
   "source": [
    "# Given two blocks:\n",
    "block1 = \"2,10-11,13,17,20-22,30,40,50,60,70,73-75,77-80,90,100-102,107-108,110-115,119\"\n",
    "block2 = \"2,10-11,13,17,20,30,60,73-75,77-80,100-102,107-108,110-111,113-115,119\""
   ]
  },
  {
   "cell_type": "code",
   "execution_count": 2,
   "id": "15b504d6",
   "metadata": {},
   "outputs": [
    {
     "data": {
      "text/plain": [
       "[20, 21, 22]"
      ]
     },
     "execution_count": 2,
     "metadata": {},
     "output_type": "execute_result"
    }
   ],
   "source": [
    "# Step 1\n",
    "def get_range(x):\n",
    "    s = x.split(\"-\")\n",
    "    start = int(s[0])\n",
    "    end = int(s[1]) if len(s) > 1 else start\n",
    "    return range(start, end+1)    \n",
    "\n",
    "# Testing\n",
    "list(get_range(\"20-22\"))"
   ]
  },
  {
   "cell_type": "code",
   "execution_count": 3,
   "id": "ec0c706c",
   "metadata": {},
   "outputs": [
    {
     "data": {
      "text/plain": [
       "[10, 11, 21, 22]"
      ]
     },
     "execution_count": 3,
     "metadata": {},
     "output_type": "execute_result"
    }
   ],
   "source": [
    "# Step 2: Check against 1 range.\n",
    "def get_missing(a, b):\n",
    "    output = []    \n",
    "    r = get_range(b)\n",
    "    for x in get_range(a):        \n",
    "        if x not in r:\n",
    "            output.append(x)\n",
    "    return output\n",
    "\n",
    "# Testing\n",
    "get_missing(\"10-22\", \"12-20\")"
   ]
  },
  {
   "cell_type": "code",
   "execution_count": 4,
   "id": "64a6d4ce",
   "metadata": {},
   "outputs": [
    {
     "data": {
      "text/plain": [
       "[12, 14, 15]"
      ]
     },
     "execution_count": 4,
     "metadata": {},
     "output_type": "execute_result"
    }
   ],
   "source": [
    "# Step 3: Check 1 range against all ranges in block2\n",
    "def check_one(a):\n",
    "    output = list(get_range(a))    \n",
    "    for b in block2.split(\",\"):\n",
    "        for x in get_range(a):   \n",
    "            if x in get_range(b):\n",
    "                output.remove(x)  \n",
    "    return output\n",
    "        \n",
    "\n",
    "# Testing\n",
    "check_one(\"10-15\")"
   ]
  },
  {
   "cell_type": "code",
   "execution_count": 5,
   "id": "8fc37d19",
   "metadata": {},
   "outputs": [
    {
     "data": {
      "text/plain": [
       "[21, 22, 40, 50, 70, 90, 112]"
      ]
     },
     "execution_count": 5,
     "metadata": {},
     "output_type": "execute_result"
    }
   ],
   "source": [
    "# Step 4: Check all in block1 against all ranges in block2\n",
    "def check_all():\n",
    "    output = []\n",
    "    for x in block1.split(\",\"):\n",
    "        output.extend(check_one(x))\n",
    "    return output\n",
    "\n",
    "# Final answer:\n",
    "check_all()"
   ]
  }
 ],
 "metadata": {
  "kernelspec": {
   "display_name": "Python 3",
   "language": "python",
   "name": "python3"
  },
  "language_info": {
   "codemirror_mode": {
    "name": "ipython",
    "version": 3
   },
   "file_extension": ".py",
   "mimetype": "text/x-python",
   "name": "python",
   "nbconvert_exporter": "python",
   "pygments_lexer": "ipython3",
   "version": "3.8.8"
  }
 },
 "nbformat": 4,
 "nbformat_minor": 5
}
