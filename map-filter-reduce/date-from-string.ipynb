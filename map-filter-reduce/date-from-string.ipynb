{
 "cells": [
  {
   "cell_type": "markdown",
   "id": "32d4e3ce",
   "metadata": {},
   "source": [
    "<b><u>Question:</u></b>\n",
    "<h2>Harsh Raj shared his first <a href=\"https://web.facebook.com/groups/pythonsnake/posts/5975553362462361\">post</a>:</h2>\n",
    "\n",
    "<p>Hello Guys, <br>\n",
    "Stuck in a situation where </p>\n",
    "\n",
    "<pre>\n",
    "  x = \"05 h : 27 m : 59 s\"\n",
    "  y = \"052759\" # I want this as output or\n",
    "  z = 052759   # this as output\n",
    "</pre>\n",
    "\n",
    "<p>Please help me.</p>\n"
   ]
  },
  {
   "cell_type": "markdown",
   "id": "ea57dbf4",
   "metadata": {},
   "source": [
    "<p><b><u>Remark:</u></b><br>\n",
    "Solution 1, 2 and 3 below are using <code>map</code>, <code>filter</code> and <code>reduce</code> respectively.<br>\n",
    "This is to illustrate the same problem could be solved using either of them, but only one of them is the most appropriate.</p>\n",
    "<p>Which one do you pick?</p>"
   ]
  },
  {
   "cell_type": "markdown",
   "id": "56180b43",
   "metadata": {},
   "source": [
    "### Solution 1: Using <code>map</code>"
   ]
  },
  {
   "cell_type": "code",
   "execution_count": 1,
   "id": "def0fd2d",
   "metadata": {},
   "outputs": [
    {
     "name": "stdout",
     "output_type": "stream",
     "text": [
      "y = 052759\n"
     ]
    }
   ],
   "source": [
    "word = \"05 h : 27 m : 59 s\"\n",
    "ll = map(lambda x: x if x.isnumeric() else '', word)\n",
    "print(\"y =\", ''.join(ll))"
   ]
  },
  {
   "cell_type": "code",
   "execution_count": 2,
   "id": "5af47872",
   "metadata": {},
   "outputs": [
    {
     "name": "stdout",
     "output_type": "stream",
     "text": [
      "ll = ['0', '5', '', '', '', '', '', '2', '7', '', '', '', '', '', '5', '9', '', '']\n"
     ]
    }
   ],
   "source": [
    "# If you want to check the value of ll\n",
    "\n",
    "ll = map(lambda x: x if x.isnumeric() else '', word)\n",
    "print(\"ll =\", list(ll))"
   ]
  },
  {
   "cell_type": "markdown",
   "id": "34867d5e",
   "metadata": {},
   "source": [
    "### Solution 2: Using <code>filter</code>"
   ]
  },
  {
   "cell_type": "code",
   "execution_count": 3,
   "id": "04eed8f4",
   "metadata": {},
   "outputs": [
    {
     "name": "stdout",
     "output_type": "stream",
     "text": [
      "y = 052759\n"
     ]
    }
   ],
   "source": [
    "word = \"05 h : 27 m : 59 s\"\n",
    "ll = filter(lambda x: x.isnumeric(), word)\n",
    "print(\"y =\", ''.join(ll))"
   ]
  },
  {
   "cell_type": "code",
   "execution_count": 4,
   "id": "4844c41e",
   "metadata": {},
   "outputs": [
    {
     "name": "stdout",
     "output_type": "stream",
     "text": [
      "ll = ['0', '5', '2', '7', '5', '9']\n"
     ]
    }
   ],
   "source": [
    "# If you want to check the value of ll\n",
    "\n",
    "ll = filter(lambda x: x.isnumeric(), word)\n",
    "print(\"ll =\", list(ll))"
   ]
  },
  {
   "cell_type": "markdown",
   "id": "cd161870",
   "metadata": {},
   "source": [
    "### Solution 3: Using <code>reduce</code>"
   ]
  },
  {
   "cell_type": "code",
   "execution_count": 5,
   "id": "ec477a68",
   "metadata": {},
   "outputs": [
    {
     "name": "stdout",
     "output_type": "stream",
     "text": [
      "y = 052759\n"
     ]
    }
   ],
   "source": [
    "from functools import reduce\n",
    "word = \"05 h : 27 m : 59 s\"\n",
    "y = reduce(lambda x,y: x+y if y.isnumeric() else x, word)  # This returns a string.\n",
    "print(\"y =\", y)"
   ]
  },
  {
   "cell_type": "markdown",
   "id": "f8615a49",
   "metadata": {},
   "source": [
    "### Solution 4: Using regular expression"
   ]
  },
  {
   "cell_type": "code",
   "execution_count": 6,
   "id": "e23cb47d",
   "metadata": {},
   "outputs": [
    {
     "name": "stdout",
     "output_type": "stream",
     "text": [
      "ll = ['05', '27', '59'] of type <class 'list'>\n",
      "y = 052759\n"
     ]
    }
   ],
   "source": [
    "import re\n",
    "x = \"05 h : 27 m : 59 s\"\n",
    "ll =  re.findall(r'\\d+', x)\n",
    "\n",
    "print(\"ll =\", ll, \"of type\", type(ll))\n",
    "print(\"y =\", ''.join(ll))"
   ]
  },
  {
   "cell_type": "markdown",
   "id": "e79b46f8",
   "metadata": {},
   "source": [
    "### Solution 5: Using List Comprehension"
   ]
  },
  {
   "cell_type": "code",
   "execution_count": 7,
   "id": "228376eb",
   "metadata": {},
   "outputs": [
    {
     "name": "stdout",
     "output_type": "stream",
     "text": [
      "ll = ['0', '5', '2', '7', '5', '9']\n",
      "y = 052759\n"
     ]
    }
   ],
   "source": [
    "word = \"05 h : 27 m : 59 s\"\n",
    "ll = [x for x in word if x.isnumeric()]  # List Comprehension\n",
    "\n",
    "print(\"ll =\", ll)\n",
    "print(\"y =\", ''.join(ll))"
   ]
  },
  {
   "cell_type": "code",
   "execution_count": null,
   "id": "9941e313",
   "metadata": {},
   "outputs": [],
   "source": []
  }
 ],
 "metadata": {
  "kernelspec": {
   "display_name": "Python 3",
   "language": "python",
   "name": "python3"
  },
  "language_info": {
   "codemirror_mode": {
    "name": "ipython",
    "version": 3
   },
   "file_extension": ".py",
   "mimetype": "text/x-python",
   "name": "python",
   "nbconvert_exporter": "python",
   "pygments_lexer": "ipython3",
   "version": "3.8.8"
  }
 },
 "nbformat": 4,
 "nbformat_minor": 5
}
