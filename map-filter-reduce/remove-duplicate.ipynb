{
 "cells": [
  {
   "cell_type": "markdown",
   "id": "bfef3b9d",
   "metadata": {},
   "source": [
    "<h2>Question</h2>\n",
    "\n",
    "https://web.facebook.com/groups/python/permalink/986273348879896/\n",
    "\n",
    "<pre>I want to remove duplicate values next to each other, within a list inside a dictionary in python. \n",
    "Give me the best-optimized mechanism to achieve this required output.\n",
    "\n",
    "Given input:\n",
    "mydir = {\n",
    "    \"p1\":[0,1,1,1,2,2,2,3,3,2,2,1,1],\n",
    "    \"p2\":[1,2,2,1,1,2,2,3,3,3,0,0]\n",
    "}\n",
    "\n",
    "Required output:\n",
    "mydir = {\n",
    "    \"p1\":[0,1,2,3,2,1],\n",
    "    \"p2\":[1,2,1,2,3,0]\n",
    "}</pre>"
   ]
  },
  {
   "cell_type": "code",
   "execution_count": 6,
   "id": "cb7a1051",
   "metadata": {},
   "outputs": [
    {
     "data": {
      "text/plain": [
       "{'p1': [0, 1, 2, 3, 2, 1], 'p2': [1, 2, 1, 2, 3, 0], 'p3': [5, 0, 1, 0, 4]}"
      ]
     },
     "execution_count": 6,
     "metadata": {},
     "output_type": "execute_result"
    }
   ],
   "source": [
    "# 1). Activecat's solution:  Compact version.\n",
    "\n",
    "mydir = { \n",
    "    \"p1\":[0,1,1,1,2,2,2,3,3,2,2,1,1,1],\n",
    "    \"p2\":[1,2,2,1,1,2,2,3,3,3,0,0],\n",
    "    \"p3\":[5,0,1,1,0,4],\n",
    "}\n",
    "\n",
    "def func1(dd,x):\n",
    "    if type(dd) != list:\n",
    "        dd = [dd]\n",
    "    if dd[-1] != x:\n",
    "        dd.append(x)\n",
    "    return dd\n",
    "\n",
    "from functools import reduce\n",
    "{k:reduce(func1,v) for k,v in mydir.items()}"
   ]
  },
  {
   "cell_type": "code",
   "execution_count": 2,
   "id": "81388dad",
   "metadata": {},
   "outputs": [
    {
     "name": "stdout",
     "output_type": "stream",
     "text": [
      "\n",
      "** Evaluating [0, 1, 1, 1, 2, 2, 2, 3, 3, 2, 2, 1, 1, 1]\n",
      "dd = 0 <class 'int'>, x = 1 <class 'int'>\n",
      "return [0, 1]\n",
      "\n",
      "dd = [0, 1] <class 'list'>, x = 1 <class 'int'>\n",
      "return [0, 1]\n",
      "\n",
      "dd = [0, 1] <class 'list'>, x = 1 <class 'int'>\n",
      "return [0, 1]\n",
      "\n",
      "dd = [0, 1] <class 'list'>, x = 2 <class 'int'>\n",
      "return [0, 1, 2]\n",
      "\n",
      "dd = [0, 1, 2] <class 'list'>, x = 2 <class 'int'>\n",
      "return [0, 1, 2]\n",
      "\n",
      "dd = [0, 1, 2] <class 'list'>, x = 2 <class 'int'>\n",
      "return [0, 1, 2]\n",
      "\n",
      "dd = [0, 1, 2] <class 'list'>, x = 3 <class 'int'>\n",
      "return [0, 1, 2, 3]\n",
      "\n",
      "dd = [0, 1, 2, 3] <class 'list'>, x = 3 <class 'int'>\n",
      "return [0, 1, 2, 3]\n",
      "\n",
      "dd = [0, 1, 2, 3] <class 'list'>, x = 2 <class 'int'>\n",
      "return [0, 1, 2, 3, 2]\n",
      "\n",
      "dd = [0, 1, 2, 3, 2] <class 'list'>, x = 2 <class 'int'>\n",
      "return [0, 1, 2, 3, 2]\n",
      "\n",
      "dd = [0, 1, 2, 3, 2] <class 'list'>, x = 1 <class 'int'>\n",
      "return [0, 1, 2, 3, 2, 1]\n",
      "\n",
      "dd = [0, 1, 2, 3, 2, 1] <class 'list'>, x = 1 <class 'int'>\n",
      "return [0, 1, 2, 3, 2, 1]\n",
      "\n",
      "dd = [0, 1, 2, 3, 2, 1] <class 'list'>, x = 1 <class 'int'>\n",
      "return [0, 1, 2, 3, 2, 1]\n",
      "\n",
      "\n",
      "** Evaluating [1, 2, 2, 1, 1, 2, 2, 3, 3, 3, 0, 0]\n",
      "dd = 1 <class 'int'>, x = 2 <class 'int'>\n",
      "return [1, 2]\n",
      "\n",
      "dd = [1, 2] <class 'list'>, x = 2 <class 'int'>\n",
      "return [1, 2]\n",
      "\n",
      "dd = [1, 2] <class 'list'>, x = 1 <class 'int'>\n",
      "return [1, 2, 1]\n",
      "\n",
      "dd = [1, 2, 1] <class 'list'>, x = 1 <class 'int'>\n",
      "return [1, 2, 1]\n",
      "\n",
      "dd = [1, 2, 1] <class 'list'>, x = 2 <class 'int'>\n",
      "return [1, 2, 1, 2]\n",
      "\n",
      "dd = [1, 2, 1, 2] <class 'list'>, x = 2 <class 'int'>\n",
      "return [1, 2, 1, 2]\n",
      "\n",
      "dd = [1, 2, 1, 2] <class 'list'>, x = 3 <class 'int'>\n",
      "return [1, 2, 1, 2, 3]\n",
      "\n",
      "dd = [1, 2, 1, 2, 3] <class 'list'>, x = 3 <class 'int'>\n",
      "return [1, 2, 1, 2, 3]\n",
      "\n",
      "dd = [1, 2, 1, 2, 3] <class 'list'>, x = 3 <class 'int'>\n",
      "return [1, 2, 1, 2, 3]\n",
      "\n",
      "dd = [1, 2, 1, 2, 3] <class 'list'>, x = 0 <class 'int'>\n",
      "return [1, 2, 1, 2, 3, 0]\n",
      "\n",
      "dd = [1, 2, 1, 2, 3, 0] <class 'list'>, x = 0 <class 'int'>\n",
      "return [1, 2, 1, 2, 3, 0]\n",
      "\n",
      "{'p1': [0, 1, 2, 3, 2, 1], 'p2': [1, 2, 1, 2, 3, 0]}\n"
     ]
    }
   ],
   "source": [
    "# 2). Activecat's solution:  Verbose version\n",
    "\n",
    "mydir = { \n",
    "    \"p1\":[0,1,1,1,2,2,2,3,3,2,2,1,1,1],\n",
    "    \"p2\":[1,2,2,1,1,2,2,3,3,3,0,0]\n",
    "}\n",
    "\n",
    "def func1(dd,x):\n",
    "    print(\"dd = {} {}, x = {} {}\".format(dd, type(dd), x, type(x)))\n",
    "    if type(dd) != list:\n",
    "        dd = [dd]\n",
    "    if dd[-1] != x:\n",
    "        dd.append(x)\n",
    "    print(\"return\", dd)\n",
    "    print()\n",
    "    return dd\n",
    "\n",
    "from functools import reduce\n",
    "for key, value in mydir.items():\n",
    "    print(\"\\n** Evaluating\", value)\n",
    "    mydir[key] = reduce(func1, value)\n",
    "    \n",
    "print(mydir)    "
   ]
  },
  {
   "cell_type": "code",
   "execution_count": 3,
   "id": "e279c5ef",
   "metadata": {},
   "outputs": [
    {
     "name": "stdout",
     "output_type": "stream",
     "text": [
      "{'p1': [0, 1, 2, 3, 2, 1], 'p2': [1, 2, 1, 2, 3, 0]}\n"
     ]
    }
   ],
   "source": [
    "# 3). Francesco Loffredo's solution:\n",
    "\n",
    "mydir = { \n",
    "    \"p1\":[0,1,1,1,2,2,2,3,3,2,2,1,1,1],\n",
    "    \"p2\":[1,2,2,1,1,2,2,3,3,3,0,0]\n",
    "}\n",
    "\n",
    "\n",
    "for key, thislist in mydir.items():\n",
    "    newlist = list()\n",
    "    for i in range(len(thislist) - 1):\n",
    "        if thislist[i] != thislist[i+1]:\n",
    "            newlist.append(thislist[i])\n",
    "    newlist.append(thislist[-1])\n",
    "    mydir[key] = newlist\n",
    "\n",
    "print(mydir)    "
   ]
  },
  {
   "cell_type": "code",
   "execution_count": 5,
   "id": "2e44220e",
   "metadata": {},
   "outputs": [
    {
     "data": {
      "text/plain": [
       "{'p1': [0, 1, 2, 3], 'p2': [0, 1, 2, 3]}"
      ]
     },
     "execution_count": 5,
     "metadata": {},
     "output_type": "execute_result"
    }
   ],
   "source": [
    "# 4). Incorrect solution.\n",
    "#      This is incorrect answer because it remove all duplicates, \n",
    "#      while this user just wants to remove duplicate values next to each other.\n",
    "\n",
    "mydir = { \n",
    "    \"p1\":[0,1,1,1,2,2,2,3,3,2,2,1,1],\n",
    "    \"p2\":[1,2,2,1,1,2,2,3,3,3,0,0]\n",
    "}\n",
    "\n",
    "{k:list(set(v)) for k,v in mydir.items()}"
   ]
  }
 ],
 "metadata": {
  "kernelspec": {
   "display_name": "Python 3",
   "language": "python",
   "name": "python3"
  },
  "language_info": {
   "codemirror_mode": {
    "name": "ipython",
    "version": 3
   },
   "file_extension": ".py",
   "mimetype": "text/x-python",
   "name": "python",
   "nbconvert_exporter": "python",
   "pygments_lexer": "ipython3",
   "version": "3.8.8"
  }
 },
 "nbformat": 4,
 "nbformat_minor": 5
}
