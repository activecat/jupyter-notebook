{
 "cells": [
  {
   "cell_type": "markdown",
   "metadata": {},
   "source": [
    "<h2>Write a program that display the following output using \"for\" loop.</h2>\n",
    "<pre>\n",
    "\n",
    "                     1\n",
    "                3    5    7\n",
    "           9   11   13   15   17\n",
    "     19   21   23   25   27   29   31\n",
    "          33   35   37   39   41\n",
    "               43   45   47\n",
    "                    49\n",
    "\n",
    "</pre>\n",
    "<h4>Solution:</h4>"
   ]
  },
  {
   "cell_type": "code",
   "execution_count": 1,
   "metadata": {},
   "outputs": [],
   "source": [
    "# Define a global variable to do the counting job:\n",
    "count = -1\n",
    "\n",
    "# Below function returns an odd number whenever it is called, and the number is increasing. \n",
    "# This is what we need because the desirable output consists of numbers like 1, 3, 5, 7, 9, .. 49.\n",
    "def odd3():\n",
    "    global count\n",
    "    count += 2\n",
    "    return \"{:5d}\".format(count)"
   ]
  },
  {
   "cell_type": "code",
   "execution_count": 2,
   "metadata": {},
   "outputs": [
    {
     "data": {
      "text/plain": [
       "[1, 3, 5, 7, 5, 3, 1]"
      ]
     },
     "execution_count": 2,
     "metadata": {},
     "output_type": "execute_result"
    }
   ],
   "source": [
    "# Please notice that the desirable output has 1 row, 3 rows, 5 rows, 7 rows, followed by 5 rows, 3 rows and 1 row. \n",
    "# Below formula gives us the series of numbers.\n",
    "[ (7 - abs(6 - x * 2)) for x in range(7)]"
   ]
  },
  {
   "cell_type": "code",
   "execution_count": 3,
   "metadata": {},
   "outputs": [
    {
     "name": "stdout",
     "output_type": "stream",
     "text": [
      "[i=1]                     1\n",
      "[i=3]                3    5    7\n",
      "[i=5]           9   11   13   15   17\n",
      "[i=7]     19   21   23   25   27   29   31\n",
      "[i=5]          33   35   37   39   41\n",
      "[i=3]               43   45   47\n",
      "[i=1]                    49\n"
     ]
    }
   ],
   "source": [
    "# Putting all above together:\n",
    "\n",
    "for x in range(7):\n",
    "    i = 7 - abs(6 - x * 2)  \n",
    "    print('[i={}]  '.format(i), end=' ' * 5 * int((7-i)/2))\n",
    "    for j in range(i):\n",
    "        print(odd3(), end='')\n",
    "    print()"
   ]
  },
  {
   "cell_type": "code",
   "execution_count": 4,
   "metadata": {},
   "outputs": [
    {
     "name": "stdout",
     "output_type": "stream",
     "text": [
      "                   1\n",
      "              3    5    7\n",
      "         9   11   13   15   17\n",
      "   19   21   23   25   27   29   31\n",
      "        33   35   37   39   41\n",
      "             43   45   47\n",
      "                  49\n"
     ]
    }
   ],
   "source": [
    "# To clean up,\n",
    "\n",
    "count = -1\n",
    "for x in range(7):\n",
    "    i = 7 - abs(6 - x * 2)  \n",
    "    print(' ' * 5 * int((7-i)/2), end='')\n",
    "    for j in range(i):\n",
    "        print(odd3(), end='')\n",
    "    print()"
   ]
  }
 ],
 "metadata": {
  "kernelspec": {
   "display_name": "Python 3",
   "language": "python",
   "name": "python3"
  },
  "language_info": {
   "codemirror_mode": {
    "name": "ipython",
    "version": 3
   },
   "file_extension": ".py",
   "mimetype": "text/x-python",
   "name": "python",
   "nbconvert_exporter": "python",
   "pygments_lexer": "ipython3",
   "version": "3.8.8"
  }
 },
 "nbformat": 4,
 "nbformat_minor": 2
}
