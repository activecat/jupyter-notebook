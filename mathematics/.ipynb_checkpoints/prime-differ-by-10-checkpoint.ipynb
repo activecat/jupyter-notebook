{
 "cells": [
  {
   "cell_type": "code",
   "execution_count": 1,
   "metadata": {},
   "outputs": [],
   "source": [
    "def is_prime(x):\n",
    "    if type(x) is int and x > 1:\n",
    "        for i in range(2, x):\n",
    "            if x % i == 0:\n",
    "                return False   \n",
    "        return True \n",
    "    return False \n",
    "\n",
    "# To verify:-  \n",
    "# { x:is_prime(x) for x in range(25)}"
   ]
  },
  {
   "cell_type": "code",
   "execution_count": 2,
   "metadata": {},
   "outputs": [
    {
     "name": "stdout",
     "output_type": "stream",
     "text": [
      "[(103, 113), (127, 137), (139, 149), (157, 167), (163, 173), (181, 191), (223, 233), (229, 239), (241, 251), (271, 281), (283, 293), (307, 317), (337, 347), (349, 359), (373, 383), (379, 389), (409, 419), (421, 431), (433, 443), (439, 449), (457, 467), (499, 509)]\n"
     ]
    }
   ],
   "source": [
    "def PrimesDifferingBy10(p, q):\n",
    "    output = []\n",
    "    for x in range(p, q):\n",
    "        if is_prime(x) and is_prime(x+10):\n",
    "            output.append((x, x+10))\n",
    "    return output            \n",
    "\n",
    "# To test the function,\n",
    "print(PrimesDifferingBy10(100, 500))"
   ]
  },
  {
   "cell_type": "code",
   "execution_count": 3,
   "metadata": {},
   "outputs": [],
   "source": [
    "# Note:\n",
    "#  Prime number is a positive integer that has exactly two positive divisors. \n",
    "#  The number 1 only has one positive divisor (1 itself), hence it is not prime."
   ]
  }
 ],
 "metadata": {
  "kernelspec": {
   "display_name": "Python 3",
   "language": "python",
   "name": "python3"
  },
  "language_info": {
   "codemirror_mode": {
    "name": "ipython",
    "version": 3
   },
   "file_extension": ".py",
   "mimetype": "text/x-python",
   "name": "python",
   "nbconvert_exporter": "python",
   "pygments_lexer": "ipython3",
   "version": "3.8.8"
  }
 },
 "nbformat": 4,
 "nbformat_minor": 2
}
