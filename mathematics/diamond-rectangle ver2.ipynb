{
 "cells": [
  {
   "cell_type": "markdown",
   "metadata": {},
   "source": [
    "<h2>Write a program that display the following output using \"for\" loop.</h2>\n",
    "<pre>\n",
    "\n",
    "                     1\n",
    "                3    5    7\n",
    "           9   11   13   15   17\n",
    "     19   21   23   25   27   29   31\n",
    "          33   35   37   39   41\n",
    "               43   45   47\n",
    "                    49\n",
    "\n",
    "</pre>\n",
    "<h4>Solution:</h4>"
   ]
  },
  {
   "cell_type": "code",
   "execution_count": 1,
   "metadata": {},
   "outputs": [
    {
     "name": "stdout",
     "output_type": "stream",
     "text": [
      "[49, 47, 45, 43, 41, 39, 37, 35, 33, 31, 29, 27, 25, 23, 21, 19, 17, 15, 13, 11, 9, 7, 5, 3, 1]\n"
     ]
    }
   ],
   "source": [
    "# Step 1: Define the outer Loop\n",
    "def loop1():\n",
    "    for x in range(49, 0, -2):\n",
    "        yield x\n",
    "\n",
    "print([x for x in loop1()])"
   ]
  },
  {
   "cell_type": "code",
   "execution_count": 2,
   "metadata": {},
   "outputs": [
    {
     "name": "stdout",
     "output_type": "stream",
     "text": [
      "[1, 3, 5, 7, 5, 3, 1]\n"
     ]
    }
   ],
   "source": [
    "# Step 2: Define the inner loop\n",
    "def loop2():\n",
    "    for x in range(1, 14, 2):\n",
    "        yield x if x <= 7 else 14 - x\n",
    "\n",
    "print([x for x in loop2()])"
   ]
  },
  {
   "cell_type": "code",
   "execution_count": 3,
   "metadata": {},
   "outputs": [
    {
     "name": "stdout",
     "output_type": "stream",
     "text": [
      "                           1     \n",
      "                   3       5       7     \n",
      "           9      11      13      15      17     \n",
      "  19      21      23      25      27      29      31     \n",
      "          33      35      37      39      41     \n",
      "                  43      45      47     \n",
      "                          49     \n"
     ]
    }
   ],
   "source": [
    "# Step 3: Put loop1 and loop2 together\n",
    "all = [x for x in loop1()]\n",
    "for x in loop2():\n",
    "    print('  ' * 2 * (7-x), (\"{:3d}     \" * x).format(*[all.pop() for y in range(x)]))"
   ]
  }
 ],
 "metadata": {
  "kernelspec": {
   "display_name": "Python 3",
   "language": "python",
   "name": "python3"
  },
  "language_info": {
   "codemirror_mode": {
    "name": "ipython",
    "version": 3
   },
   "file_extension": ".py",
   "mimetype": "text/x-python",
   "name": "python",
   "nbconvert_exporter": "python",
   "pygments_lexer": "ipython3",
   "version": "3.8.8"
  }
 },
 "nbformat": 4,
 "nbformat_minor": 2
}
