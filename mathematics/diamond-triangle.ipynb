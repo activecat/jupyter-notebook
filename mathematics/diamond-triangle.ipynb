{
 "metadata": {
  "language_info": {
   "codemirror_mode": {
    "name": "ipython",
    "version": 3
   },
   "file_extension": ".py",
   "mimetype": "text/x-python",
   "name": "python",
   "nbconvert_exporter": "python",
   "pygments_lexer": "ipython3",
   "version": "3.8.5"
  },
  "orig_nbformat": 2,
  "kernelspec": {
   "name": "python3",
   "display_name": "Python 3.8.5 64-bit",
   "metadata": {
    "interpreter": {
     "hash": "bb3667d25cea75d97cf6022c2f0b36aa031e10f7f624bb8de31851975fb6818b"
    }
   }
  }
 },
 "nbformat": 4,
 "nbformat_minor": 2,
 "cells": [
  {
   "cell_type": "code",
   "execution_count": 1,
   "metadata": {},
   "outputs": [
    {
     "output_type": "stream",
     "name": "stdout",
     "text": [
      "[i=1]                     1\n[i=3]                3    5    7\n[i=5]           9   11   13   15   17\n[i=7]     19   21   23   25   27   29   31\n[i=5]          33   35   37   39   41\n[i=3]               43   45   47\n[i=1]                    49\n"
     ]
    }
   ],
   "source": [
    "count = -1\n",
    "\n",
    "def odd3():\n",
    "    global count\n",
    "    count += 2\n",
    "    return \"{:5d}\".format(count)\n",
    "\n",
    "for x in range(7):\n",
    "    i = 7 - abs(6 - x * 2)  \n",
    "    print('[i={}]  '.format(i), end=' ' * 5 * int((7-i)/2))\n",
    "    for j in range(i):\n",
    "        print(odd3(), end='')\n",
    "    print()"
   ]
  }
 ]
}