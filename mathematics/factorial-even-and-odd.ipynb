{
 "metadata": {
  "language_info": {
   "codemirror_mode": {
    "name": "ipython",
    "version": 3
   },
   "file_extension": ".py",
   "mimetype": "text/x-python",
   "name": "python",
   "nbconvert_exporter": "python",
   "pygments_lexer": "ipython3",
   "version": "3.8.5"
  },
  "orig_nbformat": 2,
  "kernelspec": {
   "name": "python3",
   "display_name": "Python 3.8.5 64-bit",
   "metadata": {
    "interpreter": {
     "hash": "bb3667d25cea75d97cf6022c2f0b36aa031e10f7f624bb8de31851975fb6818b"
    }
   }
  }
 },
 "nbformat": 4,
 "nbformat_minor": 2,
 "cells": [
  {
   "cell_type": "code",
   "execution_count": 1,
   "metadata": {},
   "outputs": [
    {
     "output_type": "stream",
     "name": "stdout",
     "text": [
      "['fac(1) = 1', 'fac(3) = 3', 'fac(5) = 15', 'fac(7) = 105', 'fac(9) = 945']\n['fac(2) = 2', 'fac(4) = 8', 'fac(6) = 48', 'fac(8) = 384']\n"
     ]
    }
   ],
   "source": [
    "#For even n, the double factorial is:\n",
    "#n!!=\\prod_{k=1}^{n/2}(2k)=n(n-2)(n-4).....4*2    \n",
    "#\n",
    "#For odd n, the double factorial is:\n",
    "#n!!=\\prod_{k=1}^{{n+1}/2}(2k-1)=n(n-2)(n-4).....3*1    \n",
    "#\n",
    "# https://www.geeksforgeeks.org/double-factorial/\n",
    "\n",
    "\n",
    "def fac(n):\n",
    "    assert type(n) == int\n",
    "    return n * fac(n-2) if n > 1 else 1\n",
    "\n",
    "# To test the function,\n",
    "print([\"fac({}) = {}\".format(x, fac(x)) for x in range(1,10, 2)])  # To test the odd x\n",
    "print([\"fac({}) = {}\".format(x, fac(x)) for x in range(2,10, 2)])  # To test the even x"
   ]
  }
 ]
}