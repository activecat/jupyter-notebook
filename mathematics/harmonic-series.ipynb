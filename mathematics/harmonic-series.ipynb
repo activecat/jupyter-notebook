{
 "metadata": {
  "language_info": {
   "codemirror_mode": {
    "name": "ipython",
    "version": 3
   },
   "file_extension": ".py",
   "mimetype": "text/x-python",
   "name": "python",
   "nbconvert_exporter": "python",
   "pygments_lexer": "ipython3",
   "version": "3.8.5"
  },
  "orig_nbformat": 2,
  "kernelspec": {
   "name": "python3",
   "display_name": "Python 3.8.5 64-bit",
   "metadata": {
    "interpreter": {
     "hash": "bb3667d25cea75d97cf6022c2f0b36aa031e10f7f624bb8de31851975fb6818b"
    }
   }
  }
 },
 "nbformat": 4,
 "nbformat_minor": 2,
 "cells": [
  {
   "cell_type": "code",
   "execution_count": 1,
   "metadata": {},
   "outputs": [
    {
     "output_type": "execute_result",
     "data": {
      "text/plain": [
       "[1,\n",
       " 1.5,\n",
       " 1.8333333333333333,\n",
       " 2.083333333333333,\n",
       " 2.283333333333333,\n",
       " 2.4499999999999997,\n",
       " 2.5928571428571425,\n",
       " 2.7178571428571425,\n",
       " 2.8289682539682537]"
      ]
     },
     "metadata": {},
     "execution_count": 1
    }
   ],
   "source": [
    "# This function sums up 1 + 1/2 + 1/3 + 1/4 + ... + 1/n\n",
    "\n",
    "def harmonic(n):\n",
    "    assert type(n) == int and n > 0\n",
    "    return 1 if n==1 else 1/n + harmonic(n-1)\n",
    "\n",
    "# To test the function:\n",
    "[harmonic(x) for x in range(1,10)]"
   ]
  }
 ]
}