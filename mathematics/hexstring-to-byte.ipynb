{
 "cells": [
  {
   "cell_type": "markdown",
   "id": "62609a6a",
   "metadata": {},
   "source": [
    "<img src=\"question-Junaid-Ahmad.jpg\">\n",
    "Question <a href=\"https://web.facebook.com/groups/python/posts/983651849142046/\">posted</a> in FB Python group."
   ]
  },
  {
   "cell_type": "code",
   "execution_count": 1,
   "id": "bbf68d81",
   "metadata": {},
   "outputs": [],
   "source": [
    "string = \"0123456789\""
   ]
  },
  {
   "cell_type": "markdown",
   "id": "f489d753",
   "metadata": {},
   "source": [
    "### Solution 1: Convert to base-10, then to bytes"
   ]
  },
  {
   "cell_type": "code",
   "execution_count": 2,
   "id": "e8ce79ea",
   "metadata": {},
   "outputs": [
    {
     "name": "stdout",
     "output_type": "stream",
     "text": [
      "['0x01', '0x23', '0x45', '0x67', '0x89']\n"
     ]
    }
   ],
   "source": [
    "# Step 1: Separate into 5 hex-strings\n",
    "\n",
    "list1 = [\"0x{}\".format(string[x:x+2]) for x in range(0, len(string), 2)]\n",
    "print(list1)"
   ]
  },
  {
   "cell_type": "code",
   "execution_count": 3,
   "id": "ea99ac2f",
   "metadata": {},
   "outputs": [
    {
     "name": "stdout",
     "output_type": "stream",
     "text": [
      "[1, 35, 69, 103, 137]\n"
     ]
    }
   ],
   "source": [
    "# Step 2: Convert the hex-strings to base-10.\n",
    "\n",
    "output1 = [int(x,16) for x in list1]\n",
    "print(output1)"
   ]
  },
  {
   "cell_type": "code",
   "execution_count": 4,
   "id": "4f3b1881",
   "metadata": {},
   "outputs": [
    {
     "data": {
      "text/plain": [
       "[b'\\x01', b'#', b'E', b'g', b'\\x89']"
      ]
     },
     "execution_count": 4,
     "metadata": {},
     "output_type": "execute_result"
    }
   ],
   "source": [
    "# Step 3: Convert the base-10 to bytes\n",
    "\n",
    "[bytes([x]) for x in output1]"
   ]
  },
  {
   "cell_type": "markdown",
   "id": "da6dc368",
   "metadata": {},
   "source": [
    "### Solution 2: Convert directly to bytes"
   ]
  },
  {
   "cell_type": "code",
   "execution_count": 5,
   "id": "53fc5777",
   "metadata": {},
   "outputs": [
    {
     "name": "stdout",
     "output_type": "stream",
     "text": [
      "['01', '23', '45', '67', '89']\n"
     ]
    }
   ],
   "source": [
    "# Step 1: Separate the string (without the prefix \"0x\")\n",
    "\n",
    "list2 = [string[x:x+2] for x in range(0, len(string), 2)]\n",
    "print(list2)"
   ]
  },
  {
   "cell_type": "code",
   "execution_count": 6,
   "id": "34b95e00",
   "metadata": {},
   "outputs": [
    {
     "data": {
      "text/plain": [
       "[b'\\x01', b'#', b'E', b'g', b'\\x89']"
      ]
     },
     "execution_count": 6,
     "metadata": {},
     "output_type": "execute_result"
    }
   ],
   "source": [
    "# Step 2: Convert the hex-strings to bytes\n",
    "\n",
    "[bytes.fromhex(x) for x in list2]"
   ]
  },
  {
   "cell_type": "markdown",
   "id": "4a2048f1",
   "metadata": {},
   "source": [
    "### Solution 3: Direct conversion"
   ]
  },
  {
   "cell_type": "code",
   "execution_count": 7,
   "id": "3e6e9dd5",
   "metadata": {},
   "outputs": [
    {
     "name": "stdout",
     "output_type": "stream",
     "text": [
      "b'\\x01#Eg\\x89'\n"
     ]
    }
   ],
   "source": [
    "b = bytes.fromhex(string)\n",
    "print(b)"
   ]
  },
  {
   "cell_type": "code",
   "execution_count": 8,
   "id": "19237827",
   "metadata": {},
   "outputs": [
    {
     "data": {
      "text/plain": [
       "[1, 35, 69, 103, 137]"
      ]
     },
     "execution_count": 8,
     "metadata": {},
     "output_type": "execute_result"
    }
   ],
   "source": [
    "# To compare with output1 above.\n",
    "list(b)"
   ]
  }
 ],
 "metadata": {
  "kernelspec": {
   "display_name": "Python 3",
   "language": "python",
   "name": "python3"
  },
  "language_info": {
   "codemirror_mode": {
    "name": "ipython",
    "version": 3
   },
   "file_extension": ".py",
   "mimetype": "text/x-python",
   "name": "python",
   "nbconvert_exporter": "python",
   "pygments_lexer": "ipython3",
   "version": "3.8.8"
  }
 },
 "nbformat": 4,
 "nbformat_minor": 5
}
