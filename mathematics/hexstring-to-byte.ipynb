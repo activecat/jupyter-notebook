{
 "cells": [
  {
   "cell_type": "markdown",
   "id": "62609a6a",
   "metadata": {},
   "source": [
    "<img src=\"question-Junaid-Ahmad.jpg\">\n",
    "Question <a href=\"https://web.facebook.com/groups/python/posts/983651849142046/\">posted</a> in FB Python group."
   ]
  },
  {
   "cell_type": "markdown",
   "id": "42236713",
   "metadata": {},
   "source": [
    "### Solution:"
   ]
  },
  {
   "cell_type": "code",
   "execution_count": 1,
   "id": "e8ce79ea",
   "metadata": {},
   "outputs": [
    {
     "name": "stdout",
     "output_type": "stream",
     "text": [
      "['0x01', '0x23', '0x45', '0x67', '0x89']\n"
     ]
    }
   ],
   "source": [
    "string = \"0123456789\"\n",
    "\n",
    "# Step 1: Separate into 5 hex-strings\n",
    "list1 = [\"0x{}\".format(string[x:x+2]) for x in range(0, len(string), 2)]\n",
    "print(list1)"
   ]
  },
  {
   "cell_type": "code",
   "execution_count": 2,
   "id": "ea99ac2f",
   "metadata": {},
   "outputs": [
    {
     "data": {
      "text/plain": [
       "[1, 35, 69, 103, 137]"
      ]
     },
     "execution_count": 2,
     "metadata": {},
     "output_type": "execute_result"
    }
   ],
   "source": [
    "# Step 2: Convert the hex-strings to bytes\n",
    "[int(x,16) for x in list1]"
   ]
  }
 ],
 "metadata": {
  "kernelspec": {
   "display_name": "Python 3",
   "language": "python",
   "name": "python3"
  },
  "language_info": {
   "codemirror_mode": {
    "name": "ipython",
    "version": 3
   },
   "file_extension": ".py",
   "mimetype": "text/x-python",
   "name": "python",
   "nbconvert_exporter": "python",
   "pygments_lexer": "ipython3",
   "version": "3.8.8"
  }
 },
 "nbformat": 4,
 "nbformat_minor": 5
}
