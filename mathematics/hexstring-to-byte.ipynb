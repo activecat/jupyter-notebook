{
 "cells": [
  {
   "cell_type": "markdown",
   "id": "62609a6a",
   "metadata": {},
   "source": [
    "<img src=\"question-Junaid-Ahmad.jpg\">\n",
    "Question <a href=\"https://web.facebook.com/groups/python/posts/983651849142046/\">posted</a> in FB Python group."
   ]
  },
  {
   "cell_type": "code",
   "execution_count": 1,
   "id": "8b5c35c4",
   "metadata": {},
   "outputs": [],
   "source": [
    "string = \"0123456789\""
   ]
  },
  {
   "cell_type": "markdown",
   "id": "955f09b6",
   "metadata": {},
   "source": [
    "### Solution 1: Convert to base-10, then to bytes"
   ]
  },
  {
   "cell_type": "code",
   "execution_count": 2,
   "id": "e8ce79ea",
   "metadata": {},
   "outputs": [
    {
     "name": "stdout",
     "output_type": "stream",
     "text": [
      "['0x01', '0x23', '0x45', '0x67', '0x89']\n"
     ]
    }
   ],
   "source": [
    "# Step 1: Separate into 5 hex-strings\n",
    "\n",
    "list1 = [\"0x{}\".format(string[x:x+2]) for x in range(0, len(string), 2)]\n",
    "print(list1)"
   ]
  },
  {
   "cell_type": "code",
   "execution_count": 3,
   "id": "ea99ac2f",
   "metadata": {},
   "outputs": [
    {
     "name": "stdout",
     "output_type": "stream",
     "text": [
      "[1, 35, 69, 103, 137]\n"
     ]
    }
   ],
   "source": [
    "# Step 2: Convert the hex-strings to base-10.\n",
    "\n",
    "output1 = [int(x,16) for x in list1]\n",
    "print(output1)"
   ]
  },
  {
   "cell_type": "code",
   "execution_count": 4,
   "id": "5309d156",
   "metadata": {},
   "outputs": [
    {
     "data": {
      "text/plain": [
       "[b'\\x01', b'#', b'E', b'g', b'\\x89']"
      ]
     },
     "execution_count": 4,
     "metadata": {},
     "output_type": "execute_result"
    }
   ],
   "source": [
    "# Step 3: Convert the base-10 to bytes\n",
    "\n",
    "[bytes([x]) for x in output1]"
   ]
  },
  {
   "cell_type": "markdown",
   "id": "53276793",
   "metadata": {},
   "source": [
    "### Solution 2: Convert directly to bytes"
   ]
  },
  {
   "cell_type": "code",
   "execution_count": 5,
   "id": "5d09b613",
   "metadata": {},
   "outputs": [
    {
     "name": "stdout",
     "output_type": "stream",
     "text": [
      "['01', '23', '45', '67', '89']\n"
     ]
    }
   ],
   "source": [
    "# Step 1: Separate the string (without the prefix \"0x\")\n",
    "\n",
    "list2 = [string[x:x+2] for x in range(0, len(string), 2)]\n",
    "print(list2)"
   ]
  },
  {
   "cell_type": "code",
   "execution_count": 6,
   "id": "dae40046",
   "metadata": {},
   "outputs": [
    {
     "data": {
      "text/plain": [
       "[b'\\x01', b'#', b'E', b'g', b'\\x89']"
      ]
     },
     "execution_count": 6,
     "metadata": {},
     "output_type": "execute_result"
    }
   ],
   "source": [
    "# Step 2: Convert the hex-strings to bytes\n",
    "\n",
    "[bytes.fromhex(x) for x in list2]"
   ]
  },
  {
   "cell_type": "code",
   "execution_count": null,
   "id": "5097af61",
   "metadata": {},
   "outputs": [],
   "source": []
  }
 ],
 "metadata": {
  "kernelspec": {
   "display_name": "Python 3",
   "language": "python",
   "name": "python3"
  },
  "language_info": {
   "codemirror_mode": {
    "name": "ipython",
    "version": 3
   },
   "file_extension": ".py",
   "mimetype": "text/x-python",
   "name": "python",
   "nbconvert_exporter": "python",
   "pygments_lexer": "ipython3",
   "version": "3.8.8"
  }
 },
 "nbformat": 4,
 "nbformat_minor": 5
}
