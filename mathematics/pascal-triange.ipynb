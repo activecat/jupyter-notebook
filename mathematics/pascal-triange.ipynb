{
 "metadata": {
  "language_info": {
   "codemirror_mode": {
    "name": "ipython",
    "version": 3
   },
   "file_extension": ".py",
   "mimetype": "text/x-python",
   "name": "python",
   "nbconvert_exporter": "python",
   "pygments_lexer": "ipython3",
   "version": "3.8.5"
  },
  "orig_nbformat": 2,
  "kernelspec": {
   "name": "python385jvsc74a57bd0bb3667d25cea75d97cf6022c2f0b36aa031e10f7f624bb8de31851975fb6818b",
   "display_name": "Python 3.8.5 64-bit"
  }
 },
 "nbformat": 4,
 "nbformat_minor": 2,
 "cells": [
  {
   "cell_type": "code",
   "execution_count": 1,
   "metadata": {},
   "outputs": [],
   "source": [
    "# Question: \n",
    "#  How to print pascal traingle below is the output\n",
    "#\n",
    "#       1\n",
    "#      1 1\n",
    "#     1 2 1\n",
    "#    1 3 3 1\n",
    "#   1 4 6 4 1"
   ]
  },
  {
   "cell_type": "code",
   "execution_count": 37,
   "metadata": {},
   "outputs": [
    {
     "output_type": "stream",
     "name": "stdout",
     "text": [
      "                1 \n              1   1 \n            1   2   1 \n          1   3   3   1 \n        1   4   6   4   1 \n      1   5  10  10   5   1 \n    1   6  15  20  15   6   1 \n  1   7  21  35  35  21   7   1 \n"
     ]
    }
   ],
   "source": [
    "def func2(n):\n",
    "    if n == 1:\n",
    "        return [1]\n",
    "    else:    \n",
    "        output = []\n",
    "        previous = func2(n-1)\n",
    "        length = len(previous)\n",
    "        for i in range(0, length + 1):\n",
    "            if i in [0, length]:\n",
    "                output.append(1)\n",
    "            else:\n",
    "                output.append(previous[i-1] + previous[i])\n",
    "        return output\n",
    "\n",
    "N = 8  # The number of rows\n",
    "for x in range(N):\n",
    "    row = func2(x+1)\n",
    "    print('  ' * (N-len(row)), end='')\n",
    "    for y in row:\n",
    "        print(\"{0:>3}\".format(y), end=' ')\n",
    "    print()"
   ]
  },
  {
   "cell_type": "code",
   "execution_count": null,
   "metadata": {},
   "outputs": [],
   "source": []
  }
 ]
}