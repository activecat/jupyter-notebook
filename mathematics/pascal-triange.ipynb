{
 "cells": [
  {
   "cell_type": "markdown",
   "metadata": {},
   "source": [
    "<h2>How to print pascal traingle below is the output? </h2>\n",
    "<pre>\n",
    "       1\n",
    "      1 1\n",
    "     1 2 1\n",
    "    1 3 3 1\n",
    "   1 4 6 4 1\n",
    "</pre>"
   ]
  },
  {
   "cell_type": "code",
   "execution_count": 1,
   "metadata": {},
   "outputs": [],
   "source": [
    "# Solution:\n",
    "\n",
    "# Step 1: This function produces numbers for each row.\n",
    "\n",
    "def func2(n):\n",
    "    if n < 1:\n",
    "        return []\n",
    "    elif n == 1:\n",
    "        return [1]\n",
    "    else:    \n",
    "        output = []\n",
    "        previous = func2(n-1)\n",
    "        length = len(previous)\n",
    "        for i in range(0, length + 1):\n",
    "            if i in [0, length]:\n",
    "                output.append(1)\n",
    "            else:\n",
    "                output.append(previous[i-1] + previous[i])\n",
    "        return output"
   ]
  },
  {
   "cell_type": "code",
   "execution_count": 2,
   "metadata": {},
   "outputs": [
    {
     "name": "stdout",
     "output_type": "stream",
     "text": [
      "[1]\n",
      "[1, 1]\n",
      "[1, 2, 1]\n",
      "[1, 3, 3, 1]\n",
      "[1, 4, 6, 4, 1]\n",
      "[1, 5, 10, 10, 5, 1]\n",
      "[1, 6, 15, 20, 15, 6, 1]\n",
      "[1, 7, 21, 35, 35, 21, 7, 1]\n"
     ]
    }
   ],
   "source": [
    "# To verity each row having correct numbers,\n",
    "for x in range(8):    \n",
    "    print(func2(x+1))"
   ]
  },
  {
   "cell_type": "code",
   "execution_count": 3,
   "metadata": {},
   "outputs": [
    {
     "name": "stdout",
     "output_type": "stream",
     "text": [
      "                1 \n",
      "              1   1 \n",
      "            1   2   1 \n",
      "          1   3   3   1 \n",
      "        1   4   6   4   1 \n",
      "      1   5  10  10   5   1 \n",
      "    1   6  15  20  15   6   1 \n",
      "  1   7  21  35  35  21   7   1 \n"
     ]
    }
   ],
   "source": [
    "# Step 2: Just to adjust the print format\n",
    "\n",
    "N = 8  # The number of rows\n",
    "for x in range(N):\n",
    "    row = func2(x+1)\n",
    "    print('  ' * (N-len(row)), end='')\n",
    "    for y in row:\n",
    "        print(\"{0:>3}\".format(y), end=' ')\n",
    "    print()"
   ]
  },
  {
   "cell_type": "code",
   "execution_count": null,
   "metadata": {},
   "outputs": [],
   "source": []
  }
 ],
 "metadata": {
  "kernelspec": {
   "display_name": "Python 3",
   "language": "python",
   "name": "python3"
  },
  "language_info": {
   "codemirror_mode": {
    "name": "ipython",
    "version": 3
   },
   "file_extension": ".py",
   "mimetype": "text/x-python",
   "name": "python",
   "nbconvert_exporter": "python",
   "pygments_lexer": "ipython3",
   "version": "3.8.8"
  }
 },
 "nbformat": 4,
 "nbformat_minor": 2
}
