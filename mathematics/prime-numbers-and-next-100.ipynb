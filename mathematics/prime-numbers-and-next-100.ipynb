{
 "metadata": {
  "language_info": {
   "codemirror_mode": {
    "name": "ipython",
    "version": 3
   },
   "file_extension": ".py",
   "mimetype": "text/x-python",
   "name": "python",
   "nbconvert_exporter": "python",
   "pygments_lexer": "ipython3",
   "version": "3.8.5"
  },
  "orig_nbformat": 2,
  "kernelspec": {
   "name": "python3",
   "display_name": "Python 3.8.5 64-bit",
   "metadata": {
    "interpreter": {
     "hash": "bb3667d25cea75d97cf6022c2f0b36aa031e10f7f624bb8de31851975fb6818b"
    }
   }
  }
 },
 "nbformat": 4,
 "nbformat_minor": 2,
 "cells": [
  {
   "cell_type": "code",
   "execution_count": 1,
   "metadata": {},
   "outputs": [],
   "source": [
    "def is_prime(x):\n",
    "    if type(x) is int and x > 1:\n",
    "        for i in range(2, x):\n",
    "            if x % i == 0:\n",
    "                return False   \n",
    "        return True \n",
    "    return False \n",
    "\n",
    "# To verify:-  \n",
    "# { x:is_prime(x) for x in range(25)}"
   ]
  },
  {
   "cell_type": "code",
   "execution_count": 2,
   "metadata": {},
   "outputs": [
    {
     "output_type": "stream",
     "name": "stdout",
     "text": [
      "[(103, 113), (127, 137), (139, 149), (157, 167), (163, 173), (181, 191), (223, 233), (229, 239), (241, 251), (271, 281), (283, 293), (307, 317), (337, 347), (349, 359), (373, 383), (379, 389), (409, 419), (421, 431), (433, 443), (439, 449), (457, 467), (499, 509)]\n"
     ]
    }
   ],
   "source": [
    "def PrimesDifferingBy10(p, q):\n",
    "    output = []\n",
    "    for x in range(p, q):\n",
    "        if is_prime(x) and is_prime(x+10):\n",
    "            output.append((x, x+10))\n",
    "    return output            \n",
    "\n",
    "# To test the function,\n",
    "print(PrimesDifferingBy10(100, 500))"
   ]
  },
  {
   "cell_type": "code",
   "execution_count": 3,
   "metadata": {},
   "outputs": [],
   "source": [
    "# Note:\n",
    "#  Prime number is a positive integer that has exactly two positive divisors. \n",
    "#  The number 1 only has one positive divisor (1 itself), hence it is not prime."
   ]
  }
 ]
}