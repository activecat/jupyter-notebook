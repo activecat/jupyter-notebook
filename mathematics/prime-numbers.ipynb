{
 "metadata": {
  "language_info": {
   "codemirror_mode": {
    "name": "ipython",
    "version": 3
   },
   "file_extension": ".py",
   "mimetype": "text/x-python",
   "name": "python",
   "nbconvert_exporter": "python",
   "pygments_lexer": "ipython3",
   "version": "3.8.5"
  },
  "orig_nbformat": 2,
  "kernelspec": {
   "name": "python3",
   "display_name": "Python 3.8.5 64-bit",
   "metadata": {
    "interpreter": {
     "hash": "bb3667d25cea75d97cf6022c2f0b36aa031e10f7f624bb8de31851975fb6818b"
    }
   }
  }
 },
 "nbformat": 4,
 "nbformat_minor": 2,
 "cells": [
  {
   "cell_type": "code",
   "execution_count": 1,
   "metadata": {},
   "outputs": [
    {
     "output_type": "stream",
     "name": "stdout",
     "text": [
      "2 is a prime number\n3 is a prime number\n4 equals 2 * 2\n5 is a prime number\n6 equals 2 * 3\n7 is a prime number\n8 equals 2 * 4\n9 equals 3 * 3\n10 equals 2 * 5\n11 is a prime number\n12 equals 2 * 6\n13 is a prime number\n14 equals 2 * 7\n"
     ]
    }
   ],
   "source": [
    "def funcP(n):\n",
    "    for x in range(2, n):\n",
    "        if n % x == 0:\n",
    "            print(\"{} equals {} * {}\".format(n, x, n//x))\n",
    "            return\n",
    "    print(\"{} is a prime number\" .format(n))\n",
    "\n",
    "for n in range(2, 15):\n",
    "    funcP(n)\n"
   ]
  },
  {
   "cell_type": "code",
   "execution_count": 2,
   "metadata": {},
   "outputs": [
    {
     "output_type": "stream",
     "name": "stdout",
     "text": [
      "2 is a prime number\n3 is a prime number\n4 equals 2 * 2\n5 is a prime number\n6 equals 2 * 3\n7 is a prime number\n8 equals 2 * 4\n9 equals 3 * 3\n10 equals 2 * 5\n11 is a prime number\n12 equals 2 * 6\n13 is a prime number\n14 equals 2 * 7\n"
     ]
    }
   ],
   "source": [
    "# By Francesco Loffredo:\n",
    "# Else in For loop: \n",
    "#   The 'else' keyword in a 'for' loop specifies a block of code to be executed when the loop is finished.\n",
    "#   https://www.w3schools.com/python/gloss_python_for_else.asp\n",
    "for n in range(2, 15):\n",
    "    for x in range(2, n):\n",
    "        if n % x == 0:\n",
    "            print(\"{} equals {} * {}\".format(n, x, n//x))\n",
    "            break\n",
    "    else:\n",
    "        print(\"{} is a prime number\" .format(n))\n",
    "\n"
   ]
  },
  {
   "cell_type": "code",
   "execution_count": 3,
   "metadata": {},
   "outputs": [],
   "source": [
    "# To break the outer loop,\n",
    "#  https://stackoverflow.com/questions/653509/breaking-out-of-nested-loops"
   ]
  }
 ]
}