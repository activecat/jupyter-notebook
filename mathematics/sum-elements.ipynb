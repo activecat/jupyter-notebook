{
 "cells": [
  {
   "cell_type": "markdown",
   "id": "7e33f673",
   "metadata": {},
   "source": [
    "<img src=\"\">"
   ]
  },
  {
   "cell_type": "code",
   "execution_count": 1,
   "id": "ce4d6d41",
   "metadata": {},
   "outputs": [
    {
     "data": {
      "text/plain": [
       "[1, 3, 6, 10]"
      ]
     },
     "execution_count": 1,
     "metadata": {},
     "output_type": "execute_result"
    }
   ],
   "source": [
    "input = [ 1, 2, 3, 4 ] # Expected output is [ 1, 3, 6, 10]\n",
    "\n",
    "z = 0\n",
    "def f2(x):\n",
    "    global z\n",
    "    z += x\n",
    "    return z\n",
    "\n",
    "[ f2(x) for x in input]"
   ]
  },
  {
   "cell_type": "code",
   "execution_count": 2,
   "id": "771a3950",
   "metadata": {},
   "outputs": [
    {
     "data": {
      "text/plain": [
       "[5, 12, 14, 14]"
      ]
     },
     "execution_count": 2,
     "metadata": {},
     "output_type": "execute_result"
    }
   ],
   "source": [
    "input = [ 5, 7, 2, 0]  # Expected output is [ 5, 12, 14, 14]\n",
    "z = 0\n",
    "[ f2(x) for x in input]"
   ]
  },
  {
   "cell_type": "code",
   "execution_count": null,
   "id": "2cd2c0fb",
   "metadata": {},
   "outputs": [],
   "source": []
  }
 ],
 "metadata": {
  "kernelspec": {
   "display_name": "Python 3",
   "language": "python",
   "name": "python3"
  },
  "language_info": {
   "codemirror_mode": {
    "name": "ipython",
    "version": 3
   },
   "file_extension": ".py",
   "mimetype": "text/x-python",
   "name": "python",
   "nbconvert_exporter": "python",
   "pygments_lexer": "ipython3",
   "version": "3.8.8"
  }
 },
 "nbformat": 4,
 "nbformat_minor": 5
}
