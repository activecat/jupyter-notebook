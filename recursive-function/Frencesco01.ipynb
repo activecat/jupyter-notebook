{
 "cells": [
  {
   "cell_type": "code",
   "execution_count": null,
   "id": "50c815aa",
   "metadata": {},
   "outputs": [
    {
     "name": "stdout",
     "output_type": "stream",
     "text": [
      "Enter \"Z\" value:2\n",
      "The Y value is :0.4138 with multinverse\n",
      "The Y value is :0.4 with recmultinv\n"
     ]
    }
   ],
   "source": [
    "def multinverse(z, depth=2):\n",
    "    if z == 0:\n",
    "        return 0\n",
    "    prev = (z + 1 / z)\n",
    "    for _ in range(depth):\n",
    "        prev = (z + 1 / prev)\n",
    "    return 1 / prev\n",
    "    \n",
    "def recmultinv(z, depth=2, prev=None):\n",
    "    if z == 0:\n",
    "        return 0\n",
    "    if prev is None:\n",
    "        prev = (z + 1 / z)\n",
    "    if depth == 0:\n",
    "        return 1 / prev\n",
    "    else:\n",
    "        return recmultinv(z, depth-1, prev)\n",
    "\n",
    "def main():\n",
    "    while True:\n",
    "        try:\n",
    "            Z = input('Enter \"Z\" value:')\n",
    "            if Z.upper() == \"Q\":\n",
    "                print(\"End of Job.\")\n",
    "                break\n",
    "            Z = float(Z)\n",
    "        except ValueError:\n",
    "            print(\"Incorrect numeric value entered!\")\n",
    "            continue\n",
    "        Y = multinverse(Z)\n",
    "        print(f\"The Y value is :{Y:.4} with multinverse\")\n",
    "        Y = recmultinv(Z)\n",
    "        print(f\"The Y value is :{Y:.4} with recmultinv\")\n",
    "\n",
    "if __name__ == \"__main__\":\n",
    "    main()"
   ]
  },
  {
   "cell_type": "code",
   "execution_count": null,
   "id": "895c6a2a",
   "metadata": {},
   "outputs": [],
   "source": []
  }
 ],
 "metadata": {
  "kernelspec": {
   "display_name": "Python 3",
   "language": "python",
   "name": "python3"
  },
  "language_info": {
   "codemirror_mode": {
    "name": "ipython",
    "version": 3
   },
   "file_extension": ".py",
   "mimetype": "text/x-python",
   "name": "python",
   "nbconvert_exporter": "python",
   "pygments_lexer": "ipython3",
   "version": "3.8.8"
  }
 },
 "nbformat": 4,
 "nbformat_minor": 5
}
