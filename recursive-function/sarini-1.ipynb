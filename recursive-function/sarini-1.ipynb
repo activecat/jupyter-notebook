{
 "cells": [
  {
   "cell_type": "code",
   "execution_count": 1,
   "id": "aaf4ce58",
   "metadata": {},
   "outputs": [],
   "source": [
    "# https://web.facebook.com/groups/softwareskill/permalink/2602766693365762/"
   ]
  },
  {
   "cell_type": "code",
   "execution_count": 2,
   "id": "c38d9920",
   "metadata": {},
   "outputs": [
    {
     "data": {
      "text/plain": [
       "0.4137931034482759"
      ]
     },
     "execution_count": 2,
     "metadata": {},
     "output_type": "execute_result"
    }
   ],
   "source": [
    "def func(z, n):\n",
    "    if n == 1:\n",
    "        return z + 1/z\n",
    "    else:\n",
    "        return z + 1/func(z, n-1)\n",
    "\n",
    "# Z=2    \n",
    "1/func(2, 3)    "
   ]
  },
  {
   "cell_type": "code",
   "execution_count": 3,
   "id": "4d26f886",
   "metadata": {},
   "outputs": [
    {
     "data": {
      "text/plain": [
       "0.09901951266867294"
      ]
     },
     "execution_count": 3,
     "metadata": {},
     "output_type": "execute_result"
    }
   ],
   "source": [
    "# Z=10\n",
    "1/func(10, 3)  "
   ]
  },
  {
   "cell_type": "code",
   "execution_count": 4,
   "id": "eb8fac32",
   "metadata": {},
   "outputs": [
    {
     "data": {
      "text/plain": [
       "0.0663729751856689"
      ]
     },
     "execution_count": 4,
     "metadata": {},
     "output_type": "execute_result"
    }
   ],
   "source": [
    "# Z=15\n",
    "1/func(15, 3)  "
   ]
  },
  {
   "cell_type": "code",
   "execution_count": 5,
   "id": "5a81c4be",
   "metadata": {},
   "outputs": [],
   "source": [
    "def multinverse(z, depth=2):\n",
    "    if z == 0:\n",
    "        return 0\n",
    "    prev = (z + 1 / z)\n",
    "    for _ in range(depth):\n",
    "        prev = (z + 1 / prev)\n",
    "    return 1 / prev"
   ]
  },
  {
   "cell_type": "code",
   "execution_count": 6,
   "id": "67eda4e0",
   "metadata": {},
   "outputs": [
    {
     "data": {
      "text/plain": [
       "0.4137931034482759"
      ]
     },
     "execution_count": 6,
     "metadata": {},
     "output_type": "execute_result"
    }
   ],
   "source": [
    "multinverse(2)"
   ]
  },
  {
   "cell_type": "code",
   "execution_count": 7,
   "id": "22ac0aef",
   "metadata": {},
   "outputs": [
    {
     "data": {
      "text/plain": [
       "0.09901951266867294"
      ]
     },
     "execution_count": 7,
     "metadata": {},
     "output_type": "execute_result"
    }
   ],
   "source": [
    "multinverse(10)"
   ]
  },
  {
   "cell_type": "code",
   "execution_count": 8,
   "id": "3a73bc69",
   "metadata": {},
   "outputs": [
    {
     "data": {
      "text/plain": [
       "0.0663729751856689"
      ]
     },
     "execution_count": 8,
     "metadata": {},
     "output_type": "execute_result"
    }
   ],
   "source": [
    "multinverse(15)"
   ]
  },
  {
   "cell_type": "code",
   "execution_count": 9,
   "id": "5526dd11",
   "metadata": {},
   "outputs": [
    {
     "data": {
      "text/plain": [
       "0.4"
      ]
     },
     "execution_count": 9,
     "metadata": {},
     "output_type": "execute_result"
    }
   ],
   "source": [
    "def recmultinv(z, depth=2, prev=None):\n",
    "    if z == 0:\n",
    "        return 0\n",
    "    if prev is None:\n",
    "        prev = (z + 1 / z)\n",
    "    if depth == 0:\n",
    "        return 1 / prev\n",
    "    else:\n",
    "        return recmultinv(z, depth-1, prev)\n",
    "    \n",
    "recmultinv(2)    "
   ]
  },
  {
   "cell_type": "code",
   "execution_count": 10,
   "id": "056fae7e",
   "metadata": {},
   "outputs": [
    {
     "data": {
      "text/plain": [
       "0.09900990099009901"
      ]
     },
     "execution_count": 10,
     "metadata": {},
     "output_type": "execute_result"
    }
   ],
   "source": [
    "recmultinv(10) "
   ]
  },
  {
   "cell_type": "code",
   "execution_count": 11,
   "id": "8a14657c",
   "metadata": {},
   "outputs": [
    {
     "data": {
      "text/plain": [
       "0.06637168141592921"
      ]
     },
     "execution_count": 11,
     "metadata": {},
     "output_type": "execute_result"
    }
   ],
   "source": [
    "recmultinv(15) "
   ]
  },
  {
   "cell_type": "code",
   "execution_count": null,
   "id": "67206204",
   "metadata": {},
   "outputs": [],
   "source": []
  }
 ],
 "metadata": {
  "kernelspec": {
   "display_name": "Python 3",
   "language": "python",
   "name": "python3"
  },
  "language_info": {
   "codemirror_mode": {
    "name": "ipython",
    "version": 3
   },
   "file_extension": ".py",
   "mimetype": "text/x-python",
   "name": "python",
   "nbconvert_exporter": "python",
   "pygments_lexer": "ipython3",
   "version": "3.8.8"
  }
 },
 "nbformat": 4,
 "nbformat_minor": 5
}
