{
 "cells": [
  {
   "cell_type": "markdown",
   "id": "4fdc1838",
   "metadata": {},
   "source": [
    "<img src=\"question.jpg\">\n",
    "<a href=\"https://web.facebook.com/groups/python/posts/984114012429163/\">Posted</a> in FB Python group."
   ]
  },
  {
   "cell_type": "code",
   "execution_count": 1,
   "id": "6916c8ff",
   "metadata": {},
   "outputs": [
    {
     "name": "stdout",
     "output_type": "stream",
     "text": [
      "\"My name is Beth\": -1\n",
      "\", I like Python\": 15\n"
     ]
    }
   ],
   "source": [
    "# Answer given by Vikas (incorrect)\n",
    "\n",
    "s = \"My name is Beth, I like Python, but it doesn't like me.\"\n",
    "d = {}\n",
    "j = -1\n",
    "substr = ''\n",
    "for i,c in enumerate(s):\n",
    "    if c == ',':\n",
    "        d[substr] = j\n",
    "        j = i\n",
    "        substr = ''\n",
    "    substr += c\n",
    "\n",
    "for k,v in d.items():\n",
    "    print('\"{}\": {}'.format(k,v))"
   ]
  },
  {
   "cell_type": "code",
   "execution_count": 2,
   "id": "2fd99ee8",
   "metadata": {},
   "outputs": [
    {
     "name": "stdout",
     "output_type": "stream",
     "text": [
      "15\n"
     ]
    }
   ],
   "source": [
    "import re\n",
    "item = \"Python\"\n",
    "\n",
    "for k,v in d.items():\n",
    "    if re.search('\\\\b'+item+'\\\\b',k):\n",
    "        print (v)\n",
    "        break"
   ]
  },
  {
   "cell_type": "code",
   "execution_count": 3,
   "id": "07bde5af",
   "metadata": {},
   "outputs": [
    {
     "name": "stdout",
     "output_type": "stream",
     "text": [
      "['My name is Beth, I like ', \", but it doesn't like me.\"]\n"
     ]
    },
    {
     "data": {
      "text/plain": [
       "15"
      ]
     },
     "execution_count": 3,
     "metadata": {},
     "output_type": "execute_result"
    }
   ],
   "source": [
    "# Answer given by Roylan Martinez Vargas\n",
    "\n",
    "ll = s.split(item)\n",
    "print(ll)\n",
    "ll[0].rfind(\",\")"
   ]
  }
 ],
 "metadata": {
  "kernelspec": {
   "display_name": "Python 3",
   "language": "python",
   "name": "python3"
  },
  "language_info": {
   "codemirror_mode": {
    "name": "ipython",
    "version": 3
   },
   "file_extension": ".py",
   "mimetype": "text/x-python",
   "name": "python",
   "nbconvert_exporter": "python",
   "pygments_lexer": "ipython3",
   "version": "3.8.8"
  }
 },
 "nbformat": 4,
 "nbformat_minor": 5
}
