{
 "cells": [
  {
   "cell_type": "code",
   "execution_count": 1,
   "id": "9a7b840d",
   "metadata": {},
   "outputs": [],
   "source": [
    "# https://www.geeksforgeeks.org/how-does-the-functools-cmp_to_key-function-works-in-python/\n",
    "# https://stackoverflow.com/questions/16362744/how-does-pythons-cmp-to-key-function-work\n",
    "\n",
    "import functools\n",
    "\n",
    "def mycmp(a, b):\n",
    "    print(\"comparing \", a, \" and \", b)\n",
    "    if a > b:\n",
    "        return 1\n",
    "    elif a < b:\n",
    "        return -1\n",
    "    else:\n",
    "        return 0"
   ]
  },
  {
   "cell_type": "code",
   "execution_count": 2,
   "id": "7ea5e654",
   "metadata": {},
   "outputs": [
    {
     "name": "stdout",
     "output_type": "stream",
     "text": [
      "comparing  2  and  1\n",
      "comparing  4  and  2\n",
      "comparing  3  and  4\n",
      "comparing  3  and  2\n",
      "comparing  3  and  4\n"
     ]
    },
    {
     "data": {
      "text/plain": [
       "[1, 2, 3, 4]"
      ]
     },
     "execution_count": 2,
     "metadata": {},
     "output_type": "execute_result"
    }
   ],
   "source": [
    "# This will compare 3 and 4 two times.\n",
    "\n",
    "sorted([1, 2, 4, 3], key=functools.cmp_to_key(mycmp))"
   ]
  },
  {
   "cell_type": "code",
   "execution_count": 6,
   "id": "a41fab41",
   "metadata": {},
   "outputs": [
    {
     "name": "stdout",
     "output_type": "stream",
     "text": [
      "5 <class 'int'>\n",
      "2 <class 'int'>\n",
      "4 <class 'int'>\n",
      "3 <class 'int'>\n"
     ]
    },
    {
     "data": {
      "text/plain": [
       "[5, 2, 4, 3]"
      ]
     },
     "execution_count": 6,
     "metadata": {},
     "output_type": "execute_result"
    }
   ],
   "source": [
    "# https://stackoverflow.com/questions/16362744/how-does-pythons-cmp-to-key-function-work\n",
    "\n",
    "sorted([5, 2, 4, 3], key=lambda x: {print(\"{} {}\".format(x, type(x)))})"
   ]
  },
  {
   "cell_type": "code",
   "execution_count": 4,
   "id": "484a8b07",
   "metadata": {},
   "outputs": [
    {
     "name": "stdout",
     "output_type": "stream",
     "text": [
      "comparing  3  and  4\n",
      "comparing  2  and  3\n",
      "comparing  1  and  2\n"
     ]
    },
    {
     "data": {
      "text/plain": [
       "[1, 2, 3, 4]"
      ]
     },
     "execution_count": 4,
     "metadata": {},
     "output_type": "execute_result"
    }
   ],
   "source": [
    "sorted([4,3,2,1], key=functools.cmp_to_key(mycmp))"
   ]
  },
  {
   "cell_type": "code",
   "execution_count": 5,
   "id": "27451660",
   "metadata": {},
   "outputs": [
    {
     "name": "stdout",
     "output_type": "stream",
     "text": [
      "comparing  78  and  45\n",
      "comparing  1  and  45\n",
      "comparing  813  and  1\n"
     ]
    },
    {
     "data": {
      "text/plain": [
       "1"
      ]
     },
     "execution_count": 5,
     "metadata": {},
     "output_type": "execute_result"
    }
   ],
   "source": [
    "min([45, 78, 1, 813], key=functools.cmp_to_key(mycmp))"
   ]
  },
  {
   "cell_type": "code",
   "execution_count": null,
   "id": "9c7cadaf",
   "metadata": {},
   "outputs": [],
   "source": []
  }
 ],
 "metadata": {
  "kernelspec": {
   "display_name": "Python 3",
   "language": "python",
   "name": "python3"
  },
  "language_info": {
   "codemirror_mode": {
    "name": "ipython",
    "version": 3
   },
   "file_extension": ".py",
   "mimetype": "text/x-python",
   "name": "python",
   "nbconvert_exporter": "python",
   "pygments_lexer": "ipython3",
   "version": "3.8.8"
  }
 },
 "nbformat": 4,
 "nbformat_minor": 5
}
