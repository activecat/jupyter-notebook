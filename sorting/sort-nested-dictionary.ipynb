{
 "cells": [
  {
   "cell_type": "markdown",
   "id": "1de58fc2",
   "metadata": {},
   "source": [
    "### A question asked by Александър Куманов :\n",
    "\n",
    "Hey guys, can someone tell me how can I sort this nested dictionary by the integer in descending order? (Using the sorted function)\n",
    "\n",
    "<code>dd = {'John': {'Math': 10}, 'Jim': {'Physics': 15}, 'Jill': {'Geography': 8}}</code>"
   ]
  },
  {
   "cell_type": "markdown",
   "id": "20ed6554",
   "metadata": {},
   "source": [
    "## Solution"
   ]
  },
  {
   "cell_type": "code",
   "execution_count": 1,
   "id": "6f605d1f",
   "metadata": {},
   "outputs": [],
   "source": [
    "dd = {'John': {'Math': 10}, 'Jim': {'Physics': 15}, 'Jill': {'Geography': 8}}"
   ]
  },
  {
   "cell_type": "markdown",
   "id": "7c25d2e3",
   "metadata": {},
   "source": [
    "### Step 1: To extract the integers from the dictionary"
   ]
  },
  {
   "cell_type": "code",
   "execution_count": 2,
   "id": "ab4269a9",
   "metadata": {},
   "outputs": [
    {
     "data": {
      "text/plain": [
       "[('John', {'Math': 10}), ('Jim', {'Physics': 15}), ('Jill', {'Geography': 8})]"
      ]
     },
     "execution_count": 2,
     "metadata": {},
     "output_type": "execute_result"
    }
   ],
   "source": [
    "# To test what you get with dd.items():\n",
    "\n",
    "[x for x in dd.items()]"
   ]
  },
  {
   "cell_type": "code",
   "execution_count": 3,
   "id": "03233277",
   "metadata": {},
   "outputs": [
    {
     "data": {
      "text/plain": [
       "[{'Math': 10}, {'Physics': 15}, {'Geography': 8}]"
      ]
     },
     "execution_count": 3,
     "metadata": {},
     "output_type": "execute_result"
    }
   ],
   "source": [
    "[x[1] for x in dd.items()]"
   ]
  },
  {
   "cell_type": "code",
   "execution_count": 4,
   "id": "9f0cd5a6",
   "metadata": {},
   "outputs": [
    {
     "data": {
      "text/plain": [
       "[dict_items([('Math', 10)]),\n",
       " dict_items([('Physics', 15)]),\n",
       " dict_items([('Geography', 8)])]"
      ]
     },
     "execution_count": 4,
     "metadata": {},
     "output_type": "execute_result"
    }
   ],
   "source": [
    "[x[1].items() for x in dd.items()]"
   ]
  },
  {
   "cell_type": "code",
   "execution_count": 5,
   "id": "1cec7680",
   "metadata": {},
   "outputs": [
    {
     "data": {
      "text/plain": [
       "[[('Math', 10)], [('Physics', 15)], [('Geography', 8)]]"
      ]
     },
     "execution_count": 5,
     "metadata": {},
     "output_type": "execute_result"
    }
   ],
   "source": [
    "[list(x[1].items()) for x in dd.items()]"
   ]
  },
  {
   "cell_type": "code",
   "execution_count": 6,
   "id": "7ea41d71",
   "metadata": {},
   "outputs": [
    {
     "data": {
      "text/plain": [
       "[10, 15, 8]"
      ]
     },
     "execution_count": 6,
     "metadata": {},
     "output_type": "execute_result"
    }
   ],
   "source": [
    "# This finally extracts the integers from the dictionary.\n",
    "\n",
    "[list(x[1].items())[0][1] for x in dd.items()]"
   ]
  },
  {
   "cell_type": "markdown",
   "id": "821e25b0",
   "metadata": {},
   "source": [
    "### Step 2: Use it as key to do the sorting"
   ]
  },
  {
   "cell_type": "code",
   "execution_count": 7,
   "id": "f0d89751",
   "metadata": {},
   "outputs": [
    {
     "data": {
      "text/plain": [
       "[('Jill', {'Geography': 8}), ('John', {'Math': 10}), ('Jim', {'Physics': 15})]"
      ]
     },
     "execution_count": 7,
     "metadata": {},
     "output_type": "execute_result"
    }
   ],
   "source": [
    "sorted(dd.items(), key=lambda x:list(x[1].items())[0][1])"
   ]
  },
  {
   "cell_type": "markdown",
   "id": "946adee7",
   "metadata": {},
   "source": [
    "#### To sort it in descending order: 'reverse=True'"
   ]
  },
  {
   "cell_type": "code",
   "execution_count": 8,
   "id": "ca332f45",
   "metadata": {},
   "outputs": [
    {
     "data": {
      "text/plain": [
       "[('Jim', {'Physics': 15}), ('John', {'Math': 10}), ('Jill', {'Geography': 8})]"
      ]
     },
     "execution_count": 8,
     "metadata": {},
     "output_type": "execute_result"
    }
   ],
   "source": [
    "# To sort in descending order, add ''\n",
    "sorted(dd.items(), key=lambda x:list(x[1].items())[0][1], reverse=True)"
   ]
  }
 ],
 "metadata": {
  "kernelspec": {
   "display_name": "Python 3",
   "language": "python",
   "name": "python3"
  },
  "language_info": {
   "codemirror_mode": {
    "name": "ipython",
    "version": 3
   },
   "file_extension": ".py",
   "mimetype": "text/x-python",
   "name": "python",
   "nbconvert_exporter": "python",
   "pygments_lexer": "ipython3",
   "version": "3.8.8"
  }
 },
 "nbformat": 4,
 "nbformat_minor": 5
}
