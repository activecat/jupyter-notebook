{
 "metadata": {
  "language_info": {
   "codemirror_mode": {
    "name": "ipython",
    "version": 3
   },
   "file_extension": ".py",
   "mimetype": "text/x-python",
   "name": "python",
   "nbconvert_exporter": "python",
   "pygments_lexer": "ipython3",
   "version": "3.8.5"
  },
  "orig_nbformat": 2,
  "kernelspec": {
   "name": "python3",
   "display_name": "Python 3.8.5 64-bit",
   "metadata": {
    "interpreter": {
     "hash": "bb3667d25cea75d97cf6022c2f0b36aa031e10f7f624bb8de31851975fb6818b"
    }
   }
  }
 },
 "nbformat": 4,
 "nbformat_minor": 2,
 "cells": [
  {
   "cell_type": "code",
   "execution_count": 11,
   "metadata": {},
   "outputs": [
    {
     "output_type": "stream",
     "name": "stdout",
     "text": [
      "A,  ('B', 'C'),  {}\n"
     ]
    }
   ],
   "source": [
    "def f1(x, *args, **kwargs):\n",
    "    print(\"{},  {},  {}\".format(x, args, kwargs))\n",
    "\n",
    "f1('A', 'B', 'C')"
   ]
  },
  {
   "cell_type": "code",
   "execution_count": 12,
   "metadata": {},
   "outputs": [
    {
     "output_type": "stream",
     "name": "stdout",
     "text": [
      "A,  ('B', 'C', 'D', 'E'),  {'age': 24, 'gender': 'Female'}\n"
     ]
    }
   ],
   "source": [
    "from functools import partial\r\n",
    "\r\n",
    "f2 = partial(f1, 'A', 'B', age=24, gender='Female')\r\n",
    "f2('C', 'D', 'E')"
   ]
  },
  {
   "cell_type": "code",
   "execution_count": null,
   "metadata": {},
   "outputs": [],
   "source": []
  }
 ]
}