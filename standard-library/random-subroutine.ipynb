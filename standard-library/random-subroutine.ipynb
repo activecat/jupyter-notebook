{
 "metadata": {
  "language_info": {
   "codemirror_mode": {
    "name": "ipython",
    "version": 3
   },
   "file_extension": ".py",
   "mimetype": "text/x-python",
   "name": "python",
   "nbconvert_exporter": "python",
   "pygments_lexer": "ipython3",
   "version": "3.8.5"
  },
  "orig_nbformat": 2,
  "kernelspec": {
   "name": "python385jvsc74a57bd0bb3667d25cea75d97cf6022c2f0b36aa031e10f7f624bb8de31851975fb6818b",
   "display_name": "Python 3.8.5 64-bit"
  }
 },
 "nbformat": 4,
 "nbformat_minor": 2,
 "cells": [
  {
   "cell_type": "code",
   "execution_count": 1,
   "metadata": {},
   "outputs": [
    {
     "output_type": "stream",
     "name": "stdout",
     "text": [
      "function 5\nfunction 1\nfunction 1\nfunction 2\nfunction 3\n"
     ]
    }
   ],
   "source": [
    "# Question:\n",
    "#  I want to have 6 subroutines that are \n",
    "#  accessed by a random selection routine. \n",
    "\n",
    "# Solution:\n",
    "import random\n",
    "def f1(): return \"function 1\"\n",
    "def f2(): return \"function 2\"\n",
    "def f3(): return \"function 3\"\n",
    "def f4(): return \"function 4\"\n",
    "def f5(): return \"function 5\"\n",
    "def f6(): return \"function 6\"\n",
    "\n",
    "\n",
    "# Let's try this 5 times\n",
    "for x in range(5):\n",
    "    y = random.choice((f1,f2,f3,f4,f5,f6))\n",
    "    print(y())"
   ]
  },
  {
   "cell_type": "code",
   "execution_count": null,
   "metadata": {},
   "outputs": [],
   "source": []
  }
 ]
}