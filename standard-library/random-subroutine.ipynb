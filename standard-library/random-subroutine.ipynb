{
 "cells": [
  {
   "cell_type": "markdown",
   "metadata": {},
   "source": [
    "<h2>I want to have 6 subroutines that are accessed by a random selection routine. </h2>\n",
    "\n",
    "<h4>Sample codes:</h4>"
   ]
  },
  {
   "cell_type": "code",
   "execution_count": 1,
   "metadata": {},
   "outputs": [
    {
     "name": "stdout",
     "output_type": "stream",
     "text": [
      "function 5\n",
      "function 4\n",
      "function 2\n",
      "function 6\n",
      "function 3\n"
     ]
    }
   ],
   "source": [
    "import random\n",
    "def f1(): return \"function 1\"\n",
    "def f2(): return \"function 2\"\n",
    "def f3(): return \"function 3\"\n",
    "def f4(): return \"function 4\"\n",
    "def f5(): return \"function 5\"\n",
    "def f6(): return \"function 6\"\n",
    "\n",
    "\n",
    "# Let's try this 5 times\n",
    "for x in range(5):\n",
    "    y = random.choice((f1,f2,f3,f4,f5,f6))\n",
    "    print(y())"
   ]
  },
  {
   "cell_type": "code",
   "execution_count": null,
   "metadata": {},
   "outputs": [],
   "source": []
  }
 ],
 "metadata": {
  "kernelspec": {
   "display_name": "Python 3",
   "language": "python",
   "name": "python3"
  },
  "language_info": {
   "codemirror_mode": {
    "name": "ipython",
    "version": 3
   },
   "file_extension": ".py",
   "mimetype": "text/x-python",
   "name": "python",
   "nbconvert_exporter": "python",
   "pygments_lexer": "ipython3",
   "version": "3.8.8"
  }
 },
 "nbformat": 4,
 "nbformat_minor": 2
}
