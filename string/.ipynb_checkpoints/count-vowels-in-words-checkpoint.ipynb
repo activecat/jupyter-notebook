{
 "cells": [
  {
   "cell_type": "markdown",
   "metadata": {},
   "source": [
    "<h2>Objective: To count the number of vowels in each words, in a given sentence.</h2>"
   ]
  },
  {
   "cell_type": "code",
   "execution_count": 1,
   "metadata": {},
   "outputs": [],
   "source": [
    "# Let's count the vowels in this sentence.\n",
    "sentence = \"Hello fellow Pythonistas, let's come to this basic exercise.\""
   ]
  },
  {
   "cell_type": "code",
   "execution_count": 2,
   "metadata": {},
   "outputs": [
    {
     "name": "stdout",
     "output_type": "stream",
     "text": [
      "['Hello', 'fellow', 'Pythonistas', \"let's\", 'come', 'to', 'this', 'basic', 'exercise']\n"
     ]
    }
   ],
   "source": [
    "# Step 1). Split the sentence into words\n",
    "words = [ x.strip(',').strip('.') for x in sentence.split() ]\n",
    "print(words)"
   ]
  },
  {
   "cell_type": "code",
   "execution_count": 3,
   "metadata": {},
   "outputs": [
    {
     "name": "stdout",
     "output_type": "stream",
     "text": [
      "[2, 2, 3, 1, 2, 1, 1, 2, 4]\n"
     ]
    }
   ],
   "source": [
    "# Step 2). Count the number of vowels in each word.\n",
    "counts = [len([ x for x in y if x.lower() in ('a', 'e', 'i', 'o', 'u') ]) for y in words ]\n",
    "print(counts)"
   ]
  },
  {
   "cell_type": "code",
   "execution_count": 4,
   "metadata": {},
   "outputs": [
    {
     "data": {
      "text/plain": [
       "[('Hello', 2),\n",
       " ('fellow', 2),\n",
       " ('Pythonistas', 3),\n",
       " (\"let's\", 1),\n",
       " ('come', 2),\n",
       " ('to', 1),\n",
       " ('this', 1),\n",
       " ('basic', 2),\n",
       " ('exercise', 4)]"
      ]
     },
     "execution_count": 4,
     "metadata": {},
     "output_type": "execute_result"
    }
   ],
   "source": [
    "# To verify, manually check each word.\n",
    "list(zip(words, counts))"
   ]
  },
  {
   "cell_type": "markdown",
   "metadata": {},
   "source": [
    "<h2>Alternative solution:</h2>"
   ]
  },
  {
   "cell_type": "code",
   "execution_count": 5,
   "metadata": {},
   "outputs": [
    {
     "name": "stdout",
     "output_type": "stream",
     "text": [
      "[2, 2, 3, 1, 2, 1, 1, 2, 4]\n"
     ]
    }
   ],
   "source": [
    "def count(word):\n",
    "    output = 0\n",
    "    for x in word:\n",
    "        if x.lower() in ('a', 'e', 'i', 'o', 'u'):\n",
    "            output += 1\n",
    "    return output\n",
    "    # return [ x for x in word if x.lower() in ('a', 'e', 'i', 'o', 'u') ]\n",
    "\n",
    "vowels = [count(x) for x in words]\n",
    "print(vowels)"
   ]
  },
  {
   "cell_type": "code",
   "execution_count": null,
   "metadata": {},
   "outputs": [],
   "source": []
  }
 ],
 "metadata": {
  "kernelspec": {
   "display_name": "Python 3",
   "language": "python",
   "name": "python3"
  },
  "language_info": {
   "codemirror_mode": {
    "name": "ipython",
    "version": 3
   },
   "file_extension": ".py",
   "mimetype": "text/x-python",
   "name": "python",
   "nbconvert_exporter": "python",
   "pygments_lexer": "ipython3",
   "version": "3.8.8"
  }
 },
 "nbformat": 4,
 "nbformat_minor": 2
}
