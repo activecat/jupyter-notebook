{
 "cells": [
  {
   "cell_type": "code",
   "execution_count": 1,
   "metadata": {},
   "outputs": [],
   "source": [
    "# Question:  \n",
    "#  write a function which gets a sentence (string) and removes duplicate adjacent words\n",
    "sentence = \"You tell me you love me you love not him\""
   ]
  },
  {
   "cell_type": "code",
   "execution_count": 2,
   "metadata": {},
   "outputs": [
    {
     "name": "stdout",
     "output_type": "stream",
     "text": [
      "['you', 'tell', 'me', 'you', 'love', 'me', 'you', 'love', 'not', 'him']\n"
     ]
    }
   ],
   "source": [
    "# Solution\n",
    "# Step 1: Split the sentence into a list of words.\n",
    "words = [ x.lower() for x in sentence.split() ]\n",
    "print(words)"
   ]
  },
  {
   "cell_type": "code",
   "execution_count": 3,
   "metadata": {},
   "outputs": [
    {
     "name": "stdout",
     "output_type": "stream",
     "text": [
      "{'not', 'love', 'tell', 'him', 'me', 'you'}\n"
     ]
    }
   ],
   "source": [
    "# Step 2: Remove duplicate words\n",
    "print(set(words))"
   ]
  },
  {
   "cell_type": "code",
   "execution_count": 4,
   "metadata": {},
   "outputs": [
    {
     "name": "stdout",
     "output_type": "stream",
     "text": [
      "{'not': 1, 'love': 2, 'tell': 1, 'him': 1, 'me': 2, 'you': 3}\n"
     ]
    }
   ],
   "source": [
    "# Step 3: (Optional) Count the occurance of each word.\n",
    "print({ x: words.count(x) for x in set(words) })"
   ]
  },
  {
   "cell_type": "code",
   "execution_count": null,
   "metadata": {},
   "outputs": [],
   "source": []
  }
 ],
 "metadata": {
  "kernelspec": {
   "display_name": "Python 3",
   "language": "python",
   "name": "python3"
  },
  "language_info": {
   "codemirror_mode": {
    "name": "ipython",
    "version": 3
   },
   "file_extension": ".py",
   "mimetype": "text/x-python",
   "name": "python",
   "nbconvert_exporter": "python",
   "pygments_lexer": "ipython3",
   "version": "3.8.8"
  }
 },
 "nbformat": 4,
 "nbformat_minor": 2
}
