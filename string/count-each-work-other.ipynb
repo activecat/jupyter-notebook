{
 "metadata": {
  "language_info": {
   "codemirror_mode": {
    "name": "ipython",
    "version": 3
   },
   "file_extension": ".py",
   "mimetype": "text/x-python",
   "name": "python",
   "nbconvert_exporter": "python",
   "pygments_lexer": "ipython3",
   "version": "3.8.5"
  },
  "orig_nbformat": 2,
  "kernelspec": {
   "name": "python3",
   "display_name": "Python 3.8.5 64-bit",
   "metadata": {
    "interpreter": {
     "hash": "bb3667d25cea75d97cf6022c2f0b36aa031e10f7f624bb8de31851975fb6818b"
    }
   }
  }
 },
 "nbformat": 4,
 "nbformat_minor": 2,
 "cells": [
  {
   "cell_type": "code",
   "execution_count": 11,
   "metadata": {},
   "outputs": [
    {
     "output_type": "stream",
     "name": "stdout",
     "text": [
      "you said you love me love me not him\nyou said you love me love me not him\n"
     ]
    }
   ],
   "source": [
    "# Francesco Loffredo\n",
    "# My solution:\n",
    "sent1 = \"You said you love me, love me not him\"\n",
    "sent2 = \"You said you you you love me, love love me not him\"\n",
    "\n",
    "def rem_adj_dups(sentence):\n",
    "    snt = sentence.replace(',', '').lower().split()\n",
    "    res = [snt[0]]\n",
    "    for i, this in enumerate(snt[1:], 1):\n",
    "        if this != snt[i-1]:\n",
    "            res.append(this)\n",
    "    return \" \".join(res)\n",
    "\n",
    "print(rem_adj_dups(sent1))\n",
    "print(rem_adj_dups(sent2))"
   ]
  },
  {
   "cell_type": "code",
   "execution_count": null,
   "metadata": {},
   "outputs": [],
   "source": []
  }
 ]
}