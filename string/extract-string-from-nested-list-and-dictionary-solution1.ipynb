{
 "cells": [
  {
   "cell_type": "markdown",
   "id": "6c4f8e8d",
   "metadata": {},
   "source": [
    "<h4>Chowdary Danda asked a <a href=\"https://web.facebook.com/groups/softwareskill/permalink/2593570647618700/\">question</a></h4>\n",
    "<br>\n",
    "<code>l = [1, \"hello\", (1, 2,'hi',), {1:2, 'name':'venkat'}, {1, 2, 3}, [4, 5, 6, 'python']]</code>\n",
    "<pre>\n",
    "In this list i want to count howmany strings are there in l\n",
    "strings:'hello', 'hi', 'name', 'venkat', 'python'\n",
    "Total_string :5\n",
    "How to count?\n",
    "</pre>     "
   ]
  },
  {
   "cell_type": "code",
   "execution_count": 1,
   "id": "2397b9b8",
   "metadata": {},
   "outputs": [],
   "source": [
    "from functools import reduce\n",
    "l = [1, \"hello\", (2, 3,'hi',), {4:5}, {'name':'venkat'}, set([6,7,8]), [9, 10, 11, 'python']]"
   ]
  },
  {
   "cell_type": "code",
   "execution_count": 2,
   "id": "91a646c1",
   "metadata": {},
   "outputs": [],
   "source": [
    "# Solution 1\n",
    "\n",
    "def func2(s):\n",
    "    if type(s) == str:\n",
    "        return [s]\n",
    "    \n",
    "    elif type(s) == dict:\n",
    "        output = []\n",
    "        for key, value in s.items():\n",
    "            output += func2(key)\n",
    "            output += func2(value)\n",
    "        return output\n",
    "\n",
    "    elif type(s) in [list, tuple, set]:\n",
    "        return reduce(lambda a,b: a+b,  [func2(x) for x in s])\n",
    "        \n",
    "    return []"
   ]
  },
  {
   "cell_type": "code",
   "execution_count": 3,
   "id": "ef357699",
   "metadata": {},
   "outputs": [
    {
     "name": "stdout",
     "output_type": "stream",
     "text": [
      "Strings: ['hello', 'hi', 'name', 'venkat', 'python']\n",
      "There are 5 strings\n"
     ]
    }
   ],
   "source": [
    "result = func2(l)\n",
    "print(\"Strings:\", result)\n",
    "print(\"There are {} strings\".format(len(result)))"
   ]
  },
  {
   "cell_type": "code",
   "execution_count": 4,
   "id": "ea764f7a",
   "metadata": {},
   "outputs": [
    {
     "data": {
      "text/plain": [
       "['hello', 'hi', 'name', 'venkat', 'python']"
      ]
     },
     "execution_count": 4,
     "metadata": {},
     "output_type": "execute_result"
    }
   ],
   "source": [
    "# Solution 2\n",
    "\n",
    "import re\n",
    "re.findall(r'[a-zA-Z]+', str(l))"
   ]
  },
  {
   "cell_type": "code",
   "execution_count": 5,
   "id": "ab30277a",
   "metadata": {},
   "outputs": [
    {
     "name": "stdout",
     "output_type": "stream",
     "text": [
      "func2():  [1, 'hello', (2, 3, 'hi'), {4: 5}, {'name': 'venkat'}, {8, 6, 7}, [9, 10, 11, 'python']] <class 'list'>\n",
      "func2():  1 <class 'int'>\n",
      "** return [] because s = 1 <class 'int'>\n",
      "func2():  hello <class 'str'>\n",
      "** return ['hello'] <class 'list'>\n",
      "func2():  (2, 3, 'hi') <class 'tuple'>\n",
      "func2():  2 <class 'int'>\n",
      "** return [] because s = 2 <class 'int'>\n",
      "func2():  3 <class 'int'>\n",
      "** return [] because s = 3 <class 'int'>\n",
      "func2():  hi <class 'str'>\n",
      "** return ['hi'] <class 'list'>\n",
      "!! try to reduce: [[], [], ['hi']]\n",
      "## return ['hi'] <class 'list'>\n",
      "func2():  {4: 5} <class 'dict'>\n",
      "func2():  4 <class 'int'>\n",
      "** return [] because s = 4 <class 'int'>\n",
      "func2():  5 <class 'int'>\n",
      "** return [] because s = 5 <class 'int'>\n",
      "func2():  {'name': 'venkat'} <class 'dict'>\n",
      "func2():  name <class 'str'>\n",
      "** return ['name'] <class 'list'>\n",
      "func2():  venkat <class 'str'>\n",
      "** return ['venkat'] <class 'list'>\n",
      "func2():  {8, 6, 7} <class 'set'>\n",
      "func2():  8 <class 'int'>\n",
      "** return [] because s = 8 <class 'int'>\n",
      "func2():  6 <class 'int'>\n",
      "** return [] because s = 6 <class 'int'>\n",
      "func2():  7 <class 'int'>\n",
      "** return [] because s = 7 <class 'int'>\n",
      "!! try to reduce: [[], [], []]\n",
      "## return [] <class 'list'>\n",
      "func2():  [9, 10, 11, 'python'] <class 'list'>\n",
      "func2():  9 <class 'int'>\n",
      "** return [] because s = 9 <class 'int'>\n",
      "func2():  10 <class 'int'>\n",
      "** return [] because s = 10 <class 'int'>\n",
      "func2():  11 <class 'int'>\n",
      "** return [] because s = 11 <class 'int'>\n",
      "func2():  python <class 'str'>\n",
      "** return ['python'] <class 'list'>\n",
      "!! try to reduce: [[], [], [], ['python']]\n",
      "## return ['python'] <class 'list'>\n",
      "!! try to reduce: [[], ['hello'], ['hi'], [], ['name', 'venkat'], [], ['python']]\n",
      "## return ['hello', 'hi', 'name', 'venkat', 'python'] <class 'list'>\n"
     ]
    },
    {
     "data": {
      "text/plain": [
       "['hello', 'hi', 'name', 'venkat', 'python']"
      ]
     },
     "execution_count": 5,
     "metadata": {},
     "output_type": "execute_result"
    }
   ],
   "source": [
    "# Verbose version of solution 1\n",
    "def func3(s):\n",
    "    print(\"func2():  {} {}\".format(s, type(s)) )\n",
    "    \n",
    "    if type(s) == str:\n",
    "        output = [s]\n",
    "        print(\"** return {} {}\".format(output, type(output) ))\n",
    "        return output\n",
    "    \n",
    "    elif type(s) == dict:\n",
    "        output = []\n",
    "        for key, value in s.items():\n",
    "            output += func3(key)\n",
    "            output += func3(value)\n",
    "        return output\n",
    "    \n",
    "    elif type(s) in [list, tuple, set]:\n",
    "        ll = [func3(x) for x in s]\n",
    "        print(\"!! try to reduce:\", ll)\n",
    "        \n",
    "        output = reduce(lambda a,b: a+b, ll)\n",
    "        print(\"## return {} {}\".format(output, type(output)))\n",
    "        return output\n",
    "    \n",
    "    print(\"** return [] because s = {} {}\".format(s, type(s)))\n",
    "    return []\n",
    "\n",
    "func3(l)                "
   ]
  }
 ],
 "metadata": {
  "kernelspec": {
   "display_name": "Python 3",
   "language": "python",
   "name": "python3"
  },
  "language_info": {
   "codemirror_mode": {
    "name": "ipython",
    "version": 3
   },
   "file_extension": ".py",
   "mimetype": "text/x-python",
   "name": "python",
   "nbconvert_exporter": "python",
   "pygments_lexer": "ipython3",
   "version": "3.8.8"
  }
 },
 "nbformat": 4,
 "nbformat_minor": 5
}
