{
 "cells": [
  {
   "cell_type": "markdown",
   "id": "401886c1",
   "metadata": {},
   "source": [
    "<h4>Chowdary Danda asked a <a href=\"https://web.facebook.com/groups/softwareskill/permalink/2593570647618700/\">question</a></h4>\n",
    "<br>\n",
    "<code>l = [1, \"hello\", (1, 2,'hi',), {1:2, 'name':'venkat'}, {1, 2, 3}, [4, 5, 6, 'python']]</code>\n",
    "<pre>\n",
    "In this list i want to count howmany strings are there in l\n",
    "strings:'hello', 'hi', 'name', 'venkat', 'python'\n",
    "Total_string :5\n",
    "How to count?\n",
    "</pre>     "
   ]
  },
  {
   "cell_type": "code",
   "execution_count": 1,
   "id": "43b1b550",
   "metadata": {},
   "outputs": [],
   "source": [
    "l = [1, \"hello\", (2, 3,'hi',), {4:5}, {'name':'venkat'}, set([6,7,8]), [9, 10, 11, 'python']]"
   ]
  },
  {
   "cell_type": "code",
   "execution_count": 2,
   "id": "f936e700",
   "metadata": {},
   "outputs": [
    {
     "data": {
      "text/plain": [
       "['hello', 'hi', 'name', 'venkat', 'python']"
      ]
     },
     "execution_count": 2,
     "metadata": {},
     "output_type": "execute_result"
    }
   ],
   "source": [
    "# Solution 2\n",
    "import re\n",
    "re.findall(r'[a-zA-Z]+', str(l))"
   ]
  }
 ],
 "metadata": {
  "kernelspec": {
   "display_name": "Python 3",
   "language": "python",
   "name": "python3"
  },
  "language_info": {
   "codemirror_mode": {
    "name": "ipython",
    "version": 3
   },
   "file_extension": ".py",
   "mimetype": "text/x-python",
   "name": "python",
   "nbconvert_exporter": "python",
   "pygments_lexer": "ipython3",
   "version": "3.8.8"
  }
 },
 "nbformat": 4,
 "nbformat_minor": 5
}
