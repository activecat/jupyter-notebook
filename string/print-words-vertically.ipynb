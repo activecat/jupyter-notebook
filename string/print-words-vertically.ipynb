{
 "cells": [
  {
   "cell_type": "code",
   "execution_count": 1,
   "metadata": {},
   "outputs": [],
   "source": [
    "# Question: \n",
    "#  Given s = \"hello world python\",\n",
    "#  How to print like this \n",
    "#\n",
    "#    h   w   p\n",
    "#    e   o   y\n",
    "#    l   r   t\n",
    "#    l   l   h \n",
    "#    o   d   o\n",
    "#            n"
   ]
  },
  {
   "cell_type": "code",
   "execution_count": 2,
   "metadata": {},
   "outputs": [
    {
     "name": "stdout",
     "output_type": "stream",
     "text": [
      "6\n"
     ]
    }
   ],
   "source": [
    "# Step 1: Find the length of the longest word.\n",
    "s = \"hello world python\"\n",
    "l = s.split(' ')    # This obtains ['hello', 'world', 'python']\n",
    "lengths = [len(x) for x in s.split(' ')]  # This obtains [5, 5, 6]\n",
    "h = max(lengths)   # This obtains 6\n",
    "print(h)"
   ]
  },
  {
   "cell_type": "code",
   "execution_count": 3,
   "metadata": {},
   "outputs": [],
   "source": [
    "# Step 2: Define a function to return the desirable character.\n",
    "def get(i,j):\n",
    "    try:\n",
    "        return l[j][i]\n",
    "    except IndexError:\n",
    "        return ' '\n",
    "    # Above 4 lines are equivalent to:\n",
    "    #  return l[j][i] if j < len(l) and i < len(l[j]) else \" \""
   ]
  },
  {
   "cell_type": "code",
   "execution_count": 4,
   "metadata": {},
   "outputs": [
    {
     "name": "stdout",
     "output_type": "stream",
     "text": [
      "h  w  p  \n",
      "e  o  y  \n",
      "l  r  t  \n",
      "l  l  h  \n",
      "o  d  o  \n",
      "      n  \n"
     ]
    }
   ],
   "source": [
    "# Step 3: Invoke above function in a nested loops\n",
    "for i in range(h):\n",
    "    for j in range(len(l)):\n",
    "        print(\"{}\".format(get(i,j)), end='  ')\n",
    "    print()"
   ]
  },
  {
   "cell_type": "code",
   "execution_count": 5,
   "metadata": {},
   "outputs": [
    {
     "name": "stdout",
     "output_type": "stream",
     "text": [
      "I   a   g   t   s   t   \n",
      "    m   o   o   c   o   \n",
      "        i       h   m   \n",
      "        n       o   o   \n",
      "        g       o   r   \n",
      "                l   r   \n",
      "                    o   \n",
      "                    w   \n"
     ]
    }
   ],
   "source": [
    "# To put everything into a function\n",
    "def print2(sentence):\n",
    "    words = sentence.split(' ')\n",
    "    highest = max([len(x) for x in words])\n",
    "    \n",
    "    def get(i,j):\n",
    "        try: return words[j][i]\n",
    "        except IndexError: return ' '\n",
    "\n",
    "    for i in range(highest):\n",
    "        for j in range(len(words)):\n",
    "            print(\"{}\".format(get(i,j)), end='   ')\n",
    "        print()\n",
    "\n",
    "# To test the function\n",
    "print2(\"I am going to school tomorrow\")"
   ]
  },
  {
   "cell_type": "code",
   "execution_count": 6,
   "metadata": {},
   "outputs": [
    {
     "name": "stdout",
     "output_type": "stream",
     "text": [
      "I   a   g   t   s   t   \n",
      "    m   o   o   c   o   \n",
      "        i       h   m   \n",
      "        n       o   o   \n",
      "        g       o   r   \n",
      "                l   r   \n",
      "                    o   \n",
      "                    w   \n"
     ]
    }
   ],
   "source": [
    "# Proposed by Francesco Loffredo:  iterools.zip_longest()\n",
    "from itertools import zip_longest\n",
    "sentence = \"I am going to school tomorrow\"\n",
    "words = sentence.split()\n",
    "for these in zip_longest(*words, fillvalue=' '):\n",
    "    for c in these:\n",
    "        print(c, end='   ')\n",
    "    print()"
   ]
  },
  {
   "cell_type": "code",
   "execution_count": null,
   "metadata": {},
   "outputs": [],
   "source": []
  }
 ],
 "metadata": {
  "kernelspec": {
   "display_name": "Python 3",
   "language": "python",
   "name": "python3"
  },
  "language_info": {
   "codemirror_mode": {
    "name": "ipython",
    "version": 3
   },
   "file_extension": ".py",
   "mimetype": "text/x-python",
   "name": "python",
   "nbconvert_exporter": "python",
   "pygments_lexer": "ipython3",
   "version": "3.8.8"
  }
 },
 "nbformat": 4,
 "nbformat_minor": 2
}
