{
 "cells": [
  {
   "cell_type": "markdown",
   "id": "78a4b22b",
   "metadata": {},
   "source": [
    "<h4>Question</h4>\n",
    "<p>I have tested that <code>\"HaHaHaHa\".count(\"aHa\")</code> returns a value of <code>2</code>. <br>\n",
    "    What if I would like to count it as 3 ?\n",
    "</p>"
   ]
  },
  {
   "cell_type": "code",
   "execution_count": 1,
   "id": "4aab5651",
   "metadata": {},
   "outputs": [
    {
     "name": "stdout",
     "output_type": "stream",
     "text": [
      " At position 2\n",
      " At position 4\n",
      " At position 6\n",
      "Total occurance: 3\n"
     ]
    }
   ],
   "source": [
    "# Solution 1:\n",
    "\n",
    "mystring = \"HaHaHaHa\"\n",
    "pattern = \"aHa\"\n",
    "\n",
    "count = 0\n",
    "for i in range(len(mystring)):\n",
    "    if mystring.startswith(pattern, i):\n",
    "        print(\" At position\", i+1)\n",
    "        count += 1\n",
    "\n",
    "print(\"Total occurance:\", count)"
   ]
  },
  {
   "cell_type": "code",
   "execution_count": 2,
   "id": "83687101",
   "metadata": {},
   "outputs": [
    {
     "name": "stdout",
     "output_type": "stream",
     "text": [
      "['aHa', 'aHa', 'aHa']\n",
      "The count is 3\n"
     ]
    }
   ],
   "source": [
    "# Solution 2:\n",
    "\n",
    "import re\n",
    "x = re.findall('(?=(aHa))', mystring)\n",
    "\n",
    "print(x)\n",
    "print(\"The count is\", len(x))"
   ]
  }
 ],
 "metadata": {
  "kernelspec": {
   "display_name": "Python 3",
   "language": "python",
   "name": "python3"
  },
  "language_info": {
   "codemirror_mode": {
    "name": "ipython",
    "version": 3
   },
   "file_extension": ".py",
   "mimetype": "text/x-python",
   "name": "python",
   "nbconvert_exporter": "python",
   "pygments_lexer": "ipython3",
   "version": "3.8.8"
  }
 },
 "nbformat": 4,
 "nbformat_minor": 5
}
