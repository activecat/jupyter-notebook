{
 "cells": [
  {
   "cell_type": "markdown",
   "id": "7aac0ff9",
   "metadata": {},
   "source": [
    "<img src=\"startswith2.jpg\">"
   ]
  },
  {
   "cell_type": "code",
   "execution_count": 1,
   "id": "d2f52ea6",
   "metadata": {},
   "outputs": [
    {
     "name": "stdout",
     "output_type": "stream",
     "text": [
      " At position 2\n",
      " At position 4\n",
      " At position 6\n",
      "Total occurance: 3\n"
     ]
    }
   ],
   "source": [
    "mystring = \"HaHaHaHa\"\n",
    "pattern = \"aHa\"\n",
    "\n",
    "count = 0\n",
    "for i in range(len(mystring)):\n",
    "    if mystring.startswith(pattern, i):\n",
    "        print(\" At position\", i+1)\n",
    "        count += 1\n",
    "\n",
    "print(\"Total occurance:\", count)"
   ]
  }
 ],
 "metadata": {
  "kernelspec": {
   "display_name": "Python 3",
   "language": "python",
   "name": "python3"
  },
  "language_info": {
   "codemirror_mode": {
    "name": "ipython",
    "version": 3
   },
   "file_extension": ".py",
   "mimetype": "text/x-python",
   "name": "python",
   "nbconvert_exporter": "python",
   "pygments_lexer": "ipython3",
   "version": "3.8.8"
  }
 },
 "nbformat": 4,
 "nbformat_minor": 5
}
