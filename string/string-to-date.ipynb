{
 "cells": [
  {
   "cell_type": "markdown",
   "id": "5e7dba73",
   "metadata": {},
   "source": [
    "<pre>\n",
    "Harsh Raj shared his first <a href=\"https://web.facebook.com/groups/pythonsnake/posts/5975553362462361\">post</a>:<br>\n",
    "Hello Guys\n",
    "Stuck in a situation where\n",
    "\n",
    "  x=\"05 h : 27 m : 59 s\"\n",
    "  y=\"052759\" # I want this as output or\n",
    "  z=052759   # this as output\n",
    "\n",
    "Please help me\n",
    "</pre>"
   ]
  },
  {
   "cell_type": "code",
   "execution_count": 2,
   "id": "966422f4",
   "metadata": {},
   "outputs": [
    {
     "name": "stdout",
     "output_type": "stream",
     "text": [
      "['05', '27', '59'] <class 'list'>\n"
     ]
    }
   ],
   "source": [
    "import re\n",
    "x = \"05 h : 27 m : 59 s\"\n",
    "\n",
    "# Step 1: Extract the numbers\n",
    "import re\n",
    "ll =  re.findall(r'\\d+', x)\n",
    "print(ll, type(ll))"
   ]
  },
  {
   "cell_type": "code",
   "execution_count": 3,
   "id": "634b5fbe",
   "metadata": {},
   "outputs": [
    {
     "name": "stdout",
     "output_type": "stream",
     "text": [
      "052759\n"
     ]
    }
   ],
   "source": [
    "# Step 2:  Join the numbers\n",
    "y = ''.join(ll)\n",
    "print(y)"
   ]
  }
 ],
 "metadata": {
  "kernelspec": {
   "display_name": "Python 3",
   "language": "python",
   "name": "python3"
  },
  "language_info": {
   "codemirror_mode": {
    "name": "ipython",
    "version": 3
   },
   "file_extension": ".py",
   "mimetype": "text/x-python",
   "name": "python",
   "nbconvert_exporter": "python",
   "pygments_lexer": "ipython3",
   "version": "3.8.8"
  }
 },
 "nbformat": 4,
 "nbformat_minor": 5
}
