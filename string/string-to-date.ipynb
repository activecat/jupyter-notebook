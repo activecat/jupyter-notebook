{
 "cells": [
  {
   "cell_type": "markdown",
   "id": "32d4e3ce",
   "metadata": {},
   "source": [
    "<pre>\n",
    "Harsh Raj shared his first <a href=\"https://web.facebook.com/groups/pythonsnake/posts/5975553362462361\">post</a>:<br>\n",
    "Hello Guys\n",
    "Stuck in a situation where\n",
    "\n",
    "  x=\"05 h : 27 m : 59 s\"\n",
    "  y=\"052759\" # I want this as output or\n",
    "  z=052759   # this as output\n",
    "\n",
    "Please help me\n",
    "</pre>"
   ]
  },
  {
   "cell_type": "code",
   "execution_count": 1,
   "id": "e23cb47d",
   "metadata": {},
   "outputs": [
    {
     "name": "stdout",
     "output_type": "stream",
     "text": [
      "['05', '27', '59'] <class 'list'>\n"
     ]
    }
   ],
   "source": [
    "x = \"05 h : 27 m : 59 s\"\n",
    "\n",
    "# Step 1: Extract the numbers\n",
    "import re\n",
    "ll =  re.findall(r'\\d+', x)\n",
    "print(ll, type(ll))"
   ]
  },
  {
   "cell_type": "code",
   "execution_count": 2,
   "id": "b1e4b943",
   "metadata": {},
   "outputs": [
    {
     "name": "stdout",
     "output_type": "stream",
     "text": [
      "052759\n"
     ]
    }
   ],
   "source": [
    "# Step 2:  Join the numbers\n",
    "y = ''.join(ll)\n",
    "print(y)"
   ]
  },
  {
   "cell_type": "code",
   "execution_count": 3,
   "id": "45fb2e1a",
   "metadata": {},
   "outputs": [
    {
     "data": {
      "text/plain": [
       "'052759'"
      ]
     },
     "execution_count": 3,
     "metadata": {},
     "output_type": "execute_result"
    }
   ],
   "source": [
    "# Or, in just one line:\n",
    "''.join(re.findall(r'\\d+', \"05 h : 27 m : 59 s\"))"
   ]
  },
  {
   "cell_type": "markdown",
   "id": "c21f3c90",
   "metadata": {},
   "source": [
    "### Alternative 1: Using List Comprehension"
   ]
  },
  {
   "cell_type": "code",
   "execution_count": 4,
   "id": "0cb9ed2c",
   "metadata": {},
   "outputs": [
    {
     "data": {
      "text/plain": [
       "'052759'"
      ]
     },
     "execution_count": 4,
     "metadata": {},
     "output_type": "execute_result"
    }
   ],
   "source": [
    "word = \"05 h : 27 m : 59 s\"\n",
    "''.join(x for x in word if x.isnumeric())"
   ]
  },
  {
   "cell_type": "markdown",
   "id": "fa6fbe3c",
   "metadata": {},
   "source": [
    "### Alternative 2: Using reduce()"
   ]
  },
  {
   "cell_type": "code",
   "execution_count": 5,
   "id": "d2678f48",
   "metadata": {},
   "outputs": [
    {
     "data": {
      "text/plain": [
       "'052759'"
      ]
     },
     "execution_count": 5,
     "metadata": {},
     "output_type": "execute_result"
    }
   ],
   "source": [
    "from functools import reduce\n",
    "word = \"05 h : 27 m : 59 s\"\n",
    "reduce(lambda x,y: x+y if y.isnumeric() else x, word)"
   ]
  },
  {
   "cell_type": "markdown",
   "id": "082152a9",
   "metadata": {},
   "source": [
    "### Alternative 3: Using filter()"
   ]
  },
  {
   "cell_type": "code",
   "execution_count": 6,
   "id": "da4cec98",
   "metadata": {},
   "outputs": [
    {
     "data": {
      "text/plain": [
       "'052759'"
      ]
     },
     "execution_count": 6,
     "metadata": {},
     "output_type": "execute_result"
    }
   ],
   "source": [
    "word = \"05 h : 27 m : 59 s\"\n",
    "\n",
    "# Using functools.filter()\n",
    "''.join(filter(lambda x: x.isnumeric(), word))"
   ]
  },
  {
   "cell_type": "markdown",
   "id": "7e159fc4",
   "metadata": {},
   "source": [
    "### Alternative 4: Using map()"
   ]
  },
  {
   "cell_type": "code",
   "execution_count": 7,
   "id": "79b53df9",
   "metadata": {},
   "outputs": [
    {
     "data": {
      "text/plain": [
       "['0', '5', '', '', '', '', '', '2', '7', '', '', '', '', '', '5', '9', '', '']"
      ]
     },
     "execution_count": 7,
     "metadata": {},
     "output_type": "execute_result"
    }
   ],
   "source": [
    "word = \"05 h : 27 m : 59 s\"\n",
    "\n",
    "list(map(lambda x: x if x.isnumeric() else '', word))"
   ]
  },
  {
   "cell_type": "code",
   "execution_count": 8,
   "id": "78d28a3f",
   "metadata": {},
   "outputs": [
    {
     "data": {
      "text/plain": [
       "'052759'"
      ]
     },
     "execution_count": 8,
     "metadata": {},
     "output_type": "execute_result"
    }
   ],
   "source": [
    "''.join(map(lambda x: x if x.isnumeric() else '', word))"
   ]
  }
 ],
 "metadata": {
  "kernelspec": {
   "display_name": "Python 3",
   "language": "python",
   "name": "python3"
  },
  "language_info": {
   "codemirror_mode": {
    "name": "ipython",
    "version": 3
   },
   "file_extension": ".py",
   "mimetype": "text/x-python",
   "name": "python",
   "nbconvert_exporter": "python",
   "pygments_lexer": "ipython3",
   "version": "3.8.8"
  }
 },
 "nbformat": 4,
 "nbformat_minor": 5
}
