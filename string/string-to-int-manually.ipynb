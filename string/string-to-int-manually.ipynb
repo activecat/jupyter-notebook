{
 "cells": [
  {
   "cell_type": "markdown",
   "id": "6819a807",
   "metadata": {},
   "source": [
    "### Iyey Ponce asked a question\n",
    "\n",
    "Hello Guys! I hope you could help me with this one:\n",
    "\n",
    "So, I have a list of numbers but they are actually in string format. I would like to know how to convert it to integers without using the int() function? \n",
    "\n",
    "What I would like to do is I wanted to break the numbers like this : if it is 58, then output should be 50 + 8 using a map function. Is that possible?\n",
    "\n",
    "EG :\n",
    "lst1 = ['74', '58', '69']\n",
    "output should be : '70 + 4 = 74', '50 + 8 = 58', '60 + 9 = 69'\n",
    "\n",
    "Thank you so much!"
   ]
  },
  {
   "cell_type": "markdown",
   "id": "6a4c7bb2",
   "metadata": {},
   "source": [
    "### Solution:"
   ]
  },
  {
   "cell_type": "code",
   "execution_count": 1,
   "id": "da9e284d",
   "metadata": {},
   "outputs": [],
   "source": [
    "def func3(x):\n",
    "    return list(reversed([y + '0' * i for i,y in enumerate(reversed(str(x)))]))"
   ]
  },
  {
   "cell_type": "code",
   "execution_count": 2,
   "id": "57c34aa7",
   "metadata": {},
   "outputs": [
    {
     "data": {
      "text/plain": [
       "['400', '50', '6']"
      ]
     },
     "execution_count": 2,
     "metadata": {},
     "output_type": "execute_result"
    }
   ],
   "source": [
    "# Test\n",
    "func3(456)"
   ]
  },
  {
   "cell_type": "code",
   "execution_count": 3,
   "id": "65c5082a",
   "metadata": {},
   "outputs": [],
   "source": [
    "def func4(x):\n",
    "    ll = reversed([y + '0' * i for i,y in enumerate(reversed(str(x)))])  # <-- Copied from above function().\n",
    "    return ' + '.join(ll) + ' = ' + str(x)"
   ]
  },
  {
   "cell_type": "code",
   "execution_count": 4,
   "id": "83184984",
   "metadata": {},
   "outputs": [
    {
     "data": {
      "text/plain": [
       "'400 + 50 + 6 = 456'"
      ]
     },
     "execution_count": 4,
     "metadata": {},
     "output_type": "execute_result"
    }
   ],
   "source": [
    "# Test\n",
    "func4(456)"
   ]
  },
  {
   "cell_type": "code",
   "execution_count": 5,
   "id": "44aeae4c",
   "metadata": {},
   "outputs": [
    {
     "data": {
      "text/plain": [
       "['70 + 4 = 74', '50 + 8 = 58', '60 + 9 = 69']"
      ]
     },
     "execution_count": 5,
     "metadata": {},
     "output_type": "execute_result"
    }
   ],
   "source": [
    "# To apply the solution:\n",
    "\n",
    "lst1 = [ 74, 58, 69 ]\n",
    "[func4(x) for x in lst1]"
   ]
  },
  {
   "cell_type": "code",
   "execution_count": null,
   "id": "ee56d9ea",
   "metadata": {},
   "outputs": [],
   "source": [
    "### Solution by Francesco:"
   ]
  },
  {
   "cell_type": "code",
   "execution_count": 11,
   "id": "536779d4",
   "metadata": {},
   "outputs": [
    {
     "data": {
      "text/plain": [
       "[74, 58, 69]"
      ]
     },
     "execution_count": 11,
     "metadata": {},
     "output_type": "execute_result"
    }
   ],
   "source": [
    "def myInt(myStr):\n",
    "    myStr = str(myStr)\n",
    "    O = ord(\"0\")\n",
    "    L = len(myStr)\n",
    "    V = 0\n",
    "    for i in range(L):\n",
    "        V += (ord(myStr[i]) - O) * (10 **(L - i - 1))\n",
    "    return V\n",
    "\n",
    "lst1 = [ 74, 58, 69 ]\n",
    "list(map(myInt, lst1))"
   ]
  }
 ],
 "metadata": {
  "kernelspec": {
   "display_name": "Python 3",
   "language": "python",
   "name": "python3"
  },
  "language_info": {
   "codemirror_mode": {
    "name": "ipython",
    "version": 3
   },
   "file_extension": ".py",
   "mimetype": "text/x-python",
   "name": "python",
   "nbconvert_exporter": "python",
   "pygments_lexer": "ipython3",
   "version": "3.8.8"
  }
 },
 "nbformat": 4,
 "nbformat_minor": 5
}
