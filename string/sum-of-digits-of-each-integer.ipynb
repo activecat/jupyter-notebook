{
 "metadata": {
  "language_info": {
   "codemirror_mode": {
    "name": "ipython",
    "version": 3
   },
   "file_extension": ".py",
   "mimetype": "text/x-python",
   "name": "python",
   "nbconvert_exporter": "python",
   "pygments_lexer": "ipython3",
   "version": "3.8.5"
  },
  "orig_nbformat": 2,
  "kernelspec": {
   "name": "python385jvsc74a57bd0bb3667d25cea75d97cf6022c2f0b36aa031e10f7f624bb8de31851975fb6818b",
   "display_name": "Python 3.8.5 64-bit"
  }
 },
 "nbformat": 4,
 "nbformat_minor": 2,
 "cells": [
  {
   "cell_type": "code",
   "execution_count": 1,
   "metadata": {},
   "outputs": [],
   "source": [
    "# Question:\n",
    "#  Write a program for the given requirement:\n",
    "#\n",
    "#   input = [ 12, 23, 34, 45, 56, 67, 78, 89, 123, 456, 789, 1234, 5678, 12345, 67890 ]\n",
    "#   output = [3, 5, 7, 9, 11, 13, 15, 17, 6, 15, 24, 10, 26, 15, 30]\n",
    "#\n",
    "#   The output is the sum of individual digits of input."
   ]
  },
  {
   "cell_type": "code",
   "execution_count": 2,
   "metadata": {},
   "outputs": [
    {
     "output_type": "stream",
     "name": "stdout",
     "text": [
      "[['1', '2'], ['2', '3'], ['3', '4'], ['4', '5'], ['5', '6'], ['6', '7'], ['7', '8'], ['8', '9'], ['1', '2', '3'], ['4', '5', '6'], ['7', '8', '9'], ['1', '2', '3', '4'], ['5', '6', '7', '8'], ['1', '2', '3', '4', '5'], ['6', '7', '8', '9', '0']]\n"
     ]
    }
   ],
   "source": [
    "input = [ 12, 23, 34, 45, 56, 67, 78, 89, 123, 456, 789, 1234, 5678, 12345, 67890 ]\n",
    "list2 = [list(str(x)) for x in input]\n",
    "print(list2)"
   ]
  },
  {
   "cell_type": "code",
   "execution_count": 3,
   "metadata": {},
   "outputs": [
    {
     "output_type": "execute_result",
     "data": {
      "text/plain": [
       "[3, 5, 7, 9, 11, 13, 15, 17, 6, 15, 24, 10, 26, 15, 30]"
      ]
     },
     "metadata": {},
     "execution_count": 3
    }
   ],
   "source": [
    "# Solution A:\n",
    "[sum([int(x) for x in y]) for y in list2]"
   ]
  },
  {
   "cell_type": "code",
   "execution_count": 4,
   "metadata": {},
   "outputs": [
    {
     "output_type": "execute_result",
     "data": {
      "text/plain": [
       "[3, 5, 7, 9, 11, 13, 15, 17, 6, 15, 24, 10, 26, 15, 30]"
      ]
     },
     "metadata": {},
     "execution_count": 4
    }
   ],
   "source": [
    "# Solution B:\n",
    "[ sum(map(int, x)) for x in list2 ]"
   ]
  },
  {
   "cell_type": "code",
   "execution_count": 5,
   "metadata": {},
   "outputs": [
    {
     "output_type": "execute_result",
     "data": {
      "text/plain": [
       "[1, 2, 3]"
      ]
     },
     "metadata": {},
     "execution_count": 5
    }
   ],
   "source": [
    "# Testing 123:\n",
    "list(map(int, [ '1', '2', '3' ]))"
   ]
  }
 ]
}