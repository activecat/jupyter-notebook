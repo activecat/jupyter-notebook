{
 "metadata": {
  "language_info": {
   "codemirror_mode": {
    "name": "ipython",
    "version": 3
   },
   "file_extension": ".py",
   "mimetype": "text/x-python",
   "name": "python",
   "nbconvert_exporter": "python",
   "pygments_lexer": "ipython3",
   "version": "3.8.5"
  },
  "orig_nbformat": 2,
  "kernelspec": {
   "name": "python385jvsc74a57bd0bb3667d25cea75d97cf6022c2f0b36aa031e10f7f624bb8de31851975fb6818b",
   "display_name": "Python 3.8.5 64-bit"
  }
 },
 "nbformat": 4,
 "nbformat_minor": 2,
 "cells": [
  {
   "cell_type": "code",
   "execution_count": 1,
   "metadata": {},
   "outputs": [],
   "source": [
    "# Objective:\n",
    "#  Hi, I need some help. Im not finding a answer on Google.\n",
    "#  I want to ask the user to input a name. And then return a list of surnames + the name. How would such a code look?\n",
    "#  Example\n",
    "#    Input : jack\n",
    "#    Output : jack Michaels, jack Newman, jack Johnson"
   ]
  },
  {
   "cell_type": "code",
   "execution_count": 1,
   "metadata": {},
   "outputs": [
    {
     "output_type": "stream",
     "name": "stdout",
     "text": [
      "['Jack Michaels', 'Jack Newman', 'Jack Johnson']\n"
     ]
    }
   ],
   "source": [
    "# Solution:\n",
    "surnames = \"Michaels Newman Johnson\"\n",
    "input = \"Jack\"\n",
    "\n",
    "# Output:\n",
    "print([ '{} {}'.format(input, x) for x in surnames.split() ])"
   ]
  },
  {
   "cell_type": "code",
   "execution_count": null,
   "metadata": {},
   "outputs": [],
   "source": []
  }
 ]
}