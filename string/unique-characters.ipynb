{
 "metadata": {
  "language_info": {
   "codemirror_mode": {
    "name": "ipython",
    "version": 3
   },
   "file_extension": ".py",
   "mimetype": "text/x-python",
   "name": "python",
   "nbconvert_exporter": "python",
   "pygments_lexer": "ipython3",
   "version": "3.8.5"
  },
  "orig_nbformat": 2,
  "kernelspec": {
   "name": "python3",
   "display_name": "Python 3.8.5 64-bit",
   "metadata": {
    "interpreter": {
     "hash": "bb3667d25cea75d97cf6022c2f0b36aa031e10f7f624bb8de31851975fb6818b"
    }
   }
  }
 },
 "nbformat": 4,
 "nbformat_minor": 2,
 "cells": [
  {
   "cell_type": "code",
   "execution_count": 1,
   "metadata": {},
   "outputs": [],
   "source": [
    "# Question: Find which characters occur in the input.\n",
    "input = \"Canada\"\n",
    "\n"
   ]
  },
  {
   "cell_type": "code",
   "execution_count": 2,
   "metadata": {},
   "outputs": [
    {
     "output_type": "stream",
     "name": "stdout",
     "text": [
      "ll = ['c', 'a', 'n', 'a', 'd', 'a']\noutput = {'d', 'a', 'c', 'n'}\nThe unique characters are 'dacn'\n"
     ]
    }
   ],
   "source": [
    "# Solution A:\n",
    "ll = [x.lower() for x in input]\n",
    "print(\"ll =\", ll)\n",
    "\n",
    "output = set(ll)\n",
    "print (\"output =\", output)\n",
    "\n",
    "print(\"The unique characters are '{}'\".format(\"\".join(output)))"
   ]
  },
  {
   "cell_type": "code",
   "execution_count": 3,
   "metadata": {},
   "outputs": [
    {
     "output_type": "stream",
     "name": "stdout",
     "text": [
      "The unique characters are 'cand'\n"
     ]
    }
   ],
   "source": [
    "# Solution B:\n",
    "input = \"Canada\"\n",
    "output = []\n",
    "for x in input.lower():\n",
    "    if x not in output:\n",
    "        output.append(x)\n",
    "\n",
    "print(\"The unique characters are '{}'\".format(\"\".join(output)))"
   ]
  }
 ]
}