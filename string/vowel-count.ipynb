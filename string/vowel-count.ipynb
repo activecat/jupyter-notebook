{
 "metadata": {
  "language_info": {
   "codemirror_mode": {
    "name": "ipython",
    "version": 3
   },
   "file_extension": ".py",
   "mimetype": "text/x-python",
   "name": "python",
   "nbconvert_exporter": "python",
   "pygments_lexer": "ipython3",
   "version": "3.8.5"
  },
  "orig_nbformat": 2,
  "kernelspec": {
   "name": "python3",
   "display_name": "Python 3.8.5 64-bit",
   "metadata": {
    "interpreter": {
     "hash": "bb3667d25cea75d97cf6022c2f0b36aa031e10f7f624bb8de31851975fb6818b"
    }
   }
  }
 },
 "nbformat": 4,
 "nbformat_minor": 2,
 "cells": [
  {
   "cell_type": "code",
   "execution_count": 1,
   "metadata": {},
   "outputs": [],
   "source": [
    "# Question: Count the number of vowels of each words in the sentence.\n",
    "sentence = \"Hello fellow Pythonistas, let's come to this basic exercise.\""
   ]
  },
  {
   "cell_type": "code",
   "execution_count": 2,
   "metadata": {},
   "outputs": [
    {
     "output_type": "stream",
     "name": "stdout",
     "text": [
      "['Hello', 'fellow', 'Pythonistas', \"let's\", 'come', 'to', 'this', 'basic', 'exercise']\n"
     ]
    }
   ],
   "source": [
    "# Solution:\n",
    "words = [ x.strip(',').strip('.') for x in sentence.split() ]\n",
    "print(words)"
   ]
  },
  {
   "cell_type": "code",
   "execution_count": 3,
   "metadata": {},
   "outputs": [
    {
     "output_type": "stream",
     "name": "stdout",
     "text": [
      "[2, 2, 3, 1, 2, 1, 1, 2, 4]\n"
     ]
    }
   ],
   "source": [
    "counts = [len([ x for x in y if x.lower() in ('a', 'e', 'i', 'o', 'u') ]) for y in words ]\n",
    "print(counts)"
   ]
  },
  {
   "cell_type": "code",
   "execution_count": 4,
   "metadata": {},
   "outputs": [
    {
     "output_type": "execute_result",
     "data": {
      "text/plain": [
       "[('Hello', 2),\n",
       " ('fellow', 2),\n",
       " ('Pythonistas', 3),\n",
       " (\"let's\", 1),\n",
       " ('come', 2),\n",
       " ('to', 1),\n",
       " ('this', 1),\n",
       " ('basic', 2),\n",
       " ('exercise', 4)]"
      ]
     },
     "metadata": {},
     "execution_count": 4
    }
   ],
   "source": [
    "# To show the number of vowels of each word:\n",
    "list(zip(words, counts))"
   ]
  },
  {
   "cell_type": "code",
   "execution_count": 6,
   "metadata": {},
   "outputs": [
    {
     "output_type": "stream",
     "name": "stdout",
     "text": [
      "[2, 2, 3, 1, 2, 1, 1, 2, 4]\n"
     ]
    }
   ],
   "source": [
    "def count(word):\n",
    "    output = 0\n",
    "    for x in word:\n",
    "        if x.lower() in ('a', 'e', 'i', 'o', 'u'):\n",
    "            output += 1\n",
    "    return output\n",
    "    # return [ x for x in word if x.lower() in ('a', 'e', 'i', 'o', 'u') ]\n",
    "\n",
    "vowels = [count(x) for x in words]\n",
    "print(vowels)"
   ]
  },
  {
   "cell_type": "code",
   "execution_count": null,
   "metadata": {},
   "outputs": [],
   "source": []
  }
 ]
}