{
 "metadata": {
  "language_info": {
   "codemirror_mode": {
    "name": "ipython",
    "version": 3
   },
   "file_extension": ".py",
   "mimetype": "text/x-python",
   "name": "python",
   "nbconvert_exporter": "python",
   "pygments_lexer": "ipython3",
   "version": "3.8.5"
  },
  "orig_nbformat": 2,
  "kernelspec": {
   "name": "python3",
   "display_name": "Python 3.8.5 64-bit",
   "metadata": {
    "interpreter": {
     "hash": "bb3667d25cea75d97cf6022c2f0b36aa031e10f7f624bb8de31851975fb6818b"
    }
   }
  }
 },
 "nbformat": 4,
 "nbformat_minor": 2,
 "cells": [
  {
   "cell_type": "code",
   "execution_count": 1,
   "metadata": {},
   "outputs": [
    {
     "output_type": "stream",
     "name": "stdout",
     "text": [
      "words = ['the', 'most', 'amazing', 'sentence', 'the', 'most', 'frequently', 'seen', 'word', 'the', 'best', 'answer']\nll = {'sentence': 1, 'most': 2, 'word': 1, 'frequently': 1, 'seen': 1, 'the': 3, 'answer': 1, 'best': 1, 'amazing': 1}\n"
     ]
    },
    {
     "output_type": "execute_result",
     "data": {
      "text/plain": [
       "'the'"
      ]
     },
     "metadata": {},
     "execution_count": 1
    }
   ],
   "source": [
    "# Question: Count the occurance of each word in below sentence.\n",
    "sentence = \"The most amazing sentence the most frequently seen word the best answer\"\n",
    "\n",
    "# 1). Count each word\n",
    "words = sentence.lower().split()\n",
    "print(\"words =\", words)\n",
    "ll = {x: words.count(x) for x in set(words)}\n",
    "print(\"ll =\", ll)\n",
    "\n",
    "# 2). Sort the dictionary by its value.\n",
    "{k:v for k,v in sorted(ll.items(), key=lambda x:x[1], reverse=True)}\n",
    "\n",
    "# 3). Try another way:\n",
    "max(words, key=words.count)"
   ]
  }
 ]
}