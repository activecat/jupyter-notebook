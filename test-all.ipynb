{
 "cells": [
  {
   "cell_type": "code",
   "execution_count": 1,
   "metadata": {},
   "outputs": [
    {
     "name": "stdout",
     "output_type": "stream",
     "text": [
      "array2 = ['Afrika', 'Europe']\n"
     ]
    }
   ],
   "source": [
    "# Question: \n",
    "#  Give an example about storing values to an array using constructor in a class.\n",
    "\n",
    "array2 = []\n",
    "\n",
    "class Foo:\n",
    "    def __init__(self, x):  # Constructor\n",
    "        array2.append(x)    # Storing value into array\n",
    "\n",
    "f1 = Foo(\"Afrika\")\n",
    "f2 = Foo(\"Europe\")\n",
    "\n",
    "print(\"array2 =\", array2)"
   ]
  },
  {
   "cell_type": "code",
   "execution_count": 2,
   "metadata": {},
   "outputs": [
    {
     "data": {
      "text/plain": [
       "(100, 25, 36)"
      ]
     },
     "execution_count": 2,
     "metadata": {},
     "output_type": "execute_result"
    }
   ],
   "source": [
    "import math\n",
    "\n",
    "def f(x):\n",
    "    y = math.floor(math.sqrt(x))\n",
    "    lower = y ** 2\n",
    "    higher = (y+1) ** 2\n",
    "    return lower if (higher - x) > (x - lower) else higher\n",
    "\n",
    "f(99), f(21), f(31)"
   ]
  },
  {
   "cell_type": "code",
   "execution_count": 3,
   "metadata": {},
   "outputs": [
    {
     "name": "stdout",
     "output_type": "stream",
     "text": [
      "1 at [0]\n",
      "2 at [1]\n",
      "3 at [8]\n",
      "4 at [3]\n",
      "5 at [4, 6]\n",
      "6 is not in the list.\n",
      "7 at [7]\n",
      "8 at [2]\n",
      "9 at [5]\n",
      "10 at [9]\n"
     ]
    }
   ],
   "source": [
    "# Find the missing numbers, and the duplicated numbers.\n",
    "L = [1,2,8,4,5,9,5,7,3,10]\n",
    "for x in range(1, 1 + len(L)):\n",
    "    try:\n",
    "        y = L.index(x)\n",
    "        print(\"{} at [{}\".format(x,y), end=\"\")\n",
    "    except ValueError:\n",
    "        print(\"{} is not in the list.\".format(x))\n",
    "        continue\n",
    "    try:\n",
    "        z = L.index(x, y+1)\n",
    "        print(\", {}]\".format(z))\n",
    "    except ValueError:\n",
    "        print(\"]\")   "
   ]
  },
  {
   "cell_type": "code",
   "execution_count": 4,
   "metadata": {},
   "outputs": [
    {
     "name": "stdout",
     "output_type": "stream",
     "text": [
      "Analysing 'a13'\n",
      " Repeating 'a' for 13 times\n"
     ]
    },
    {
     "data": {
      "text/plain": [
       "'aaaaaaaaaaaaa'"
      ]
     },
     "execution_count": 4,
     "metadata": {},
     "output_type": "execute_result"
    }
   ],
   "source": [
    "def is_alphabet(x):\n",
    "    return \"a\" <= x.lower() <= \"z\"\n",
    "\n",
    "def func3(word):\n",
    "    print(\"Analysing '{}'\".format(word))\n",
    "    output = \"\"\n",
    "    i = 0; \n",
    "    while i < len(word):\n",
    "\n",
    "        str3 = \"\"\n",
    "        while i < len(word) and is_alphabet(word[i]):\n",
    "            str3 += word[i]\n",
    "            i += 1\n",
    "\n",
    "        num4 = \"\"\n",
    "        while i < len(word) and not is_alphabet(word[i]):\n",
    "            num4 += word[i]\n",
    "            i += 1\n",
    "\n",
    "        if str3 and num4:\n",
    "            print(\" Repeating '{}' for {} times\".format(str3, num4))\n",
    "            output += str3 * int(num4)\n",
    "    return output\n",
    "    \n",
    "\n",
    "# func3(\"a2bc3pqr13\")\n",
    "func3(\"a13\")\n"
   ]
  },
  {
   "cell_type": "code",
   "execution_count": 5,
   "metadata": {},
   "outputs": [
    {
     "data": {
      "text/plain": [
       "'Victor'"
      ]
     },
     "execution_count": 5,
     "metadata": {},
     "output_type": "execute_result"
    }
   ],
   "source": [
    "# To test the built-in get() function of Python Dictionary.\n",
    "{\"name\": \"Victor\", \"age\":42}.get(\"name\")"
   ]
  },
  {
   "cell_type": "code",
   "execution_count": 7,
   "metadata": {},
   "outputs": [
    {
     "data": {
      "text/plain": [
       "[3, 4, 5, 2, 1]"
      ]
     },
     "execution_count": 7,
     "metadata": {},
     "output_type": "execute_result"
    }
   ],
   "source": [
    "# To counts the digits of a number\n",
    "\n",
    "def count(x):\n",
    "    return len(str(x))\n",
    "\n",
    "# To verify the answer,\n",
    "[count(x) for x in (125, 1356, 10287, 25, 2)]"
   ]
  },
  {
   "cell_type": "code",
   "execution_count": 8,
   "metadata": {},
   "outputs": [
    {
     "name": "stdout",
     "output_type": "stream",
     "text": [
      "func1: {'a': '11', 'e': '2', 'f': '1', 'gkt': '2'}\n"
     ]
    },
    {
     "data": {
      "text/plain": [
       "'aaaaaaaaaaaeefgktgkt'"
      ]
     },
     "execution_count": 8,
     "metadata": {},
     "output_type": "execute_result"
    }
   ],
   "source": [
    "input = \"c3e2f1\"  # Expected output is \"cfegfg\"\n",
    "\n",
    "def is_alphabet(x):\n",
    "    return \"a\" <= x.lower() <= \"z\"\n",
    "\n",
    "def func1(string):\n",
    "    dict = {}  # A Dictionary\n",
    "    key = value = ''\n",
    "    i = 0\n",
    "    while True:\n",
    "        test = is_alphabet(string[i])\n",
    "        if test:\n",
    "            key += string[i]\n",
    "        else:\n",
    "            value += string[i]\n",
    "\n",
    "        if i+1 == len(string):\n",
    "            if key and value:\n",
    "                dict[key] = value\n",
    "            print(\"func1:\", dict)\n",
    "            return dict\n",
    "\n",
    "        if not test and is_alphabet(string[i+1]):\n",
    "            dict[key] = value\n",
    "            key = value = ''\n",
    "\n",
    "        i += 1\n",
    "\n",
    "def func2(string):\n",
    "    return ''.join([ key * int(value) for key, value in func1(string).items()])\n",
    "    # output = ''\n",
    "    # for key, value in func1(string).items():\n",
    "    #     print(\"func2:   {}: {}\".format(key, value))\n",
    "    #     output += key * int(value)\n",
    "    # return output\n",
    "\n",
    "func2('a11e2f1gkt2z')\n",
    "# func2(\"c3e2f1\")\n",
    "\n",
    "\n",
    "\n",
    "\n"
   ]
  },
  {
   "cell_type": "code",
   "execution_count": 9,
   "metadata": {},
   "outputs": [
    {
     "name": "stdout",
     "output_type": "stream",
     "text": [
      "[True, True, False, False, False]\n"
     ]
    }
   ],
   "source": [
    "def func1(string):\n",
    "    count = 0\n",
    "    for x in string:\n",
    "        if x == '(':\n",
    "            count += 1\n",
    "        elif x == ')':\n",
    "            count -= 1\n",
    "        else:\n",
    "            print(\"ERROR: Invalid charactor '{}'\".format(x))\n",
    "        if count < 0:\n",
    "            return False\n",
    "\n",
    "    return count == 0 \n",
    "\n",
    "# To test it,\n",
    "tests = ['()', '(())', '(()', '())', ')()(']\n",
    "print([func1(x) for x in tests])\n"
   ]
  }
 ],
 "metadata": {
  "kernelspec": {
   "display_name": "Python 3",
   "language": "python",
   "name": "python3"
  },
  "language_info": {
   "codemirror_mode": {
    "name": "ipython",
    "version": 3
   },
   "file_extension": ".py",
   "mimetype": "text/x-python",
   "name": "python",
   "nbconvert_exporter": "python",
   "pygments_lexer": "ipython3",
   "version": "3.8.8"
  }
 },
 "nbformat": 4,
 "nbformat_minor": 2
}
