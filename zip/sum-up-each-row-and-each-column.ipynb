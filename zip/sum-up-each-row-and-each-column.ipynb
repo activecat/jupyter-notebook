{
 "cells": [
  {
   "cell_type": "markdown",
   "id": "f4dbd9ed",
   "metadata": {},
   "source": [
    "<h4>Question asked by Afolabi Olahmi Peter <a href=\"https://web.facebook.com/groups/softwareskill/permalink/2593016627674102/\">here</a></h4>\n",
    "<p>\n",
    "wite a program that adds up the largest row sum and the largest column sum tom an N-rows \"M-columns array of numbers. As a preliminary phrase, you should reformat the sequence of numbers as a matra, whose number of rows and columns are to be specified as arguments. </p>\n",
    "    \n",
    "<pre>Input Specification: \n",
    "    input 1: Integer for row dimension of the array \n",
    "    input 2: Integer for column dimension of the array \n",
    "    input: Array elements to be entered in row major Output Specification: Largest row sum + Largest column sum\n",
    "</pre>    "
   ]
  },
  {
   "cell_type": "code",
   "execution_count": 1,
   "id": "5c1b6980",
   "metadata": {},
   "outputs": [],
   "source": [
    "rows = [\n",
    "  [1, 2, 3, 4],\n",
    "  [5, 6, 7, 9],\n",
    "  [9,10,11,12],\n",
    "]"
   ]
  },
  {
   "cell_type": "code",
   "execution_count": 2,
   "id": "b90f5439",
   "metadata": {},
   "outputs": [
    {
     "name": "stdout",
     "output_type": "stream",
     "text": [
      "Sum up each row: [10, 27, 42]\n"
     ]
    }
   ],
   "source": [
    "# To sum up each row,\n",
    "print(\"Sum up each row:\", [sum(x) for x in rows])"
   ]
  },
  {
   "cell_type": "code",
   "execution_count": 3,
   "id": "0436ccf5",
   "metadata": {},
   "outputs": [
    {
     "name": "stdout",
     "output_type": "stream",
     "text": [
      "Columns: [(1, 5, 9), (2, 6, 10), (3, 7, 11), (4, 9, 12)]\n",
      "Sum up each column: [15, 18, 21, 25]\n"
     ]
    }
   ],
   "source": [
    "# To sum up each column,\n",
    "columns = list(zip(rows[0], rows[1], rows[2]))\n",
    "print(\"Columns:\", columns)\n",
    "print(\"Sum up each column:\", [sum(x) for x in columns])"
   ]
  },
  {
   "cell_type": "code",
   "execution_count": null,
   "id": "cadc99be",
   "metadata": {},
   "outputs": [],
   "source": []
  }
 ],
 "metadata": {
  "kernelspec": {
   "display_name": "Python 3",
   "language": "python",
   "name": "python3"
  },
  "language_info": {
   "codemirror_mode": {
    "name": "ipython",
    "version": 3
   },
   "file_extension": ".py",
   "mimetype": "text/x-python",
   "name": "python",
   "nbconvert_exporter": "python",
   "pygments_lexer": "ipython3",
   "version": "3.8.8"
  }
 },
 "nbformat": 4,
 "nbformat_minor": 5
}
