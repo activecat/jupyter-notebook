{
 "cells": [
  {
   "cell_type": "markdown",
   "id": "0a98ac4b",
   "metadata": {},
   "source": [
    "<h3>Alwyn Miranda asked a <a href=\"https://web.facebook.com/groups/python/posts/983513939155837/\">question</a>:</h3>\n",
    "<pre>Hello everyone\n",
    "    a=[1,2,13]\n",
    "    b=[3,4,15]\n",
    "    c=[5,6,7]\n",
    "\n",
    "    list(zip(a,c)) -> [(1, 5), (2, 6), (13, 7)]\n",
    "\n",
    "Is there a way (list comprehension may be) where can i zip vertically?\n",
    "I want the answer as : \n",
    "  [(1, 13), (3, 15), (5, 7)]\n",
    "</pre>"
   ]
  },
  {
   "cell_type": "code",
   "execution_count": 1,
   "id": "b65237a0",
   "metadata": {},
   "outputs": [
    {
     "data": {
      "text/plain": [
       "[(1, 13), (3, 15), (5, 7), (9, 5), (7, 1)]"
      ]
     },
     "execution_count": 1,
     "metadata": {},
     "output_type": "execute_result"
    }
   ],
   "source": [
    "# Solution: long version\n",
    "\n",
    "a=[1,2,13]\n",
    "b=[3,4,15]\n",
    "c=[5,6,7]\n",
    "d=[7,8,1]\n",
    "e=[9,10,5]\n",
    "\n",
    "def func1(*args):\n",
    "    return [(x[0], x[-1]) for x in args]\n",
    "\n",
    "func1(a,b,c,e,d)    "
   ]
  },
  {
   "cell_type": "code",
   "execution_count": 2,
   "id": "9da41a42",
   "metadata": {},
   "outputs": [
    {
     "name": "stdout",
     "output_type": "stream",
     "text": [
      "[(1, 13), (3, 15), (5, 7), (7, 1), (9, 5)]\n"
     ]
    }
   ],
   "source": [
    "# Solution: Short version\n",
    "\n",
    "a=[1,2,13]\n",
    "b=[3,4,15]\n",
    "c=[5,6,7]\n",
    "d=[7,8,1]\n",
    "e=[9,10,5]\n",
    "\n",
    "print([(x[0], x[-1]) for x in (a,b,c,d,e)])"
   ]
  },
  {
   "cell_type": "code",
   "execution_count": null,
   "id": "d3f9d604",
   "metadata": {},
   "outputs": [],
   "source": []
  }
 ],
 "metadata": {
  "kernelspec": {
   "display_name": "Python 3",
   "language": "python",
   "name": "python3"
  },
  "language_info": {
   "codemirror_mode": {
    "name": "ipython",
    "version": 3
   },
   "file_extension": ".py",
   "mimetype": "text/x-python",
   "name": "python",
   "nbconvert_exporter": "python",
   "pygments_lexer": "ipython3",
   "version": "3.8.8"
  }
 },
 "nbformat": 4,
 "nbformat_minor": 5
}
